{
 "cells": [
  {
   "cell_type": "markdown",
   "metadata": {
    "id": "1H2xxJkYjuG_"
   },
   "source": [
    "# **ANÁLISE E EXPLORAÇÃO DOS DADOS**"
   ]
  },
  {
   "cell_type": "code",
   "execution_count": null,
   "metadata": {
    "id": "83EtYcINBEA-"
   },
   "outputs": [],
   "source": [
    "#from google.colab import drive\n",
    "#drive.mount('/content/drive')"
   ]
  },
  {
   "cell_type": "code",
   "execution_count": 1,
   "metadata": {
    "id": "yOlrQ7C-CVdr"
   },
   "outputs": [],
   "source": [
    "import pandas as pd\n",
    "import numpy as np\n",
    "import matplotlib.pyplot as plt"
   ]
  },
  {
   "cell_type": "code",
   "execution_count": 2,
   "metadata": {
    "id": "vXLm3cJMlLtC"
   },
   "outputs": [],
   "source": [
    "import warnings\n",
    "warnings.filterwarnings(\"ignore\")"
   ]
  },
  {
   "cell_type": "markdown",
   "metadata": {
    "id": "V5x3-qZdt5vA"
   },
   "source": [
    "https://www.kaggle.com/uciml/breast-cancer-wisconsin-data "
   ]
  },
  {
   "cell_type": "code",
   "execution_count": 5,
   "metadata": {
    "id": "LRIrwcC8kUhT"
   },
   "outputs": [],
   "source": [
    "df = pd.read_csv('C:/Users/Luiz Philipe Rangel/Dropbox/PC/Desktop/Curso - Otimização de Hiperparâmetros/data_cancer.csv',\n",
    "                    sep=',', encoding='utf-8')"
   ]
  },
  {
   "cell_type": "code",
   "execution_count": 6,
   "metadata": {
    "id": "QtugliripIyp"
   },
   "outputs": [
    {
     "data": {
      "text/html": [
       "<div>\n",
       "<style scoped>\n",
       "    .dataframe tbody tr th:only-of-type {\n",
       "        vertical-align: middle;\n",
       "    }\n",
       "\n",
       "    .dataframe tbody tr th {\n",
       "        vertical-align: top;\n",
       "    }\n",
       "\n",
       "    .dataframe thead th {\n",
       "        text-align: right;\n",
       "    }\n",
       "</style>\n",
       "<table border=\"1\" class=\"dataframe\">\n",
       "  <thead>\n",
       "    <tr style=\"text-align: right;\">\n",
       "      <th></th>\n",
       "      <th>id</th>\n",
       "      <th>diagnosis</th>\n",
       "      <th>radius_mean</th>\n",
       "      <th>texture_mean</th>\n",
       "      <th>perimeter_mean</th>\n",
       "      <th>area_mean</th>\n",
       "      <th>smoothness_mean</th>\n",
       "      <th>compactness_mean</th>\n",
       "      <th>concavity_mean</th>\n",
       "      <th>concave points_mean</th>\n",
       "      <th>...</th>\n",
       "      <th>texture_worst</th>\n",
       "      <th>perimeter_worst</th>\n",
       "      <th>area_worst</th>\n",
       "      <th>smoothness_worst</th>\n",
       "      <th>compactness_worst</th>\n",
       "      <th>concavity_worst</th>\n",
       "      <th>concave points_worst</th>\n",
       "      <th>symmetry_worst</th>\n",
       "      <th>fractal_dimension_worst</th>\n",
       "      <th>Unnamed: 32</th>\n",
       "    </tr>\n",
       "  </thead>\n",
       "  <tbody>\n",
       "    <tr>\n",
       "      <th>0</th>\n",
       "      <td>842302</td>\n",
       "      <td>M</td>\n",
       "      <td>17.99</td>\n",
       "      <td>10.38</td>\n",
       "      <td>122.80</td>\n",
       "      <td>1001.0</td>\n",
       "      <td>0.11840</td>\n",
       "      <td>0.27760</td>\n",
       "      <td>0.3001</td>\n",
       "      <td>0.14710</td>\n",
       "      <td>...</td>\n",
       "      <td>17.33</td>\n",
       "      <td>184.60</td>\n",
       "      <td>2019.0</td>\n",
       "      <td>0.1622</td>\n",
       "      <td>0.6656</td>\n",
       "      <td>0.7119</td>\n",
       "      <td>0.2654</td>\n",
       "      <td>0.4601</td>\n",
       "      <td>0.11890</td>\n",
       "      <td>NaN</td>\n",
       "    </tr>\n",
       "    <tr>\n",
       "      <th>1</th>\n",
       "      <td>842517</td>\n",
       "      <td>M</td>\n",
       "      <td>20.57</td>\n",
       "      <td>17.77</td>\n",
       "      <td>132.90</td>\n",
       "      <td>1326.0</td>\n",
       "      <td>0.08474</td>\n",
       "      <td>0.07864</td>\n",
       "      <td>0.0869</td>\n",
       "      <td>0.07017</td>\n",
       "      <td>...</td>\n",
       "      <td>23.41</td>\n",
       "      <td>158.80</td>\n",
       "      <td>1956.0</td>\n",
       "      <td>0.1238</td>\n",
       "      <td>0.1866</td>\n",
       "      <td>0.2416</td>\n",
       "      <td>0.1860</td>\n",
       "      <td>0.2750</td>\n",
       "      <td>0.08902</td>\n",
       "      <td>NaN</td>\n",
       "    </tr>\n",
       "    <tr>\n",
       "      <th>2</th>\n",
       "      <td>84300903</td>\n",
       "      <td>M</td>\n",
       "      <td>19.69</td>\n",
       "      <td>21.25</td>\n",
       "      <td>130.00</td>\n",
       "      <td>1203.0</td>\n",
       "      <td>0.10960</td>\n",
       "      <td>0.15990</td>\n",
       "      <td>0.1974</td>\n",
       "      <td>0.12790</td>\n",
       "      <td>...</td>\n",
       "      <td>25.53</td>\n",
       "      <td>152.50</td>\n",
       "      <td>1709.0</td>\n",
       "      <td>0.1444</td>\n",
       "      <td>0.4245</td>\n",
       "      <td>0.4504</td>\n",
       "      <td>0.2430</td>\n",
       "      <td>0.3613</td>\n",
       "      <td>0.08758</td>\n",
       "      <td>NaN</td>\n",
       "    </tr>\n",
       "    <tr>\n",
       "      <th>3</th>\n",
       "      <td>84348301</td>\n",
       "      <td>M</td>\n",
       "      <td>11.42</td>\n",
       "      <td>20.38</td>\n",
       "      <td>77.58</td>\n",
       "      <td>386.1</td>\n",
       "      <td>0.14250</td>\n",
       "      <td>0.28390</td>\n",
       "      <td>0.2414</td>\n",
       "      <td>0.10520</td>\n",
       "      <td>...</td>\n",
       "      <td>26.50</td>\n",
       "      <td>98.87</td>\n",
       "      <td>567.7</td>\n",
       "      <td>0.2098</td>\n",
       "      <td>0.8663</td>\n",
       "      <td>0.6869</td>\n",
       "      <td>0.2575</td>\n",
       "      <td>0.6638</td>\n",
       "      <td>0.17300</td>\n",
       "      <td>NaN</td>\n",
       "    </tr>\n",
       "    <tr>\n",
       "      <th>4</th>\n",
       "      <td>84358402</td>\n",
       "      <td>M</td>\n",
       "      <td>20.29</td>\n",
       "      <td>14.34</td>\n",
       "      <td>135.10</td>\n",
       "      <td>1297.0</td>\n",
       "      <td>0.10030</td>\n",
       "      <td>0.13280</td>\n",
       "      <td>0.1980</td>\n",
       "      <td>0.10430</td>\n",
       "      <td>...</td>\n",
       "      <td>16.67</td>\n",
       "      <td>152.20</td>\n",
       "      <td>1575.0</td>\n",
       "      <td>0.1374</td>\n",
       "      <td>0.2050</td>\n",
       "      <td>0.4000</td>\n",
       "      <td>0.1625</td>\n",
       "      <td>0.2364</td>\n",
       "      <td>0.07678</td>\n",
       "      <td>NaN</td>\n",
       "    </tr>\n",
       "  </tbody>\n",
       "</table>\n",
       "<p>5 rows × 33 columns</p>\n",
       "</div>"
      ],
      "text/plain": [
       "         id diagnosis  radius_mean  texture_mean  perimeter_mean  area_mean  \\\n",
       "0    842302         M        17.99         10.38          122.80     1001.0   \n",
       "1    842517         M        20.57         17.77          132.90     1326.0   \n",
       "2  84300903         M        19.69         21.25          130.00     1203.0   \n",
       "3  84348301         M        11.42         20.38           77.58      386.1   \n",
       "4  84358402         M        20.29         14.34          135.10     1297.0   \n",
       "\n",
       "   smoothness_mean  compactness_mean  concavity_mean  concave points_mean  \\\n",
       "0          0.11840           0.27760          0.3001              0.14710   \n",
       "1          0.08474           0.07864          0.0869              0.07017   \n",
       "2          0.10960           0.15990          0.1974              0.12790   \n",
       "3          0.14250           0.28390          0.2414              0.10520   \n",
       "4          0.10030           0.13280          0.1980              0.10430   \n",
       "\n",
       "   ...  texture_worst  perimeter_worst  area_worst  smoothness_worst  \\\n",
       "0  ...          17.33           184.60      2019.0            0.1622   \n",
       "1  ...          23.41           158.80      1956.0            0.1238   \n",
       "2  ...          25.53           152.50      1709.0            0.1444   \n",
       "3  ...          26.50            98.87       567.7            0.2098   \n",
       "4  ...          16.67           152.20      1575.0            0.1374   \n",
       "\n",
       "   compactness_worst  concavity_worst  concave points_worst  symmetry_worst  \\\n",
       "0             0.6656           0.7119                0.2654          0.4601   \n",
       "1             0.1866           0.2416                0.1860          0.2750   \n",
       "2             0.4245           0.4504                0.2430          0.3613   \n",
       "3             0.8663           0.6869                0.2575          0.6638   \n",
       "4             0.2050           0.4000                0.1625          0.2364   \n",
       "\n",
       "   fractal_dimension_worst  Unnamed: 32  \n",
       "0                  0.11890          NaN  \n",
       "1                  0.08902          NaN  \n",
       "2                  0.08758          NaN  \n",
       "3                  0.17300          NaN  \n",
       "4                  0.07678          NaN  \n",
       "\n",
       "[5 rows x 33 columns]"
      ]
     },
     "execution_count": 6,
     "metadata": {},
     "output_type": "execute_result"
    }
   ],
   "source": [
    "df.head()"
   ]
  },
  {
   "cell_type": "code",
   "execution_count": 7,
   "metadata": {
    "id": "NSH5-od1gRAU"
   },
   "outputs": [
    {
     "data": {
      "text/plain": [
       "(569, 33)"
      ]
     },
     "execution_count": 7,
     "metadata": {},
     "output_type": "execute_result"
    }
   ],
   "source": [
    "df.shape"
   ]
  },
  {
   "cell_type": "code",
   "execution_count": 8,
   "metadata": {
    "id": "jH3NTUzNgAHg"
   },
   "outputs": [],
   "source": [
    "df2 = df.drop(columns=['id','Unnamed: 32'])"
   ]
  },
  {
   "cell_type": "code",
   "execution_count": 9,
   "metadata": {
    "id": "wsjv0j9zgLIn"
   },
   "outputs": [
    {
     "data": {
      "text/html": [
       "<div>\n",
       "<style scoped>\n",
       "    .dataframe tbody tr th:only-of-type {\n",
       "        vertical-align: middle;\n",
       "    }\n",
       "\n",
       "    .dataframe tbody tr th {\n",
       "        vertical-align: top;\n",
       "    }\n",
       "\n",
       "    .dataframe thead th {\n",
       "        text-align: right;\n",
       "    }\n",
       "</style>\n",
       "<table border=\"1\" class=\"dataframe\">\n",
       "  <thead>\n",
       "    <tr style=\"text-align: right;\">\n",
       "      <th></th>\n",
       "      <th>diagnosis</th>\n",
       "      <th>radius_mean</th>\n",
       "      <th>texture_mean</th>\n",
       "      <th>perimeter_mean</th>\n",
       "      <th>area_mean</th>\n",
       "      <th>smoothness_mean</th>\n",
       "      <th>compactness_mean</th>\n",
       "      <th>concavity_mean</th>\n",
       "      <th>concave points_mean</th>\n",
       "      <th>symmetry_mean</th>\n",
       "      <th>...</th>\n",
       "      <th>radius_worst</th>\n",
       "      <th>texture_worst</th>\n",
       "      <th>perimeter_worst</th>\n",
       "      <th>area_worst</th>\n",
       "      <th>smoothness_worst</th>\n",
       "      <th>compactness_worst</th>\n",
       "      <th>concavity_worst</th>\n",
       "      <th>concave points_worst</th>\n",
       "      <th>symmetry_worst</th>\n",
       "      <th>fractal_dimension_worst</th>\n",
       "    </tr>\n",
       "  </thead>\n",
       "  <tbody>\n",
       "    <tr>\n",
       "      <th>0</th>\n",
       "      <td>M</td>\n",
       "      <td>17.99</td>\n",
       "      <td>10.38</td>\n",
       "      <td>122.80</td>\n",
       "      <td>1001.0</td>\n",
       "      <td>0.11840</td>\n",
       "      <td>0.27760</td>\n",
       "      <td>0.3001</td>\n",
       "      <td>0.14710</td>\n",
       "      <td>0.2419</td>\n",
       "      <td>...</td>\n",
       "      <td>25.38</td>\n",
       "      <td>17.33</td>\n",
       "      <td>184.60</td>\n",
       "      <td>2019.0</td>\n",
       "      <td>0.1622</td>\n",
       "      <td>0.6656</td>\n",
       "      <td>0.7119</td>\n",
       "      <td>0.2654</td>\n",
       "      <td>0.4601</td>\n",
       "      <td>0.11890</td>\n",
       "    </tr>\n",
       "    <tr>\n",
       "      <th>1</th>\n",
       "      <td>M</td>\n",
       "      <td>20.57</td>\n",
       "      <td>17.77</td>\n",
       "      <td>132.90</td>\n",
       "      <td>1326.0</td>\n",
       "      <td>0.08474</td>\n",
       "      <td>0.07864</td>\n",
       "      <td>0.0869</td>\n",
       "      <td>0.07017</td>\n",
       "      <td>0.1812</td>\n",
       "      <td>...</td>\n",
       "      <td>24.99</td>\n",
       "      <td>23.41</td>\n",
       "      <td>158.80</td>\n",
       "      <td>1956.0</td>\n",
       "      <td>0.1238</td>\n",
       "      <td>0.1866</td>\n",
       "      <td>0.2416</td>\n",
       "      <td>0.1860</td>\n",
       "      <td>0.2750</td>\n",
       "      <td>0.08902</td>\n",
       "    </tr>\n",
       "    <tr>\n",
       "      <th>2</th>\n",
       "      <td>M</td>\n",
       "      <td>19.69</td>\n",
       "      <td>21.25</td>\n",
       "      <td>130.00</td>\n",
       "      <td>1203.0</td>\n",
       "      <td>0.10960</td>\n",
       "      <td>0.15990</td>\n",
       "      <td>0.1974</td>\n",
       "      <td>0.12790</td>\n",
       "      <td>0.2069</td>\n",
       "      <td>...</td>\n",
       "      <td>23.57</td>\n",
       "      <td>25.53</td>\n",
       "      <td>152.50</td>\n",
       "      <td>1709.0</td>\n",
       "      <td>0.1444</td>\n",
       "      <td>0.4245</td>\n",
       "      <td>0.4504</td>\n",
       "      <td>0.2430</td>\n",
       "      <td>0.3613</td>\n",
       "      <td>0.08758</td>\n",
       "    </tr>\n",
       "    <tr>\n",
       "      <th>3</th>\n",
       "      <td>M</td>\n",
       "      <td>11.42</td>\n",
       "      <td>20.38</td>\n",
       "      <td>77.58</td>\n",
       "      <td>386.1</td>\n",
       "      <td>0.14250</td>\n",
       "      <td>0.28390</td>\n",
       "      <td>0.2414</td>\n",
       "      <td>0.10520</td>\n",
       "      <td>0.2597</td>\n",
       "      <td>...</td>\n",
       "      <td>14.91</td>\n",
       "      <td>26.50</td>\n",
       "      <td>98.87</td>\n",
       "      <td>567.7</td>\n",
       "      <td>0.2098</td>\n",
       "      <td>0.8663</td>\n",
       "      <td>0.6869</td>\n",
       "      <td>0.2575</td>\n",
       "      <td>0.6638</td>\n",
       "      <td>0.17300</td>\n",
       "    </tr>\n",
       "    <tr>\n",
       "      <th>4</th>\n",
       "      <td>M</td>\n",
       "      <td>20.29</td>\n",
       "      <td>14.34</td>\n",
       "      <td>135.10</td>\n",
       "      <td>1297.0</td>\n",
       "      <td>0.10030</td>\n",
       "      <td>0.13280</td>\n",
       "      <td>0.1980</td>\n",
       "      <td>0.10430</td>\n",
       "      <td>0.1809</td>\n",
       "      <td>...</td>\n",
       "      <td>22.54</td>\n",
       "      <td>16.67</td>\n",
       "      <td>152.20</td>\n",
       "      <td>1575.0</td>\n",
       "      <td>0.1374</td>\n",
       "      <td>0.2050</td>\n",
       "      <td>0.4000</td>\n",
       "      <td>0.1625</td>\n",
       "      <td>0.2364</td>\n",
       "      <td>0.07678</td>\n",
       "    </tr>\n",
       "  </tbody>\n",
       "</table>\n",
       "<p>5 rows × 31 columns</p>\n",
       "</div>"
      ],
      "text/plain": [
       "  diagnosis  radius_mean  texture_mean  perimeter_mean  area_mean  \\\n",
       "0         M        17.99         10.38          122.80     1001.0   \n",
       "1         M        20.57         17.77          132.90     1326.0   \n",
       "2         M        19.69         21.25          130.00     1203.0   \n",
       "3         M        11.42         20.38           77.58      386.1   \n",
       "4         M        20.29         14.34          135.10     1297.0   \n",
       "\n",
       "   smoothness_mean  compactness_mean  concavity_mean  concave points_mean  \\\n",
       "0          0.11840           0.27760          0.3001              0.14710   \n",
       "1          0.08474           0.07864          0.0869              0.07017   \n",
       "2          0.10960           0.15990          0.1974              0.12790   \n",
       "3          0.14250           0.28390          0.2414              0.10520   \n",
       "4          0.10030           0.13280          0.1980              0.10430   \n",
       "\n",
       "   symmetry_mean  ...  radius_worst  texture_worst  perimeter_worst  \\\n",
       "0         0.2419  ...         25.38          17.33           184.60   \n",
       "1         0.1812  ...         24.99          23.41           158.80   \n",
       "2         0.2069  ...         23.57          25.53           152.50   \n",
       "3         0.2597  ...         14.91          26.50            98.87   \n",
       "4         0.1809  ...         22.54          16.67           152.20   \n",
       "\n",
       "   area_worst  smoothness_worst  compactness_worst  concavity_worst  \\\n",
       "0      2019.0            0.1622             0.6656           0.7119   \n",
       "1      1956.0            0.1238             0.1866           0.2416   \n",
       "2      1709.0            0.1444             0.4245           0.4504   \n",
       "3       567.7            0.2098             0.8663           0.6869   \n",
       "4      1575.0            0.1374             0.2050           0.4000   \n",
       "\n",
       "   concave points_worst  symmetry_worst  fractal_dimension_worst  \n",
       "0                0.2654          0.4601                  0.11890  \n",
       "1                0.1860          0.2750                  0.08902  \n",
       "2                0.2430          0.3613                  0.08758  \n",
       "3                0.2575          0.6638                  0.17300  \n",
       "4                0.1625          0.2364                  0.07678  \n",
       "\n",
       "[5 rows x 31 columns]"
      ]
     },
     "execution_count": 9,
     "metadata": {},
     "output_type": "execute_result"
    }
   ],
   "source": [
    "df2.head()"
   ]
  },
  {
   "cell_type": "code",
   "execution_count": 10,
   "metadata": {
    "id": "eD_JqU7MgZcV"
   },
   "outputs": [
    {
     "data": {
      "text/plain": [
       "diagnosis                   object\n",
       "radius_mean                float64\n",
       "texture_mean               float64\n",
       "perimeter_mean             float64\n",
       "area_mean                  float64\n",
       "smoothness_mean            float64\n",
       "compactness_mean           float64\n",
       "concavity_mean             float64\n",
       "concave points_mean        float64\n",
       "symmetry_mean              float64\n",
       "fractal_dimension_mean     float64\n",
       "radius_se                  float64\n",
       "texture_se                 float64\n",
       "perimeter_se               float64\n",
       "area_se                    float64\n",
       "smoothness_se              float64\n",
       "compactness_se             float64\n",
       "concavity_se               float64\n",
       "concave points_se          float64\n",
       "symmetry_se                float64\n",
       "fractal_dimension_se       float64\n",
       "radius_worst               float64\n",
       "texture_worst              float64\n",
       "perimeter_worst            float64\n",
       "area_worst                 float64\n",
       "smoothness_worst           float64\n",
       "compactness_worst          float64\n",
       "concavity_worst            float64\n",
       "concave points_worst       float64\n",
       "symmetry_worst             float64\n",
       "fractal_dimension_worst    float64\n",
       "dtype: object"
      ]
     },
     "execution_count": 10,
     "metadata": {},
     "output_type": "execute_result"
    }
   ],
   "source": [
    "df2.dtypes"
   ]
  },
  {
   "cell_type": "code",
   "execution_count": 11,
   "metadata": {
    "id": "oRZk_qOyggK-"
   },
   "outputs": [],
   "source": [
    "df3 = pd.DataFrame.copy(df2)"
   ]
  },
  {
   "cell_type": "code",
   "execution_count": 12,
   "metadata": {
    "id": "6HTicqX0gx1W"
   },
   "outputs": [
    {
     "data": {
      "text/html": [
       "<div>\n",
       "<style scoped>\n",
       "    .dataframe tbody tr th:only-of-type {\n",
       "        vertical-align: middle;\n",
       "    }\n",
       "\n",
       "    .dataframe tbody tr th {\n",
       "        vertical-align: top;\n",
       "    }\n",
       "\n",
       "    .dataframe thead th {\n",
       "        text-align: right;\n",
       "    }\n",
       "</style>\n",
       "<table border=\"1\" class=\"dataframe\">\n",
       "  <thead>\n",
       "    <tr style=\"text-align: right;\">\n",
       "      <th></th>\n",
       "      <th>diagnosis</th>\n",
       "      <th>radius_mean</th>\n",
       "      <th>texture_mean</th>\n",
       "      <th>perimeter_mean</th>\n",
       "      <th>area_mean</th>\n",
       "      <th>smoothness_mean</th>\n",
       "      <th>compactness_mean</th>\n",
       "      <th>concavity_mean</th>\n",
       "      <th>concave points_mean</th>\n",
       "      <th>symmetry_mean</th>\n",
       "      <th>...</th>\n",
       "      <th>radius_worst</th>\n",
       "      <th>texture_worst</th>\n",
       "      <th>perimeter_worst</th>\n",
       "      <th>area_worst</th>\n",
       "      <th>smoothness_worst</th>\n",
       "      <th>compactness_worst</th>\n",
       "      <th>concavity_worst</th>\n",
       "      <th>concave points_worst</th>\n",
       "      <th>symmetry_worst</th>\n",
       "      <th>fractal_dimension_worst</th>\n",
       "    </tr>\n",
       "  </thead>\n",
       "  <tbody>\n",
       "    <tr>\n",
       "      <th>0</th>\n",
       "      <td>0</td>\n",
       "      <td>17.99</td>\n",
       "      <td>10.38</td>\n",
       "      <td>122.80</td>\n",
       "      <td>1001.0</td>\n",
       "      <td>0.11840</td>\n",
       "      <td>0.27760</td>\n",
       "      <td>0.3001</td>\n",
       "      <td>0.14710</td>\n",
       "      <td>0.2419</td>\n",
       "      <td>...</td>\n",
       "      <td>25.38</td>\n",
       "      <td>17.33</td>\n",
       "      <td>184.60</td>\n",
       "      <td>2019.0</td>\n",
       "      <td>0.1622</td>\n",
       "      <td>0.6656</td>\n",
       "      <td>0.7119</td>\n",
       "      <td>0.2654</td>\n",
       "      <td>0.4601</td>\n",
       "      <td>0.11890</td>\n",
       "    </tr>\n",
       "    <tr>\n",
       "      <th>1</th>\n",
       "      <td>0</td>\n",
       "      <td>20.57</td>\n",
       "      <td>17.77</td>\n",
       "      <td>132.90</td>\n",
       "      <td>1326.0</td>\n",
       "      <td>0.08474</td>\n",
       "      <td>0.07864</td>\n",
       "      <td>0.0869</td>\n",
       "      <td>0.07017</td>\n",
       "      <td>0.1812</td>\n",
       "      <td>...</td>\n",
       "      <td>24.99</td>\n",
       "      <td>23.41</td>\n",
       "      <td>158.80</td>\n",
       "      <td>1956.0</td>\n",
       "      <td>0.1238</td>\n",
       "      <td>0.1866</td>\n",
       "      <td>0.2416</td>\n",
       "      <td>0.1860</td>\n",
       "      <td>0.2750</td>\n",
       "      <td>0.08902</td>\n",
       "    </tr>\n",
       "    <tr>\n",
       "      <th>2</th>\n",
       "      <td>0</td>\n",
       "      <td>19.69</td>\n",
       "      <td>21.25</td>\n",
       "      <td>130.00</td>\n",
       "      <td>1203.0</td>\n",
       "      <td>0.10960</td>\n",
       "      <td>0.15990</td>\n",
       "      <td>0.1974</td>\n",
       "      <td>0.12790</td>\n",
       "      <td>0.2069</td>\n",
       "      <td>...</td>\n",
       "      <td>23.57</td>\n",
       "      <td>25.53</td>\n",
       "      <td>152.50</td>\n",
       "      <td>1709.0</td>\n",
       "      <td>0.1444</td>\n",
       "      <td>0.4245</td>\n",
       "      <td>0.4504</td>\n",
       "      <td>0.2430</td>\n",
       "      <td>0.3613</td>\n",
       "      <td>0.08758</td>\n",
       "    </tr>\n",
       "    <tr>\n",
       "      <th>3</th>\n",
       "      <td>0</td>\n",
       "      <td>11.42</td>\n",
       "      <td>20.38</td>\n",
       "      <td>77.58</td>\n",
       "      <td>386.1</td>\n",
       "      <td>0.14250</td>\n",
       "      <td>0.28390</td>\n",
       "      <td>0.2414</td>\n",
       "      <td>0.10520</td>\n",
       "      <td>0.2597</td>\n",
       "      <td>...</td>\n",
       "      <td>14.91</td>\n",
       "      <td>26.50</td>\n",
       "      <td>98.87</td>\n",
       "      <td>567.7</td>\n",
       "      <td>0.2098</td>\n",
       "      <td>0.8663</td>\n",
       "      <td>0.6869</td>\n",
       "      <td>0.2575</td>\n",
       "      <td>0.6638</td>\n",
       "      <td>0.17300</td>\n",
       "    </tr>\n",
       "    <tr>\n",
       "      <th>4</th>\n",
       "      <td>0</td>\n",
       "      <td>20.29</td>\n",
       "      <td>14.34</td>\n",
       "      <td>135.10</td>\n",
       "      <td>1297.0</td>\n",
       "      <td>0.10030</td>\n",
       "      <td>0.13280</td>\n",
       "      <td>0.1980</td>\n",
       "      <td>0.10430</td>\n",
       "      <td>0.1809</td>\n",
       "      <td>...</td>\n",
       "      <td>22.54</td>\n",
       "      <td>16.67</td>\n",
       "      <td>152.20</td>\n",
       "      <td>1575.0</td>\n",
       "      <td>0.1374</td>\n",
       "      <td>0.2050</td>\n",
       "      <td>0.4000</td>\n",
       "      <td>0.1625</td>\n",
       "      <td>0.2364</td>\n",
       "      <td>0.07678</td>\n",
       "    </tr>\n",
       "  </tbody>\n",
       "</table>\n",
       "<p>5 rows × 31 columns</p>\n",
       "</div>"
      ],
      "text/plain": [
       "   diagnosis  radius_mean  texture_mean  perimeter_mean  area_mean  \\\n",
       "0          0        17.99         10.38          122.80     1001.0   \n",
       "1          0        20.57         17.77          132.90     1326.0   \n",
       "2          0        19.69         21.25          130.00     1203.0   \n",
       "3          0        11.42         20.38           77.58      386.1   \n",
       "4          0        20.29         14.34          135.10     1297.0   \n",
       "\n",
       "   smoothness_mean  compactness_mean  concavity_mean  concave points_mean  \\\n",
       "0          0.11840           0.27760          0.3001              0.14710   \n",
       "1          0.08474           0.07864          0.0869              0.07017   \n",
       "2          0.10960           0.15990          0.1974              0.12790   \n",
       "3          0.14250           0.28390          0.2414              0.10520   \n",
       "4          0.10030           0.13280          0.1980              0.10430   \n",
       "\n",
       "   symmetry_mean  ...  radius_worst  texture_worst  perimeter_worst  \\\n",
       "0         0.2419  ...         25.38          17.33           184.60   \n",
       "1         0.1812  ...         24.99          23.41           158.80   \n",
       "2         0.2069  ...         23.57          25.53           152.50   \n",
       "3         0.2597  ...         14.91          26.50            98.87   \n",
       "4         0.1809  ...         22.54          16.67           152.20   \n",
       "\n",
       "   area_worst  smoothness_worst  compactness_worst  concavity_worst  \\\n",
       "0      2019.0            0.1622             0.6656           0.7119   \n",
       "1      1956.0            0.1238             0.1866           0.2416   \n",
       "2      1709.0            0.1444             0.4245           0.4504   \n",
       "3       567.7            0.2098             0.8663           0.6869   \n",
       "4      1575.0            0.1374             0.2050           0.4000   \n",
       "\n",
       "   concave points_worst  symmetry_worst  fractal_dimension_worst  \n",
       "0                0.2654          0.4601                  0.11890  \n",
       "1                0.1860          0.2750                  0.08902  \n",
       "2                0.2430          0.3613                  0.08758  \n",
       "3                0.2575          0.6638                  0.17300  \n",
       "4                0.1625          0.2364                  0.07678  \n",
       "\n",
       "[5 rows x 31 columns]"
      ]
     },
     "execution_count": 12,
     "metadata": {},
     "output_type": "execute_result"
    }
   ],
   "source": [
    "df3['diagnosis'].replace({'M':0, 'B': 1}, inplace=True)\n",
    "df3.head()"
   ]
  },
  {
   "cell_type": "code",
   "execution_count": 13,
   "metadata": {
    "id": "ENgv9Su9tIi0"
   },
   "outputs": [
    {
     "data": {
      "text/plain": [
       "diagnosis                    int64\n",
       "radius_mean                float64\n",
       "texture_mean               float64\n",
       "perimeter_mean             float64\n",
       "area_mean                  float64\n",
       "smoothness_mean            float64\n",
       "compactness_mean           float64\n",
       "concavity_mean             float64\n",
       "concave points_mean        float64\n",
       "symmetry_mean              float64\n",
       "fractal_dimension_mean     float64\n",
       "radius_se                  float64\n",
       "texture_se                 float64\n",
       "perimeter_se               float64\n",
       "area_se                    float64\n",
       "smoothness_se              float64\n",
       "compactness_se             float64\n",
       "concavity_se               float64\n",
       "concave points_se          float64\n",
       "symmetry_se                float64\n",
       "fractal_dimension_se       float64\n",
       "radius_worst               float64\n",
       "texture_worst              float64\n",
       "perimeter_worst            float64\n",
       "area_worst                 float64\n",
       "smoothness_worst           float64\n",
       "compactness_worst          float64\n",
       "concavity_worst            float64\n",
       "concave points_worst       float64\n",
       "symmetry_worst             float64\n",
       "fractal_dimension_worst    float64\n",
       "dtype: object"
      ]
     },
     "execution_count": 13,
     "metadata": {},
     "output_type": "execute_result"
    }
   ],
   "source": [
    "df3.dtypes"
   ]
  },
  {
   "cell_type": "code",
   "execution_count": 14,
   "metadata": {
    "id": "TxPu91y5B45R"
   },
   "outputs": [
    {
     "data": {
      "text/plain": [
       "1    0.627417\n",
       "0    0.372583\n",
       "Name: diagnosis, dtype: float64"
      ]
     },
     "execution_count": 14,
     "metadata": {},
     "output_type": "execute_result"
    }
   ],
   "source": [
    "# Fração de tumores benignos (1) e malignos (0)\n",
    "\n",
    "df3.diagnosis.value_counts() / len(df3.diagnosis)"
   ]
  },
  {
   "cell_type": "markdown",
   "metadata": {
    "id": "yETX-mrG_-dD"
   },
   "source": [
    "# **PRÉ-PROCESSAMENTO**"
   ]
  },
  {
   "cell_type": "markdown",
   "metadata": {
    "id": "Mc61PWcrj6is"
   },
   "source": [
    "## **Separação em Variáveis Previsoras e Alvo**"
   ]
  },
  {
   "cell_type": "code",
   "execution_count": 15,
   "metadata": {
    "id": "3Pe4SSf3iIHr"
   },
   "outputs": [
    {
     "data": {
      "text/plain": [
       "array([[1.799e+01, 1.038e+01, 1.228e+02, ..., 2.654e-01, 4.601e-01,\n",
       "        1.189e-01],\n",
       "       [2.057e+01, 1.777e+01, 1.329e+02, ..., 1.860e-01, 2.750e-01,\n",
       "        8.902e-02],\n",
       "       [1.969e+01, 2.125e+01, 1.300e+02, ..., 2.430e-01, 3.613e-01,\n",
       "        8.758e-02],\n",
       "       ...,\n",
       "       [1.660e+01, 2.808e+01, 1.083e+02, ..., 1.418e-01, 2.218e-01,\n",
       "        7.820e-02],\n",
       "       [2.060e+01, 2.933e+01, 1.401e+02, ..., 2.650e-01, 4.087e-01,\n",
       "        1.240e-01],\n",
       "       [7.760e+00, 2.454e+01, 4.792e+01, ..., 0.000e+00, 2.871e-01,\n",
       "        7.039e-02]])"
      ]
     },
     "execution_count": 15,
     "metadata": {},
     "output_type": "execute_result"
    }
   ],
   "source": [
    "previsores = df3.iloc[:, 1:32].values\n",
    "previsores"
   ]
  },
  {
   "cell_type": "code",
   "execution_count": 16,
   "metadata": {
    "id": "hT3blSaCiXWx"
   },
   "outputs": [
    {
     "data": {
      "text/plain": [
       "(569, 30)"
      ]
     },
     "execution_count": 16,
     "metadata": {},
     "output_type": "execute_result"
    }
   ],
   "source": [
    "previsores.shape"
   ]
  },
  {
   "cell_type": "code",
   "execution_count": 17,
   "metadata": {
    "id": "a8qWEIlEidX4"
   },
   "outputs": [
    {
     "data": {
      "text/plain": [
       "array([0, 0, 0, 0, 0, 0, 0, 0, 0, 0, 0, 0, 0, 0, 0, 0, 0, 0, 0, 1, 1, 1,\n",
       "       0, 0, 0, 0, 0, 0, 0, 0, 0, 0, 0, 0, 0, 0, 0, 1, 0, 0, 0, 0, 0, 0,\n",
       "       0, 0, 1, 0, 1, 1, 1, 1, 1, 0, 0, 1, 0, 0, 1, 1, 1, 1, 0, 1, 0, 0,\n",
       "       1, 1, 1, 1, 0, 1, 0, 0, 1, 0, 1, 0, 0, 1, 1, 1, 0, 0, 1, 0, 0, 0,\n",
       "       1, 1, 1, 0, 1, 1, 0, 0, 1, 1, 1, 0, 0, 1, 1, 1, 1, 0, 1, 1, 0, 1,\n",
       "       1, 1, 1, 1, 1, 1, 1, 0, 0, 0, 1, 0, 0, 1, 1, 1, 0, 0, 1, 0, 1, 0,\n",
       "       0, 1, 0, 0, 1, 1, 0, 1, 1, 0, 1, 1, 1, 1, 0, 1, 1, 1, 1, 1, 1, 1,\n",
       "       1, 1, 0, 1, 1, 1, 1, 0, 0, 1, 0, 1, 1, 0, 0, 1, 1, 0, 0, 1, 1, 1,\n",
       "       1, 0, 1, 1, 0, 0, 0, 1, 0, 1, 0, 1, 1, 1, 0, 1, 1, 0, 0, 1, 0, 0,\n",
       "       0, 0, 1, 0, 0, 0, 1, 0, 1, 0, 1, 1, 0, 1, 0, 0, 0, 0, 1, 1, 0, 0,\n",
       "       1, 1, 1, 0, 1, 1, 1, 1, 1, 0, 0, 1, 1, 0, 1, 1, 0, 0, 1, 0, 1, 1,\n",
       "       1, 1, 0, 1, 1, 1, 1, 1, 0, 1, 0, 0, 0, 0, 0, 0, 0, 0, 0, 0, 0, 0,\n",
       "       0, 0, 1, 1, 1, 1, 1, 1, 0, 1, 0, 1, 1, 0, 1, 1, 0, 1, 0, 0, 1, 1,\n",
       "       1, 1, 1, 1, 1, 1, 1, 1, 1, 1, 1, 0, 1, 1, 0, 1, 0, 1, 1, 1, 1, 1,\n",
       "       1, 1, 1, 1, 1, 1, 1, 1, 1, 0, 1, 1, 1, 0, 1, 0, 1, 1, 1, 1, 0, 0,\n",
       "       0, 1, 1, 1, 1, 0, 1, 0, 1, 0, 1, 1, 1, 0, 1, 1, 1, 1, 1, 1, 1, 0,\n",
       "       0, 0, 1, 1, 1, 1, 1, 1, 1, 1, 1, 1, 1, 0, 0, 1, 0, 0, 0, 1, 0, 0,\n",
       "       1, 1, 1, 1, 1, 0, 1, 1, 1, 1, 1, 0, 1, 1, 1, 0, 1, 1, 0, 0, 1, 1,\n",
       "       1, 1, 1, 1, 0, 1, 1, 1, 1, 1, 1, 1, 0, 1, 1, 1, 1, 1, 0, 1, 1, 0,\n",
       "       1, 1, 1, 1, 1, 1, 1, 1, 1, 1, 1, 1, 0, 1, 0, 0, 1, 0, 1, 1, 1, 1,\n",
       "       1, 0, 1, 1, 0, 1, 0, 1, 1, 0, 1, 0, 1, 1, 1, 1, 1, 1, 1, 1, 0, 0,\n",
       "       1, 1, 1, 1, 1, 1, 0, 1, 1, 1, 1, 1, 1, 1, 1, 1, 1, 0, 1, 1, 1, 1,\n",
       "       1, 1, 1, 0, 1, 0, 1, 1, 0, 1, 1, 1, 1, 1, 0, 0, 1, 0, 1, 0, 1, 1,\n",
       "       1, 1, 1, 0, 1, 1, 0, 1, 0, 1, 0, 0, 1, 1, 1, 0, 1, 1, 1, 1, 1, 1,\n",
       "       1, 1, 1, 1, 1, 0, 1, 0, 0, 1, 1, 1, 1, 1, 1, 1, 1, 1, 1, 1, 1, 1,\n",
       "       1, 1, 1, 1, 1, 1, 1, 1, 1, 1, 1, 1, 0, 0, 0, 0, 0, 0, 1],\n",
       "      dtype=int64)"
      ]
     },
     "execution_count": 17,
     "metadata": {},
     "output_type": "execute_result"
    }
   ],
   "source": [
    "alvo = df3.iloc[:, 0].values\n",
    "alvo"
   ]
  },
  {
   "cell_type": "code",
   "execution_count": 18,
   "metadata": {
    "id": "4LqTlcp4imQY"
   },
   "outputs": [
    {
     "data": {
      "text/plain": [
       "(569,)"
      ]
     },
     "execution_count": 18,
     "metadata": {},
     "output_type": "execute_result"
    }
   ],
   "source": [
    "alvo.shape"
   ]
  },
  {
   "cell_type": "markdown",
   "metadata": {
    "id": "SyXEcwgIkkU8"
   },
   "source": [
    "**Divisão em dados de treino e teste**"
   ]
  },
  {
   "cell_type": "code",
   "execution_count": 19,
   "metadata": {
    "id": "466a7Q3ZZ1Xu"
   },
   "outputs": [],
   "source": [
    "from sklearn.model_selection import train_test_split"
   ]
  },
  {
   "cell_type": "code",
   "execution_count": 20,
   "metadata": {
    "id": "TORhZ95SCVdw"
   },
   "outputs": [
    {
     "data": {
      "text/plain": [
       "((398, 30), (171, 30))"
      ]
     },
     "execution_count": 20,
     "metadata": {},
     "output_type": "execute_result"
    }
   ],
   "source": [
    "X_treino, X_teste, y_treino, y_teste = train_test_split(\n",
    "    previsores, alvo, test_size=0.3, random_state=0)\n",
    "\n",
    "X_treino.shape, X_teste.shape"
   ]
  },
  {
   "cell_type": "markdown",
   "metadata": {
    "id": "W6Ju6qz7QYtc"
   },
   "source": [
    "# **SEM OTIMIZAR HIPERPARÂMETROS**"
   ]
  },
  {
   "cell_type": "code",
   "execution_count": 21,
   "metadata": {
    "id": "WnFgf42_asj2"
   },
   "outputs": [],
   "source": [
    "from sklearn.model_selection import cross_val_score\n",
    "from xgboost import XGBClassifier"
   ]
  },
  {
   "cell_type": "code",
   "execution_count": 22,
   "metadata": {
    "id": "tr1nPnreQfeH"
   },
   "outputs": [
    {
     "name": "stdout",
     "output_type": "stream",
     "text": [
      "Desempenho médio de AUC-ROC: 0.9905\n"
     ]
    }
   ],
   "source": [
    "# Desempenho validação cruzada\n",
    "desempenho_cross_val = cross_val_score(estimator = XGBClassifier(random_state=0),\n",
    "                                       X = X_treino, \n",
    "                                       y = y_treino,\n",
    "                                       scoring = 'roc_auc',\n",
    "                                       cv = 7)\n",
    "\n",
    "print('Desempenho médio de AUC-ROC: {}'.format(round(desempenho_cross_val.mean(),4)))"
   ]
  },
  {
   "cell_type": "markdown",
   "metadata": {
    "id": "odWhlb5eCVdl"
   },
   "source": [
    "# **GRID SEARCH**"
   ]
  },
  {
   "cell_type": "code",
   "execution_count": 23,
   "metadata": {
    "id": "v5D6FyycAJf6"
   },
   "outputs": [],
   "source": [
    "from sklearn.metrics import roc_auc_score\n",
    "from sklearn.model_selection import GridSearchCV"
   ]
  },
  {
   "cell_type": "code",
   "execution_count": 24,
   "metadata": {
    "id": "dPrTO-9Kkf2G"
   },
   "outputs": [],
   "source": [
    "from xgboost import XGBClassifier"
   ]
  },
  {
   "cell_type": "code",
   "execution_count": 25,
   "metadata": {
    "id": "_W-Qrc5AmXUD"
   },
   "outputs": [],
   "source": [
    "# Gerando o modelo\n",
    "xgb = XGBClassifier(random_state=0)"
   ]
  },
  {
   "cell_type": "code",
   "execution_count": 26,
   "metadata": {
    "id": "ZLXrw1MlCVdy"
   },
   "outputs": [
    {
     "name": "stdout",
     "output_type": "stream",
     "text": [
      "Número de combinações de Hiperparâmetros:  540\n"
     ]
    }
   ],
   "source": [
    "# Determinando o espaço do hiperparâmetro\n",
    "param_grid = dict(\n",
    "    n_estimators=[10, 50, 100, 150, 200, 250],\n",
    "    learning_rate=[0.001, 0.01, 0.05, 0.1, 0.15, 0.2],\n",
    "    max_depth=[1,2,3,4,None],\n",
    "    objective=('binary:logistic','binary:logitraw','binary:hinge')\n",
    "    )\n",
    "\n",
    "print('Número de combinações de Hiperparâmetros: ', \n",
    "      len(param_grid['n_estimators']) * len(param_grid['learning_rate']) * len(param_grid['max_depth'])*len(param_grid['objective']))"
   ]
  },
  {
   "cell_type": "code",
   "execution_count": 27,
   "metadata": {
    "id": "RzWsjsfuCVdz"
   },
   "outputs": [],
   "source": [
    "# Configurando a procura com o Grid search\n",
    "grid_search = GridSearchCV(xgb, param_grid, scoring='roc_auc', cv=7)"
   ]
  },
  {
   "cell_type": "code",
   "execution_count": 28,
   "metadata": {
    "id": "uws9ORGbm5T4"
   },
   "outputs": [
    {
     "data": {
      "text/html": [
       "<style>#sk-container-id-1 {color: black;background-color: white;}#sk-container-id-1 pre{padding: 0;}#sk-container-id-1 div.sk-toggleable {background-color: white;}#sk-container-id-1 label.sk-toggleable__label {cursor: pointer;display: block;width: 100%;margin-bottom: 0;padding: 0.3em;box-sizing: border-box;text-align: center;}#sk-container-id-1 label.sk-toggleable__label-arrow:before {content: \"▸\";float: left;margin-right: 0.25em;color: #696969;}#sk-container-id-1 label.sk-toggleable__label-arrow:hover:before {color: black;}#sk-container-id-1 div.sk-estimator:hover label.sk-toggleable__label-arrow:before {color: black;}#sk-container-id-1 div.sk-toggleable__content {max-height: 0;max-width: 0;overflow: hidden;text-align: left;background-color: #f0f8ff;}#sk-container-id-1 div.sk-toggleable__content pre {margin: 0.2em;color: black;border-radius: 0.25em;background-color: #f0f8ff;}#sk-container-id-1 input.sk-toggleable__control:checked~div.sk-toggleable__content {max-height: 200px;max-width: 100%;overflow: auto;}#sk-container-id-1 input.sk-toggleable__control:checked~label.sk-toggleable__label-arrow:before {content: \"▾\";}#sk-container-id-1 div.sk-estimator input.sk-toggleable__control:checked~label.sk-toggleable__label {background-color: #d4ebff;}#sk-container-id-1 div.sk-label input.sk-toggleable__control:checked~label.sk-toggleable__label {background-color: #d4ebff;}#sk-container-id-1 input.sk-hidden--visually {border: 0;clip: rect(1px 1px 1px 1px);clip: rect(1px, 1px, 1px, 1px);height: 1px;margin: -1px;overflow: hidden;padding: 0;position: absolute;width: 1px;}#sk-container-id-1 div.sk-estimator {font-family: monospace;background-color: #f0f8ff;border: 1px dotted black;border-radius: 0.25em;box-sizing: border-box;margin-bottom: 0.5em;}#sk-container-id-1 div.sk-estimator:hover {background-color: #d4ebff;}#sk-container-id-1 div.sk-parallel-item::after {content: \"\";width: 100%;border-bottom: 1px solid gray;flex-grow: 1;}#sk-container-id-1 div.sk-label:hover label.sk-toggleable__label {background-color: #d4ebff;}#sk-container-id-1 div.sk-serial::before {content: \"\";position: absolute;border-left: 1px solid gray;box-sizing: border-box;top: 0;bottom: 0;left: 50%;z-index: 0;}#sk-container-id-1 div.sk-serial {display: flex;flex-direction: column;align-items: center;background-color: white;padding-right: 0.2em;padding-left: 0.2em;position: relative;}#sk-container-id-1 div.sk-item {position: relative;z-index: 1;}#sk-container-id-1 div.sk-parallel {display: flex;align-items: stretch;justify-content: center;background-color: white;position: relative;}#sk-container-id-1 div.sk-item::before, #sk-container-id-1 div.sk-parallel-item::before {content: \"\";position: absolute;border-left: 1px solid gray;box-sizing: border-box;top: 0;bottom: 0;left: 50%;z-index: -1;}#sk-container-id-1 div.sk-parallel-item {display: flex;flex-direction: column;z-index: 1;position: relative;background-color: white;}#sk-container-id-1 div.sk-parallel-item:first-child::after {align-self: flex-end;width: 50%;}#sk-container-id-1 div.sk-parallel-item:last-child::after {align-self: flex-start;width: 50%;}#sk-container-id-1 div.sk-parallel-item:only-child::after {width: 0;}#sk-container-id-1 div.sk-dashed-wrapped {border: 1px dashed gray;margin: 0 0.4em 0.5em 0.4em;box-sizing: border-box;padding-bottom: 0.4em;background-color: white;}#sk-container-id-1 div.sk-label label {font-family: monospace;font-weight: bold;display: inline-block;line-height: 1.2em;}#sk-container-id-1 div.sk-label-container {text-align: center;}#sk-container-id-1 div.sk-container {/* jupyter's `normalize.less` sets `[hidden] { display: none; }` but bootstrap.min.css set `[hidden] { display: none !important; }` so we also need the `!important` here to be able to override the default hidden behavior on the sphinx rendered scikit-learn.org. See: https://github.com/scikit-learn/scikit-learn/issues/21755 */display: inline-block !important;position: relative;}#sk-container-id-1 div.sk-text-repr-fallback {display: none;}</style><div id=\"sk-container-id-1\" class=\"sk-top-container\"><div class=\"sk-text-repr-fallback\"><pre>GridSearchCV(cv=7,\n",
       "             estimator=XGBClassifier(base_score=None, booster=None,\n",
       "                                     callbacks=None, colsample_bylevel=None,\n",
       "                                     colsample_bynode=None,\n",
       "                                     colsample_bytree=None,\n",
       "                                     early_stopping_rounds=None,\n",
       "                                     enable_categorical=False, eval_metric=None,\n",
       "                                     feature_types=None, gamma=None,\n",
       "                                     gpu_id=None, grow_policy=None,\n",
       "                                     importance_type=None,\n",
       "                                     interaction_constraints=None,\n",
       "                                     learning_rate=None,...\n",
       "                                     max_leaves=None, min_child_weight=None,\n",
       "                                     missing=nan, monotone_constraints=None,\n",
       "                                     n_estimators=100, n_jobs=None,\n",
       "                                     num_parallel_tree=None, predictor=None,\n",
       "                                     random_state=0, ...),\n",
       "             param_grid={&#x27;learning_rate&#x27;: [0.001, 0.01, 0.05, 0.1, 0.15, 0.2],\n",
       "                         &#x27;max_depth&#x27;: [1, 2, 3, 4, None],\n",
       "                         &#x27;n_estimators&#x27;: [10, 50, 100, 150, 200, 250],\n",
       "                         &#x27;objective&#x27;: (&#x27;binary:logistic&#x27;, &#x27;binary:logitraw&#x27;,\n",
       "                                       &#x27;binary:hinge&#x27;)},\n",
       "             scoring=&#x27;roc_auc&#x27;)</pre><b>In a Jupyter environment, please rerun this cell to show the HTML representation or trust the notebook. <br />On GitHub, the HTML representation is unable to render, please try loading this page with nbviewer.org.</b></div><div class=\"sk-container\" hidden><div class=\"sk-item sk-dashed-wrapped\"><div class=\"sk-label-container\"><div class=\"sk-label sk-toggleable\"><input class=\"sk-toggleable__control sk-hidden--visually\" id=\"sk-estimator-id-1\" type=\"checkbox\" ><label for=\"sk-estimator-id-1\" class=\"sk-toggleable__label sk-toggleable__label-arrow\">GridSearchCV</label><div class=\"sk-toggleable__content\"><pre>GridSearchCV(cv=7,\n",
       "             estimator=XGBClassifier(base_score=None, booster=None,\n",
       "                                     callbacks=None, colsample_bylevel=None,\n",
       "                                     colsample_bynode=None,\n",
       "                                     colsample_bytree=None,\n",
       "                                     early_stopping_rounds=None,\n",
       "                                     enable_categorical=False, eval_metric=None,\n",
       "                                     feature_types=None, gamma=None,\n",
       "                                     gpu_id=None, grow_policy=None,\n",
       "                                     importance_type=None,\n",
       "                                     interaction_constraints=None,\n",
       "                                     learning_rate=None,...\n",
       "                                     max_leaves=None, min_child_weight=None,\n",
       "                                     missing=nan, monotone_constraints=None,\n",
       "                                     n_estimators=100, n_jobs=None,\n",
       "                                     num_parallel_tree=None, predictor=None,\n",
       "                                     random_state=0, ...),\n",
       "             param_grid={&#x27;learning_rate&#x27;: [0.001, 0.01, 0.05, 0.1, 0.15, 0.2],\n",
       "                         &#x27;max_depth&#x27;: [1, 2, 3, 4, None],\n",
       "                         &#x27;n_estimators&#x27;: [10, 50, 100, 150, 200, 250],\n",
       "                         &#x27;objective&#x27;: (&#x27;binary:logistic&#x27;, &#x27;binary:logitraw&#x27;,\n",
       "                                       &#x27;binary:hinge&#x27;)},\n",
       "             scoring=&#x27;roc_auc&#x27;)</pre></div></div></div><div class=\"sk-parallel\"><div class=\"sk-parallel-item\"><div class=\"sk-item\"><div class=\"sk-label-container\"><div class=\"sk-label sk-toggleable\"><input class=\"sk-toggleable__control sk-hidden--visually\" id=\"sk-estimator-id-2\" type=\"checkbox\" ><label for=\"sk-estimator-id-2\" class=\"sk-toggleable__label sk-toggleable__label-arrow\">estimator: XGBClassifier</label><div class=\"sk-toggleable__content\"><pre>XGBClassifier(base_score=None, booster=None, callbacks=None,\n",
       "              colsample_bylevel=None, colsample_bynode=None,\n",
       "              colsample_bytree=None, early_stopping_rounds=None,\n",
       "              enable_categorical=False, eval_metric=None, feature_types=None,\n",
       "              gamma=None, gpu_id=None, grow_policy=None, importance_type=None,\n",
       "              interaction_constraints=None, learning_rate=None, max_bin=None,\n",
       "              max_cat_threshold=None, max_cat_to_onehot=None,\n",
       "              max_delta_step=None, max_depth=None, max_leaves=None,\n",
       "              min_child_weight=None, missing=nan, monotone_constraints=None,\n",
       "              n_estimators=100, n_jobs=None, num_parallel_tree=None,\n",
       "              predictor=None, random_state=0, ...)</pre></div></div></div><div class=\"sk-serial\"><div class=\"sk-item\"><div class=\"sk-estimator sk-toggleable\"><input class=\"sk-toggleable__control sk-hidden--visually\" id=\"sk-estimator-id-3\" type=\"checkbox\" ><label for=\"sk-estimator-id-3\" class=\"sk-toggleable__label sk-toggleable__label-arrow\">XGBClassifier</label><div class=\"sk-toggleable__content\"><pre>XGBClassifier(base_score=None, booster=None, callbacks=None,\n",
       "              colsample_bylevel=None, colsample_bynode=None,\n",
       "              colsample_bytree=None, early_stopping_rounds=None,\n",
       "              enable_categorical=False, eval_metric=None, feature_types=None,\n",
       "              gamma=None, gpu_id=None, grow_policy=None, importance_type=None,\n",
       "              interaction_constraints=None, learning_rate=None, max_bin=None,\n",
       "              max_cat_threshold=None, max_cat_to_onehot=None,\n",
       "              max_delta_step=None, max_depth=None, max_leaves=None,\n",
       "              min_child_weight=None, missing=nan, monotone_constraints=None,\n",
       "              n_estimators=100, n_jobs=None, num_parallel_tree=None,\n",
       "              predictor=None, random_state=0, ...)</pre></div></div></div></div></div></div></div></div></div></div>"
      ],
      "text/plain": [
       "GridSearchCV(cv=7,\n",
       "             estimator=XGBClassifier(base_score=None, booster=None,\n",
       "                                     callbacks=None, colsample_bylevel=None,\n",
       "                                     colsample_bynode=None,\n",
       "                                     colsample_bytree=None,\n",
       "                                     early_stopping_rounds=None,\n",
       "                                     enable_categorical=False, eval_metric=None,\n",
       "                                     feature_types=None, gamma=None,\n",
       "                                     gpu_id=None, grow_policy=None,\n",
       "                                     importance_type=None,\n",
       "                                     interaction_constraints=None,\n",
       "                                     learning_rate=None,...\n",
       "                                     max_leaves=None, min_child_weight=None,\n",
       "                                     missing=nan, monotone_constraints=None,\n",
       "                                     n_estimators=100, n_jobs=None,\n",
       "                                     num_parallel_tree=None, predictor=None,\n",
       "                                     random_state=0, ...),\n",
       "             param_grid={'learning_rate': [0.001, 0.01, 0.05, 0.1, 0.15, 0.2],\n",
       "                         'max_depth': [1, 2, 3, 4, None],\n",
       "                         'n_estimators': [10, 50, 100, 150, 200, 250],\n",
       "                         'objective': ('binary:logistic', 'binary:logitraw',\n",
       "                                       'binary:hinge')},\n",
       "             scoring='roc_auc')"
      ]
     },
     "execution_count": 28,
     "metadata": {},
     "output_type": "execute_result"
    }
   ],
   "source": [
    "# Configurando os melhores hiperparâmetros\n",
    "grid_search.fit(X_treino, y_treino)"
   ]
  },
  {
   "cell_type": "code",
   "execution_count": 29,
   "metadata": {
    "id": "hHTFIt2ZCVd0"
   },
   "outputs": [
    {
     "data": {
      "text/plain": [
       "{'learning_rate': 0.15,\n",
       " 'max_depth': 3,\n",
       " 'n_estimators': 100,\n",
       " 'objective': 'binary:logistic'}"
      ]
     },
     "execution_count": 29,
     "metadata": {},
     "output_type": "execute_result"
    }
   ],
   "source": [
    "# Melhores Hiperparâmetros\n",
    "grid_search.best_params_"
   ]
  },
  {
   "cell_type": "code",
   "execution_count": 30,
   "metadata": {
    "id": "bfQgD3mJKuXS"
   },
   "outputs": [
    {
     "name": "stdout",
     "output_type": "stream",
     "text": [
      "Score médio do melhor modelo: 0.9932\n"
     ]
    }
   ],
   "source": [
    "print('Score médio do melhor modelo: {}'.format(round(grid_search.best_score_,4)))"
   ]
  },
  {
   "cell_type": "code",
   "execution_count": 31,
   "metadata": {
    "id": "ivxzKjLGaGQc"
   },
   "outputs": [
    {
     "name": "stdout",
     "output_type": "stream",
     "text": [
      "4min 12s ± 0 ns per loop (mean ± std. dev. of 1 run, 1 loop each)\n",
      "Tempo para realizar a otimização:\n"
     ]
    }
   ],
   "source": [
    "# Contagem do tempo de execução do treinamento\n",
    "%timeit -n 1 -r 1 grid_search.fit(X_treino, y_treino)\n",
    "print('Tempo para realizar a otimização:') "
   ]
  },
  {
   "cell_type": "code",
   "execution_count": 32,
   "metadata": {
    "id": "jVVWHEkYCVd1"
   },
   "outputs": [
    {
     "name": "stdout",
     "output_type": "stream",
     "text": [
      "(540, 19)\n"
     ]
    },
    {
     "data": {
      "text/html": [
       "<div>\n",
       "<style scoped>\n",
       "    .dataframe tbody tr th:only-of-type {\n",
       "        vertical-align: middle;\n",
       "    }\n",
       "\n",
       "    .dataframe tbody tr th {\n",
       "        vertical-align: top;\n",
       "    }\n",
       "\n",
       "    .dataframe thead th {\n",
       "        text-align: right;\n",
       "    }\n",
       "</style>\n",
       "<table border=\"1\" class=\"dataframe\">\n",
       "  <thead>\n",
       "    <tr style=\"text-align: right;\">\n",
       "      <th></th>\n",
       "      <th>mean_fit_time</th>\n",
       "      <th>std_fit_time</th>\n",
       "      <th>mean_score_time</th>\n",
       "      <th>std_score_time</th>\n",
       "      <th>param_learning_rate</th>\n",
       "      <th>param_max_depth</th>\n",
       "      <th>param_n_estimators</th>\n",
       "      <th>param_objective</th>\n",
       "      <th>params</th>\n",
       "      <th>split0_test_score</th>\n",
       "      <th>split1_test_score</th>\n",
       "      <th>split2_test_score</th>\n",
       "      <th>split3_test_score</th>\n",
       "      <th>split4_test_score</th>\n",
       "      <th>split5_test_score</th>\n",
       "      <th>split6_test_score</th>\n",
       "      <th>mean_test_score</th>\n",
       "      <th>std_test_score</th>\n",
       "      <th>rank_test_score</th>\n",
       "    </tr>\n",
       "  </thead>\n",
       "  <tbody>\n",
       "    <tr>\n",
       "      <th>0</th>\n",
       "      <td>0.006305</td>\n",
       "      <td>0.002779</td>\n",
       "      <td>0.004548</td>\n",
       "      <td>0.004111</td>\n",
       "      <td>0.001</td>\n",
       "      <td>1</td>\n",
       "      <td>10</td>\n",
       "      <td>binary:logistic</td>\n",
       "      <td>{'learning_rate': 0.001, 'max_depth': 1, 'n_es...</td>\n",
       "      <td>0.853175</td>\n",
       "      <td>0.900794</td>\n",
       "      <td>0.910714</td>\n",
       "      <td>0.914683</td>\n",
       "      <td>0.849351</td>\n",
       "      <td>0.954545</td>\n",
       "      <td>0.847619</td>\n",
       "      <td>0.890126</td>\n",
       "      <td>0.038033</td>\n",
       "      <td>490</td>\n",
       "    </tr>\n",
       "    <tr>\n",
       "      <th>1</th>\n",
       "      <td>0.007422</td>\n",
       "      <td>0.006900</td>\n",
       "      <td>0.003238</td>\n",
       "      <td>0.005450</td>\n",
       "      <td>0.001</td>\n",
       "      <td>1</td>\n",
       "      <td>10</td>\n",
       "      <td>binary:logitraw</td>\n",
       "      <td>{'learning_rate': 0.001, 'max_depth': 1, 'n_es...</td>\n",
       "      <td>0.853175</td>\n",
       "      <td>0.900794</td>\n",
       "      <td>0.910714</td>\n",
       "      <td>0.914683</td>\n",
       "      <td>0.849351</td>\n",
       "      <td>0.954545</td>\n",
       "      <td>0.847619</td>\n",
       "      <td>0.890126</td>\n",
       "      <td>0.038033</td>\n",
       "      <td>490</td>\n",
       "    </tr>\n",
       "    <tr>\n",
       "      <th>2</th>\n",
       "      <td>0.006763</td>\n",
       "      <td>0.008148</td>\n",
       "      <td>0.004466</td>\n",
       "      <td>0.007061</td>\n",
       "      <td>0.001</td>\n",
       "      <td>1</td>\n",
       "      <td>10</td>\n",
       "      <td>binary:hinge</td>\n",
       "      <td>{'learning_rate': 0.001, 'max_depth': 1, 'n_es...</td>\n",
       "      <td>0.500000</td>\n",
       "      <td>0.500000</td>\n",
       "      <td>0.500000</td>\n",
       "      <td>0.500000</td>\n",
       "      <td>0.500000</td>\n",
       "      <td>0.500000</td>\n",
       "      <td>0.500000</td>\n",
       "      <td>0.500000</td>\n",
       "      <td>0.000000</td>\n",
       "      <td>496</td>\n",
       "    </tr>\n",
       "  </tbody>\n",
       "</table>\n",
       "</div>"
      ],
      "text/plain": [
       "   mean_fit_time  std_fit_time  mean_score_time  std_score_time  \\\n",
       "0       0.006305      0.002779         0.004548        0.004111   \n",
       "1       0.007422      0.006900         0.003238        0.005450   \n",
       "2       0.006763      0.008148         0.004466        0.007061   \n",
       "\n",
       "  param_learning_rate param_max_depth param_n_estimators  param_objective  \\\n",
       "0               0.001               1                 10  binary:logistic   \n",
       "1               0.001               1                 10  binary:logitraw   \n",
       "2               0.001               1                 10     binary:hinge   \n",
       "\n",
       "                                              params  split0_test_score  \\\n",
       "0  {'learning_rate': 0.001, 'max_depth': 1, 'n_es...           0.853175   \n",
       "1  {'learning_rate': 0.001, 'max_depth': 1, 'n_es...           0.853175   \n",
       "2  {'learning_rate': 0.001, 'max_depth': 1, 'n_es...           0.500000   \n",
       "\n",
       "   split1_test_score  split2_test_score  split3_test_score  split4_test_score  \\\n",
       "0           0.900794           0.910714           0.914683           0.849351   \n",
       "1           0.900794           0.910714           0.914683           0.849351   \n",
       "2           0.500000           0.500000           0.500000           0.500000   \n",
       "\n",
       "   split5_test_score  split6_test_score  mean_test_score  std_test_score  \\\n",
       "0           0.954545           0.847619         0.890126        0.038033   \n",
       "1           0.954545           0.847619         0.890126        0.038033   \n",
       "2           0.500000           0.500000         0.500000        0.000000   \n",
       "\n",
       "   rank_test_score  \n",
       "0              490  \n",
       "1              490  \n",
       "2              496  "
      ]
     },
     "execution_count": 32,
     "metadata": {},
     "output_type": "execute_result"
    }
   ],
   "source": [
    "# Relação dos dados para todos os modelos\n",
    "\n",
    "results = pd.DataFrame(grid_search.cv_results_)\n",
    "print(results.shape)\n",
    "results.head(3)"
   ]
  },
  {
   "cell_type": "code",
   "execution_count": 33,
   "metadata": {
    "id": "KM2wq4wOCVd2"
   },
   "outputs": [
    {
     "data": {
      "text/html": [
       "<div>\n",
       "<style scoped>\n",
       "    .dataframe tbody tr th:only-of-type {\n",
       "        vertical-align: middle;\n",
       "    }\n",
       "\n",
       "    .dataframe tbody tr th {\n",
       "        vertical-align: top;\n",
       "    }\n",
       "\n",
       "    .dataframe thead th {\n",
       "        text-align: right;\n",
       "    }\n",
       "</style>\n",
       "<table border=\"1\" class=\"dataframe\">\n",
       "  <thead>\n",
       "    <tr style=\"text-align: right;\">\n",
       "      <th></th>\n",
       "      <th>param_n_estimators</th>\n",
       "      <th>param_learning_rate</th>\n",
       "      <th>param_max_depth</th>\n",
       "      <th>param_objective</th>\n",
       "      <th>mean_test_score</th>\n",
       "      <th>std_test_score</th>\n",
       "    </tr>\n",
       "  </thead>\n",
       "  <tbody>\n",
       "    <tr>\n",
       "      <th>0</th>\n",
       "      <td>100</td>\n",
       "      <td>0.15</td>\n",
       "      <td>3</td>\n",
       "      <td>binary:logistic</td>\n",
       "      <td>0.993183</td>\n",
       "      <td>0.005933</td>\n",
       "    </tr>\n",
       "    <tr>\n",
       "      <th>1</th>\n",
       "      <td>100</td>\n",
       "      <td>0.1</td>\n",
       "      <td>3</td>\n",
       "      <td>binary:logistic</td>\n",
       "      <td>0.993177</td>\n",
       "      <td>0.005591</td>\n",
       "    </tr>\n",
       "    <tr>\n",
       "      <th>2</th>\n",
       "      <td>150</td>\n",
       "      <td>0.1</td>\n",
       "      <td>3</td>\n",
       "      <td>binary:logistic</td>\n",
       "      <td>0.992988</td>\n",
       "      <td>0.005822</td>\n",
       "    </tr>\n",
       "    <tr>\n",
       "      <th>3</th>\n",
       "      <td>250</td>\n",
       "      <td>0.05</td>\n",
       "      <td>3</td>\n",
       "      <td>binary:logistic</td>\n",
       "      <td>0.992803</td>\n",
       "      <td>0.005698</td>\n",
       "    </tr>\n",
       "    <tr>\n",
       "      <th>4</th>\n",
       "      <td>150</td>\n",
       "      <td>0.1</td>\n",
       "      <td>3</td>\n",
       "      <td>binary:logitraw</td>\n",
       "      <td>0.992799</td>\n",
       "      <td>0.006038</td>\n",
       "    </tr>\n",
       "  </tbody>\n",
       "</table>\n",
       "</div>"
      ],
      "text/plain": [
       "  param_n_estimators param_learning_rate param_max_depth  param_objective  \\\n",
       "0                100                0.15               3  binary:logistic   \n",
       "1                100                 0.1               3  binary:logistic   \n",
       "2                150                 0.1               3  binary:logistic   \n",
       "3                250                0.05               3  binary:logistic   \n",
       "4                150                 0.1               3  binary:logitraw   \n",
       "\n",
       "   mean_test_score  std_test_score  \n",
       "0         0.993183        0.005933  \n",
       "1         0.993177        0.005591  \n",
       "2         0.992988        0.005822  \n",
       "3         0.992803        0.005698  \n",
       "4         0.992799        0.006038  "
      ]
     },
     "execution_count": 33,
     "metadata": {},
     "output_type": "execute_result"
    }
   ],
   "source": [
    "# Ordenando os melhores resultados\n",
    "results.sort_values(by='mean_test_score', ascending=False, inplace=True)\n",
    "\n",
    "results.reset_index(drop=True, inplace=True)\n",
    "\n",
    "results[['param_n_estimators', 'param_learning_rate', 'param_max_depth', 'param_objective',\n",
    "    'mean_test_score', 'std_test_score']].head()"
   ]
  },
  {
   "cell_type": "code",
   "execution_count": 34,
   "metadata": {
    "id": "rzcIK5raCVd4"
   },
   "outputs": [
    {
     "data": {
      "image/png": "[encoded data removed]",
      "text/plain": [
       "<Figure size 640x480 with 1 Axes>"
      ]
     },
     "metadata": {},
     "output_type": "display_data"
    }
   ],
   "source": [
    "# Gráfico do desempenho do modelo\n",
    "\n",
    "results['mean_test_score'].plot(yerr=[results['std_test_score'], results['std_test_score']], subplots=True)\n",
    "\n",
    "plt.ylabel('Score médio de teste')\n",
    "plt.xlabel('Combinação de Hyperparâmetros');"
   ]
  },
  {
   "cell_type": "code",
   "execution_count": 35,
   "metadata": {
    "id": "XjnIo29rCVd5"
   },
   "outputs": [
    {
     "name": "stdout",
     "output_type": "stream",
     "text": [
      "Roc_Auc de Treino:  1.0\n",
      "Roc_Auc de Teste:  0.9977954144620811\n"
     ]
    }
   ],
   "source": [
    "X_treino_prev = grid_search.predict_proba(X_treino)[:,1]\n",
    "X_teste_prev = grid_search.predict_proba(X_teste)[:,1]\n",
    "\n",
    "print('Roc_Auc de Treino: ', roc_auc_score(y_treino, X_treino_prev))\n",
    "print('Roc_Auc de Teste: ', roc_auc_score(y_teste, X_teste_prev))"
   ]
  },
  {
   "cell_type": "code",
   "execution_count": 36,
   "metadata": {
    "id": "lL9PLedtCVd5"
   },
   "outputs": [],
   "source": [
    "# Função para avaliar o desempenho do modelo com base em hiperparâmetros únicos\n",
    "\n",
    "def summarize_by_param(hparam):\n",
    "    \n",
    "    tmp = pd.concat([\n",
    "        results.groupby(hparam)['mean_test_score'].mean(),\n",
    "        results.groupby(hparam)['mean_test_score'].std(),\n",
    "    ], axis=1)\n",
    "\n",
    "    tmp.columns = ['mean_test_score', 'std_test_score']\n",
    "    \n",
    "    return tmp"
   ]
  },
  {
   "cell_type": "code",
   "execution_count": 37,
   "metadata": {
    "id": "ODWZZj--CVd6"
   },
   "outputs": [
    {
     "data": {
      "text/html": [
       "<div>\n",
       "<style scoped>\n",
       "    .dataframe tbody tr th:only-of-type {\n",
       "        vertical-align: middle;\n",
       "    }\n",
       "\n",
       "    .dataframe tbody tr th {\n",
       "        vertical-align: top;\n",
       "    }\n",
       "\n",
       "    .dataframe thead th {\n",
       "        text-align: right;\n",
       "    }\n",
       "</style>\n",
       "<table border=\"1\" class=\"dataframe\">\n",
       "  <thead>\n",
       "    <tr style=\"text-align: right;\">\n",
       "      <th></th>\n",
       "      <th>mean_test_score</th>\n",
       "      <th>std_test_score</th>\n",
       "    </tr>\n",
       "    <tr>\n",
       "      <th>param_n_estimators</th>\n",
       "      <th></th>\n",
       "      <th></th>\n",
       "    </tr>\n",
       "  </thead>\n",
       "  <tbody>\n",
       "    <tr>\n",
       "      <th>10</th>\n",
       "      <td>0.878720</td>\n",
       "      <td>0.172154</td>\n",
       "    </tr>\n",
       "    <tr>\n",
       "      <th>50</th>\n",
       "      <td>0.915650</td>\n",
       "      <td>0.149528</td>\n",
       "    </tr>\n",
       "    <tr>\n",
       "      <th>100</th>\n",
       "      <td>0.942027</td>\n",
       "      <td>0.110837</td>\n",
       "    </tr>\n",
       "    <tr>\n",
       "      <th>150</th>\n",
       "      <td>0.943756</td>\n",
       "      <td>0.110872</td>\n",
       "    </tr>\n",
       "    <tr>\n",
       "      <th>200</th>\n",
       "      <td>0.944794</td>\n",
       "      <td>0.110834</td>\n",
       "    </tr>\n",
       "    <tr>\n",
       "      <th>250</th>\n",
       "      <td>0.945680</td>\n",
       "      <td>0.110964</td>\n",
       "    </tr>\n",
       "  </tbody>\n",
       "</table>\n",
       "</div>"
      ],
      "text/plain": [
       "                    mean_test_score  std_test_score\n",
       "param_n_estimators                                 \n",
       "10                         0.878720        0.172154\n",
       "50                         0.915650        0.149528\n",
       "100                        0.942027        0.110837\n",
       "150                        0.943756        0.110872\n",
       "200                        0.944794        0.110834\n",
       "250                        0.945680        0.110964"
      ]
     },
     "execution_count": 37,
     "metadata": {},
     "output_type": "execute_result"
    }
   ],
   "source": [
    "# Desempenho de n_estimators\n",
    "\n",
    "tmp = summarize_by_param('param_n_estimators')\n",
    "\n",
    "tmp.head(6)"
   ]
  },
  {
   "cell_type": "code",
   "execution_count": 38,
   "metadata": {
    "id": "MKuvmKq-CVd6"
   },
   "outputs": [
    {
     "data": {
      "image/png": "[encoded data removed]",
      "text/plain": [
       "<Figure size 640x480 with 1 Axes>"
      ]
     },
     "metadata": {},
     "output_type": "display_data"
    }
   ],
   "source": [
    "tmp['mean_test_score'].plot(yerr=[tmp['std_test_score'], tmp['std_test_score']], subplots=True)\n",
    "plt.ylabel('roc-auc');"
   ]
  },
  {
   "cell_type": "markdown",
   "metadata": {
    "id": "cJK7i-zaCVd7"
   },
   "source": [
    "O hiperparâmetro ideal está em algum lugar acima de 100 até 250 podendo testar acima de 250."
   ]
  },
  {
   "cell_type": "code",
   "execution_count": 39,
   "metadata": {
    "id": "UORvF5OJr8V8"
   },
   "outputs": [
    {
     "data": {
      "text/html": [
       "<div>\n",
       "<style scoped>\n",
       "    .dataframe tbody tr th:only-of-type {\n",
       "        vertical-align: middle;\n",
       "    }\n",
       "\n",
       "    .dataframe tbody tr th {\n",
       "        vertical-align: top;\n",
       "    }\n",
       "\n",
       "    .dataframe thead th {\n",
       "        text-align: right;\n",
       "    }\n",
       "</style>\n",
       "<table border=\"1\" class=\"dataframe\">\n",
       "  <thead>\n",
       "    <tr style=\"text-align: right;\">\n",
       "      <th></th>\n",
       "      <th>mean_test_score</th>\n",
       "      <th>std_test_score</th>\n",
       "    </tr>\n",
       "    <tr>\n",
       "      <th>param_max_depth</th>\n",
       "      <th></th>\n",
       "      <th></th>\n",
       "    </tr>\n",
       "  </thead>\n",
       "  <tbody>\n",
       "    <tr>\n",
       "      <th>1</th>\n",
       "      <td>0.921135</td>\n",
       "      <td>0.131299</td>\n",
       "    </tr>\n",
       "    <tr>\n",
       "      <th>2</th>\n",
       "      <td>0.928177</td>\n",
       "      <td>0.131864</td>\n",
       "    </tr>\n",
       "    <tr>\n",
       "      <th>3</th>\n",
       "      <td>0.933063</td>\n",
       "      <td>0.132586</td>\n",
       "    </tr>\n",
       "    <tr>\n",
       "      <th>4</th>\n",
       "      <td>0.931146</td>\n",
       "      <td>0.132133</td>\n",
       "    </tr>\n",
       "  </tbody>\n",
       "</table>\n",
       "</div>"
      ],
      "text/plain": [
       "                 mean_test_score  std_test_score\n",
       "param_max_depth                                 \n",
       "1                       0.921135        0.131299\n",
       "2                       0.928177        0.131864\n",
       "3                       0.933063        0.132586\n",
       "4                       0.931146        0.132133"
      ]
     },
     "execution_count": 39,
     "metadata": {},
     "output_type": "execute_result"
    }
   ],
   "source": [
    "# Desempenho de max_depth\n",
    "\n",
    "tmp = summarize_by_param('param_max_depth')\n",
    "tmp.head(6)"
   ]
  },
  {
   "cell_type": "code",
   "execution_count": 40,
   "metadata": {
    "id": "mS-vHf8-CVd7"
   },
   "outputs": [
    {
     "data": {
      "image/png": "[encoded data removed]",
      "text/plain": [
       "<Figure size 640x480 with 1 Axes>"
      ]
     },
     "metadata": {},
     "output_type": "display_data"
    }
   ],
   "source": [
    "tmp = summarize_by_param('param_max_depth')\n",
    "tmp['mean_test_score'].plot(yerr=[tmp['std_test_score'], tmp['std_test_score']], subplots=True)\n",
    "plt.ylabel('roc-auc');"
   ]
  },
  {
   "cell_type": "markdown",
   "metadata": {
    "id": "qnZzQ0B7CVd8"
   },
   "source": [
    "O hiperparâmetro ideal parece estar em algum lugar entre 2 e 3\n",
    "\n"
   ]
  },
  {
   "cell_type": "code",
   "execution_count": 41,
   "metadata": {
    "id": "iQ5qHjqysVZz"
   },
   "outputs": [
    {
     "data": {
      "text/html": [
       "<div>\n",
       "<style scoped>\n",
       "    .dataframe tbody tr th:only-of-type {\n",
       "        vertical-align: middle;\n",
       "    }\n",
       "\n",
       "    .dataframe tbody tr th {\n",
       "        vertical-align: top;\n",
       "    }\n",
       "\n",
       "    .dataframe thead th {\n",
       "        text-align: right;\n",
       "    }\n",
       "</style>\n",
       "<table border=\"1\" class=\"dataframe\">\n",
       "  <thead>\n",
       "    <tr style=\"text-align: right;\">\n",
       "      <th></th>\n",
       "      <th>mean_test_score</th>\n",
       "      <th>std_test_score</th>\n",
       "    </tr>\n",
       "    <tr>\n",
       "      <th>param_learning_rate</th>\n",
       "      <th></th>\n",
       "      <th></th>\n",
       "    </tr>\n",
       "  </thead>\n",
       "  <tbody>\n",
       "    <tr>\n",
       "      <th>0.001</th>\n",
       "      <td>0.798503</td>\n",
       "      <td>0.212813</td>\n",
       "    </tr>\n",
       "    <tr>\n",
       "      <th>0.010</th>\n",
       "      <td>0.908800</td>\n",
       "      <td>0.147438</td>\n",
       "    </tr>\n",
       "    <tr>\n",
       "      <th>0.050</th>\n",
       "      <td>0.946071</td>\n",
       "      <td>0.110845</td>\n",
       "    </tr>\n",
       "    <tr>\n",
       "      <th>0.100</th>\n",
       "      <td>0.972490</td>\n",
       "      <td>0.024366</td>\n",
       "    </tr>\n",
       "    <tr>\n",
       "      <th>0.150</th>\n",
       "      <td>0.971720</td>\n",
       "      <td>0.026009</td>\n",
       "    </tr>\n",
       "    <tr>\n",
       "      <th>0.200</th>\n",
       "      <td>0.973042</td>\n",
       "      <td>0.024500</td>\n",
       "    </tr>\n",
       "  </tbody>\n",
       "</table>\n",
       "</div>"
      ],
      "text/plain": [
       "                     mean_test_score  std_test_score\n",
       "param_learning_rate                                 \n",
       "0.001                       0.798503        0.212813\n",
       "0.010                       0.908800        0.147438\n",
       "0.050                       0.946071        0.110845\n",
       "0.100                       0.972490        0.024366\n",
       "0.150                       0.971720        0.026009\n",
       "0.200                       0.973042        0.024500"
      ]
     },
     "execution_count": 41,
     "metadata": {},
     "output_type": "execute_result"
    }
   ],
   "source": [
    "# Desempenho de min_samples_split\n",
    "\n",
    "tmp = summarize_by_param('param_learning_rate')\n",
    "\n",
    "tmp.head(6)"
   ]
  },
  {
   "cell_type": "code",
   "execution_count": 42,
   "metadata": {
    "id": "aSFwkRMKCVd8"
   },
   "outputs": [
    {
     "data": {
      "image/png": "[encoded data removed]",
      "text/plain": [
       "<Figure size 640x480 with 1 Axes>"
      ]
     },
     "metadata": {},
     "output_type": "display_data"
    }
   ],
   "source": [
    "tmp = summarize_by_param('param_learning_rate')\n",
    "tmp['mean_test_score'].plot(yerr=[tmp['std_test_score'], tmp['std_test_score']], subplots=True);"
   ]
  },
  {
   "cell_type": "markdown",
   "metadata": {
    "id": "m-6XFd_ECVd9"
   },
   "source": [
    "O hiperparâmetro ideal parece estar em algum lugar entre 0.1 e 0.2, podendo testar acima de 0.2."
   ]
  },
  {
   "cell_type": "code",
   "execution_count": 43,
   "metadata": {
    "id": "W4pXIGdhCVd9"
   },
   "outputs": [
    {
     "data": {
      "text/html": [
       "<style>#sk-container-id-2 {color: black;background-color: white;}#sk-container-id-2 pre{padding: 0;}#sk-container-id-2 div.sk-toggleable {background-color: white;}#sk-container-id-2 label.sk-toggleable__label {cursor: pointer;display: block;width: 100%;margin-bottom: 0;padding: 0.3em;box-sizing: border-box;text-align: center;}#sk-container-id-2 label.sk-toggleable__label-arrow:before {content: \"▸\";float: left;margin-right: 0.25em;color: #696969;}#sk-container-id-2 label.sk-toggleable__label-arrow:hover:before {color: black;}#sk-container-id-2 div.sk-estimator:hover label.sk-toggleable__label-arrow:before {color: black;}#sk-container-id-2 div.sk-toggleable__content {max-height: 0;max-width: 0;overflow: hidden;text-align: left;background-color: #f0f8ff;}#sk-container-id-2 div.sk-toggleable__content pre {margin: 0.2em;color: black;border-radius: 0.25em;background-color: #f0f8ff;}#sk-container-id-2 input.sk-toggleable__control:checked~div.sk-toggleable__content {max-height: 200px;max-width: 100%;overflow: auto;}#sk-container-id-2 input.sk-toggleable__control:checked~label.sk-toggleable__label-arrow:before {content: \"▾\";}#sk-container-id-2 div.sk-estimator input.sk-toggleable__control:checked~label.sk-toggleable__label {background-color: #d4ebff;}#sk-container-id-2 div.sk-label input.sk-toggleable__control:checked~label.sk-toggleable__label {background-color: #d4ebff;}#sk-container-id-2 input.sk-hidden--visually {border: 0;clip: rect(1px 1px 1px 1px);clip: rect(1px, 1px, 1px, 1px);height: 1px;margin: -1px;overflow: hidden;padding: 0;position: absolute;width: 1px;}#sk-container-id-2 div.sk-estimator {font-family: monospace;background-color: #f0f8ff;border: 1px dotted black;border-radius: 0.25em;box-sizing: border-box;margin-bottom: 0.5em;}#sk-container-id-2 div.sk-estimator:hover {background-color: #d4ebff;}#sk-container-id-2 div.sk-parallel-item::after {content: \"\";width: 100%;border-bottom: 1px solid gray;flex-grow: 1;}#sk-container-id-2 div.sk-label:hover label.sk-toggleable__label {background-color: #d4ebff;}#sk-container-id-2 div.sk-serial::before {content: \"\";position: absolute;border-left: 1px solid gray;box-sizing: border-box;top: 0;bottom: 0;left: 50%;z-index: 0;}#sk-container-id-2 div.sk-serial {display: flex;flex-direction: column;align-items: center;background-color: white;padding-right: 0.2em;padding-left: 0.2em;position: relative;}#sk-container-id-2 div.sk-item {position: relative;z-index: 1;}#sk-container-id-2 div.sk-parallel {display: flex;align-items: stretch;justify-content: center;background-color: white;position: relative;}#sk-container-id-2 div.sk-item::before, #sk-container-id-2 div.sk-parallel-item::before {content: \"\";position: absolute;border-left: 1px solid gray;box-sizing: border-box;top: 0;bottom: 0;left: 50%;z-index: -1;}#sk-container-id-2 div.sk-parallel-item {display: flex;flex-direction: column;z-index: 1;position: relative;background-color: white;}#sk-container-id-2 div.sk-parallel-item:first-child::after {align-self: flex-end;width: 50%;}#sk-container-id-2 div.sk-parallel-item:last-child::after {align-self: flex-start;width: 50%;}#sk-container-id-2 div.sk-parallel-item:only-child::after {width: 0;}#sk-container-id-2 div.sk-dashed-wrapped {border: 1px dashed gray;margin: 0 0.4em 0.5em 0.4em;box-sizing: border-box;padding-bottom: 0.4em;background-color: white;}#sk-container-id-2 div.sk-label label {font-family: monospace;font-weight: bold;display: inline-block;line-height: 1.2em;}#sk-container-id-2 div.sk-label-container {text-align: center;}#sk-container-id-2 div.sk-container {/* jupyter's `normalize.less` sets `[hidden] { display: none; }` but bootstrap.min.css set `[hidden] { display: none !important; }` so we also need the `!important` here to be able to override the default hidden behavior on the sphinx rendered scikit-learn.org. See: https://github.com/scikit-learn/scikit-learn/issues/21755 */display: inline-block !important;position: relative;}#sk-container-id-2 div.sk-text-repr-fallback {display: none;}</style><div id=\"sk-container-id-2\" class=\"sk-top-container\"><div class=\"sk-text-repr-fallback\"><pre>GridSearchCV(cv=7,\n",
       "             estimator=XGBClassifier(base_score=None, booster=None,\n",
       "                                     callbacks=None, colsample_bylevel=None,\n",
       "                                     colsample_bynode=None,\n",
       "                                     colsample_bytree=None,\n",
       "                                     early_stopping_rounds=None,\n",
       "                                     enable_categorical=False, eval_metric=None,\n",
       "                                     feature_types=None, gamma=None,\n",
       "                                     gpu_id=None, grow_policy=None,\n",
       "                                     importance_type=None,\n",
       "                                     interaction_constraints=None,\n",
       "                                     learning_rate=None,...\n",
       "                                     max_delta_step=None, max_depth=None,\n",
       "                                     max_leaves=None, min_child_weight=None,\n",
       "                                     missing=nan, monotone_constraints=None,\n",
       "                                     n_estimators=100, n_jobs=None,\n",
       "                                     num_parallel_tree=None, predictor=None,\n",
       "                                     random_state=0, ...),\n",
       "             param_grid={&#x27;learning_rate&#x27;: [0.1, 0.12, 0.14, 0.16, 0.18, 0.2,\n",
       "                                           0.22, 0.24],\n",
       "                         &#x27;max_depth&#x27;: [2, 2.25, 2.5, 2.75, 3],\n",
       "                         &#x27;n_estimators&#x27;: [100, 125, 150, 175, 200, 225, 250,\n",
       "                                          275]},\n",
       "             scoring=&#x27;roc_auc&#x27;)</pre><b>In a Jupyter environment, please rerun this cell to show the HTML representation or trust the notebook. <br />On GitHub, the HTML representation is unable to render, please try loading this page with nbviewer.org.</b></div><div class=\"sk-container\" hidden><div class=\"sk-item sk-dashed-wrapped\"><div class=\"sk-label-container\"><div class=\"sk-label sk-toggleable\"><input class=\"sk-toggleable__control sk-hidden--visually\" id=\"sk-estimator-id-4\" type=\"checkbox\" ><label for=\"sk-estimator-id-4\" class=\"sk-toggleable__label sk-toggleable__label-arrow\">GridSearchCV</label><div class=\"sk-toggleable__content\"><pre>GridSearchCV(cv=7,\n",
       "             estimator=XGBClassifier(base_score=None, booster=None,\n",
       "                                     callbacks=None, colsample_bylevel=None,\n",
       "                                     colsample_bynode=None,\n",
       "                                     colsample_bytree=None,\n",
       "                                     early_stopping_rounds=None,\n",
       "                                     enable_categorical=False, eval_metric=None,\n",
       "                                     feature_types=None, gamma=None,\n",
       "                                     gpu_id=None, grow_policy=None,\n",
       "                                     importance_type=None,\n",
       "                                     interaction_constraints=None,\n",
       "                                     learning_rate=None,...\n",
       "                                     max_delta_step=None, max_depth=None,\n",
       "                                     max_leaves=None, min_child_weight=None,\n",
       "                                     missing=nan, monotone_constraints=None,\n",
       "                                     n_estimators=100, n_jobs=None,\n",
       "                                     num_parallel_tree=None, predictor=None,\n",
       "                                     random_state=0, ...),\n",
       "             param_grid={&#x27;learning_rate&#x27;: [0.1, 0.12, 0.14, 0.16, 0.18, 0.2,\n",
       "                                           0.22, 0.24],\n",
       "                         &#x27;max_depth&#x27;: [2, 2.25, 2.5, 2.75, 3],\n",
       "                         &#x27;n_estimators&#x27;: [100, 125, 150, 175, 200, 225, 250,\n",
       "                                          275]},\n",
       "             scoring=&#x27;roc_auc&#x27;)</pre></div></div></div><div class=\"sk-parallel\"><div class=\"sk-parallel-item\"><div class=\"sk-item\"><div class=\"sk-label-container\"><div class=\"sk-label sk-toggleable\"><input class=\"sk-toggleable__control sk-hidden--visually\" id=\"sk-estimator-id-5\" type=\"checkbox\" ><label for=\"sk-estimator-id-5\" class=\"sk-toggleable__label sk-toggleable__label-arrow\">estimator: XGBClassifier</label><div class=\"sk-toggleable__content\"><pre>XGBClassifier(base_score=None, booster=None, callbacks=None,\n",
       "              colsample_bylevel=None, colsample_bynode=None,\n",
       "              colsample_bytree=None, early_stopping_rounds=None,\n",
       "              enable_categorical=False, eval_metric=None, feature_types=None,\n",
       "              gamma=None, gpu_id=None, grow_policy=None, importance_type=None,\n",
       "              interaction_constraints=None, learning_rate=None, max_bin=None,\n",
       "              max_cat_threshold=None, max_cat_to_onehot=None,\n",
       "              max_delta_step=None, max_depth=None, max_leaves=None,\n",
       "              min_child_weight=None, missing=nan, monotone_constraints=None,\n",
       "              n_estimators=100, n_jobs=None, num_parallel_tree=None,\n",
       "              predictor=None, random_state=0, ...)</pre></div></div></div><div class=\"sk-serial\"><div class=\"sk-item\"><div class=\"sk-estimator sk-toggleable\"><input class=\"sk-toggleable__control sk-hidden--visually\" id=\"sk-estimator-id-6\" type=\"checkbox\" ><label for=\"sk-estimator-id-6\" class=\"sk-toggleable__label sk-toggleable__label-arrow\">XGBClassifier</label><div class=\"sk-toggleable__content\"><pre>XGBClassifier(base_score=None, booster=None, callbacks=None,\n",
       "              colsample_bylevel=None, colsample_bynode=None,\n",
       "              colsample_bytree=None, early_stopping_rounds=None,\n",
       "              enable_categorical=False, eval_metric=None, feature_types=None,\n",
       "              gamma=None, gpu_id=None, grow_policy=None, importance_type=None,\n",
       "              interaction_constraints=None, learning_rate=None, max_bin=None,\n",
       "              max_cat_threshold=None, max_cat_to_onehot=None,\n",
       "              max_delta_step=None, max_depth=None, max_leaves=None,\n",
       "              min_child_weight=None, missing=nan, monotone_constraints=None,\n",
       "              n_estimators=100, n_jobs=None, num_parallel_tree=None,\n",
       "              predictor=None, random_state=0, ...)</pre></div></div></div></div></div></div></div></div></div></div>"
      ],
      "text/plain": [
       "GridSearchCV(cv=7,\n",
       "             estimator=XGBClassifier(base_score=None, booster=None,\n",
       "                                     callbacks=None, colsample_bylevel=None,\n",
       "                                     colsample_bynode=None,\n",
       "                                     colsample_bytree=None,\n",
       "                                     early_stopping_rounds=None,\n",
       "                                     enable_categorical=False, eval_metric=None,\n",
       "                                     feature_types=None, gamma=None,\n",
       "                                     gpu_id=None, grow_policy=None,\n",
       "                                     importance_type=None,\n",
       "                                     interaction_constraints=None,\n",
       "                                     learning_rate=None,...\n",
       "                                     max_delta_step=None, max_depth=None,\n",
       "                                     max_leaves=None, min_child_weight=None,\n",
       "                                     missing=nan, monotone_constraints=None,\n",
       "                                     n_estimators=100, n_jobs=None,\n",
       "                                     num_parallel_tree=None, predictor=None,\n",
       "                                     random_state=0, ...),\n",
       "             param_grid={'learning_rate': [0.1, 0.12, 0.14, 0.16, 0.18, 0.2,\n",
       "                                           0.22, 0.24],\n",
       "                         'max_depth': [2, 2.25, 2.5, 2.75, 3],\n",
       "                         'n_estimators': [100, 125, 150, 175, 200, 225, 250,\n",
       "                                          275]},\n",
       "             scoring='roc_auc')"
      ]
     },
     "execution_count": 43,
     "metadata": {},
     "output_type": "execute_result"
    }
   ],
   "source": [
    "# Determinação do novo espaço do hiperparâmetro\n",
    "param_grid2 = dict(\n",
    "    n_estimators=[100, 125, 150, 175, 200, 225, 250, 275],\n",
    "    max_depth=[2,2.25, 2.5, 2.75,3],\n",
    "    learning_rate= [0.1, 0.12, 0.14, 0.16, 0.18, 0.2, 0.22, 0.24],\n",
    "    )\n",
    "\n",
    "# Configurando O Grid Search\n",
    "grid_search2 = GridSearchCV(xgb, param_grid2, scoring='roc_auc', cv=7)\n",
    "\n",
    "# Encontrando o melhor parâmetro\n",
    "grid_search2.fit(X_treino, y_treino)"
   ]
  },
  {
   "cell_type": "code",
   "execution_count": 44,
   "metadata": {
    "id": "o8evspFgCVd-"
   },
   "outputs": [
    {
     "data": {
      "text/plain": [
       "{'learning_rate': 0.16, 'max_depth': 3, 'n_estimators': 150}"
      ]
     },
     "execution_count": 44,
     "metadata": {},
     "output_type": "execute_result"
    }
   ],
   "source": [
    "# Melhores Hiperparâmetros\n",
    "\n",
    "grid_search2.best_params_"
   ]
  },
  {
   "cell_type": "code",
   "execution_count": 45,
   "metadata": {
    "id": "Ho2iWo8ACVd-"
   },
   "outputs": [
    {
     "data": {
      "text/html": [
       "<div>\n",
       "<style scoped>\n",
       "    .dataframe tbody tr th:only-of-type {\n",
       "        vertical-align: middle;\n",
       "    }\n",
       "\n",
       "    .dataframe tbody tr th {\n",
       "        vertical-align: top;\n",
       "    }\n",
       "\n",
       "    .dataframe thead th {\n",
       "        text-align: right;\n",
       "    }\n",
       "</style>\n",
       "<table border=\"1\" class=\"dataframe\">\n",
       "  <thead>\n",
       "    <tr style=\"text-align: right;\">\n",
       "      <th></th>\n",
       "      <th>param_n_estimators</th>\n",
       "      <th>param_max_depth</th>\n",
       "      <th>param_learning_rate</th>\n",
       "      <th>mean_test_score</th>\n",
       "      <th>std_test_score</th>\n",
       "    </tr>\n",
       "  </thead>\n",
       "  <tbody>\n",
       "    <tr>\n",
       "      <th>0</th>\n",
       "      <td>150</td>\n",
       "      <td>3</td>\n",
       "      <td>0.16</td>\n",
       "      <td>0.993188</td>\n",
       "      <td>0.006259</td>\n",
       "    </tr>\n",
       "    <tr>\n",
       "      <th>1</th>\n",
       "      <td>100</td>\n",
       "      <td>3</td>\n",
       "      <td>0.1</td>\n",
       "      <td>0.993177</td>\n",
       "      <td>0.005591</td>\n",
       "    </tr>\n",
       "    <tr>\n",
       "      <th>2</th>\n",
       "      <td>100</td>\n",
       "      <td>3</td>\n",
       "      <td>0.16</td>\n",
       "      <td>0.993177</td>\n",
       "      <td>0.005680</td>\n",
       "    </tr>\n",
       "    <tr>\n",
       "      <th>3</th>\n",
       "      <td>125</td>\n",
       "      <td>3</td>\n",
       "      <td>0.1</td>\n",
       "      <td>0.993177</td>\n",
       "      <td>0.005591</td>\n",
       "    </tr>\n",
       "    <tr>\n",
       "      <th>4</th>\n",
       "      <td>150</td>\n",
       "      <td>3</td>\n",
       "      <td>0.1</td>\n",
       "      <td>0.992988</td>\n",
       "      <td>0.005822</td>\n",
       "    </tr>\n",
       "  </tbody>\n",
       "</table>\n",
       "</div>"
      ],
      "text/plain": [
       "  param_n_estimators param_max_depth param_learning_rate  mean_test_score  \\\n",
       "0                150               3                0.16         0.993188   \n",
       "1                100               3                 0.1         0.993177   \n",
       "2                100               3                0.16         0.993177   \n",
       "3                125               3                 0.1         0.993177   \n",
       "4                150               3                 0.1         0.992988   \n",
       "\n",
       "   std_test_score  \n",
       "0        0.006259  \n",
       "1        0.005591  \n",
       "2        0.005680  \n",
       "3        0.005591  \n",
       "4        0.005822  "
      ]
     },
     "execution_count": 45,
     "metadata": {},
     "output_type": "execute_result"
    }
   ],
   "source": [
    "results = pd.DataFrame(grid_search2.cv_results_)\n",
    "\n",
    "results.sort_values(by='mean_test_score', ascending=False, inplace=True)\n",
    "\n",
    "results.reset_index(drop=True, inplace=True)\n",
    "\n",
    "results[['param_n_estimators', 'param_max_depth', 'param_learning_rate',\n",
    "    'mean_test_score', 'std_test_score']].head()"
   ]
  },
  {
   "cell_type": "code",
   "execution_count": 46,
   "metadata": {
    "id": "6X06GpquCVd_"
   },
   "outputs": [
    {
     "name": "stdout",
     "output_type": "stream",
     "text": [
      "ROC-AUC Treino:  1.0\n",
      "ROC-AUC Teste:  0.9980893592004704\n"
     ]
    }
   ],
   "source": [
    "X_treino_prev = grid_search2.predict_proba(X_treino)[:,1]\n",
    "X_teste_prev = grid_search2.predict_proba(X_teste)[:,1]\n",
    "\n",
    "print('ROC-AUC Treino: ', roc_auc_score(y_treino, X_treino_prev))\n",
    "print('ROC-AUC Teste: ', roc_auc_score(y_teste, X_teste_prev))"
   ]
  },
  {
   "cell_type": "code",
   "execution_count": 47,
   "metadata": {
    "id": "GSsC0NtKVzjA"
   },
   "outputs": [
    {
     "name": "stdout",
     "output_type": "stream",
     "text": [
      "Score médio do melhor modelo: 0.9932\n"
     ]
    }
   ],
   "source": [
    "print('Score médio do melhor modelo: {}'.format(round(grid_search.best_score_,4)))"
   ]
  },
  {
   "cell_type": "code",
   "execution_count": 48,
   "metadata": {
    "id": "wROVHn1qV4t8"
   },
   "outputs": [
    {
     "name": "stdout",
     "output_type": "stream",
     "text": [
      "Score médio do melhor modelo: 0.9932\n"
     ]
    }
   ],
   "source": [
    "print('Score médio do melhor modelo: {}'.format(round(grid_search2.best_score_,4)))"
   ]
  },
  {
   "cell_type": "markdown",
   "metadata": {
    "id": "-Nqgc2qy-3B-"
   },
   "source": [
    "# **RANDOM SEARCH**"
   ]
  },
  {
   "cell_type": "code",
   "execution_count": 49,
   "metadata": {
    "id": "bYASuLrKBi2R"
   },
   "outputs": [],
   "source": [
    "from scipy import stats"
   ]
  },
  {
   "cell_type": "code",
   "execution_count": 50,
   "metadata": {
    "id": "099gNtPJua14"
   },
   "outputs": [
    {
     "data": {
      "text/plain": [
       "2"
      ]
     },
     "execution_count": 50,
     "metadata": {},
     "output_type": "execute_result"
    }
   ],
   "source": [
    "stats.randint.rvs(1, 5)"
   ]
  },
  {
   "cell_type": "code",
   "execution_count": 51,
   "metadata": {
    "id": "xOTcvFVUua15"
   },
   "outputs": [
    {
     "data": {
      "text/plain": [
       "0.8874347927115253"
      ]
     },
     "execution_count": 51,
     "metadata": {},
     "output_type": "execute_result"
    }
   ],
   "source": [
    "stats.uniform.rvs(0, 1)"
   ]
  },
  {
   "cell_type": "code",
   "execution_count": 52,
   "metadata": {
    "id": "Jy3us0YPCQo2"
   },
   "outputs": [],
   "source": [
    "from xgboost import XGBClassifier\n",
    "from sklearn.metrics import roc_auc_score\n",
    "from sklearn.model_selection import RandomizedSearchCV"
   ]
  },
  {
   "cell_type": "code",
   "execution_count": 53,
   "metadata": {
    "id": "yJaF20Q-ua17"
   },
   "outputs": [],
   "source": [
    "# Gerando o modelo\n",
    "xgb = XGBClassifier(random_state=0)"
   ]
  },
  {
   "cell_type": "code",
   "execution_count": 54,
   "metadata": {
    "id": "tsk-DeZxCE_-"
   },
   "outputs": [],
   "source": [
    "# Determinação do espaço de hiperparâmetros\n",
    "param_random = dict(\n",
    "    n_estimators=stats.randint(10, 300),\n",
    "    learning_rate=stats.uniform(0.001, 0.3),\n",
    "    max_depth=stats.randint(1, 8),\n",
    "    objective=('binary:logistic','binary:logitraw','binary:hinge')\n",
    "    )"
   ]
  },
  {
   "cell_type": "code",
   "execution_count": 55,
   "metadata": {
    "id": "UgniAJ8Wua18"
   },
   "outputs": [],
   "source": [
    "# Configurando a procura com o Random Search\n",
    "random_search = RandomizedSearchCV(xgb,\n",
    "                            param_random,\n",
    "                            scoring='roc_auc',\n",
    "                            cv=7,\n",
    "                            n_iter = 100,\n",
    "                            random_state=0,\n",
    "                            n_jobs=4)"
   ]
  },
  {
   "cell_type": "code",
   "execution_count": 56,
   "metadata": {
    "id": "hdynIoBaCrad"
   },
   "outputs": [
    {
     "data": {
      "text/html": [
       "<style>#sk-container-id-3 {color: black;background-color: white;}#sk-container-id-3 pre{padding: 0;}#sk-container-id-3 div.sk-toggleable {background-color: white;}#sk-container-id-3 label.sk-toggleable__label {cursor: pointer;display: block;width: 100%;margin-bottom: 0;padding: 0.3em;box-sizing: border-box;text-align: center;}#sk-container-id-3 label.sk-toggleable__label-arrow:before {content: \"▸\";float: left;margin-right: 0.25em;color: #696969;}#sk-container-id-3 label.sk-toggleable__label-arrow:hover:before {color: black;}#sk-container-id-3 div.sk-estimator:hover label.sk-toggleable__label-arrow:before {color: black;}#sk-container-id-3 div.sk-toggleable__content {max-height: 0;max-width: 0;overflow: hidden;text-align: left;background-color: #f0f8ff;}#sk-container-id-3 div.sk-toggleable__content pre {margin: 0.2em;color: black;border-radius: 0.25em;background-color: #f0f8ff;}#sk-container-id-3 input.sk-toggleable__control:checked~div.sk-toggleable__content {max-height: 200px;max-width: 100%;overflow: auto;}#sk-container-id-3 input.sk-toggleable__control:checked~label.sk-toggleable__label-arrow:before {content: \"▾\";}#sk-container-id-3 div.sk-estimator input.sk-toggleable__control:checked~label.sk-toggleable__label {background-color: #d4ebff;}#sk-container-id-3 div.sk-label input.sk-toggleable__control:checked~label.sk-toggleable__label {background-color: #d4ebff;}#sk-container-id-3 input.sk-hidden--visually {border: 0;clip: rect(1px 1px 1px 1px);clip: rect(1px, 1px, 1px, 1px);height: 1px;margin: -1px;overflow: hidden;padding: 0;position: absolute;width: 1px;}#sk-container-id-3 div.sk-estimator {font-family: monospace;background-color: #f0f8ff;border: 1px dotted black;border-radius: 0.25em;box-sizing: border-box;margin-bottom: 0.5em;}#sk-container-id-3 div.sk-estimator:hover {background-color: #d4ebff;}#sk-container-id-3 div.sk-parallel-item::after {content: \"\";width: 100%;border-bottom: 1px solid gray;flex-grow: 1;}#sk-container-id-3 div.sk-label:hover label.sk-toggleable__label {background-color: #d4ebff;}#sk-container-id-3 div.sk-serial::before {content: \"\";position: absolute;border-left: 1px solid gray;box-sizing: border-box;top: 0;bottom: 0;left: 50%;z-index: 0;}#sk-container-id-3 div.sk-serial {display: flex;flex-direction: column;align-items: center;background-color: white;padding-right: 0.2em;padding-left: 0.2em;position: relative;}#sk-container-id-3 div.sk-item {position: relative;z-index: 1;}#sk-container-id-3 div.sk-parallel {display: flex;align-items: stretch;justify-content: center;background-color: white;position: relative;}#sk-container-id-3 div.sk-item::before, #sk-container-id-3 div.sk-parallel-item::before {content: \"\";position: absolute;border-left: 1px solid gray;box-sizing: border-box;top: 0;bottom: 0;left: 50%;z-index: -1;}#sk-container-id-3 div.sk-parallel-item {display: flex;flex-direction: column;z-index: 1;position: relative;background-color: white;}#sk-container-id-3 div.sk-parallel-item:first-child::after {align-self: flex-end;width: 50%;}#sk-container-id-3 div.sk-parallel-item:last-child::after {align-self: flex-start;width: 50%;}#sk-container-id-3 div.sk-parallel-item:only-child::after {width: 0;}#sk-container-id-3 div.sk-dashed-wrapped {border: 1px dashed gray;margin: 0 0.4em 0.5em 0.4em;box-sizing: border-box;padding-bottom: 0.4em;background-color: white;}#sk-container-id-3 div.sk-label label {font-family: monospace;font-weight: bold;display: inline-block;line-height: 1.2em;}#sk-container-id-3 div.sk-label-container {text-align: center;}#sk-container-id-3 div.sk-container {/* jupyter's `normalize.less` sets `[hidden] { display: none; }` but bootstrap.min.css set `[hidden] { display: none !important; }` so we also need the `!important` here to be able to override the default hidden behavior on the sphinx rendered scikit-learn.org. See: https://github.com/scikit-learn/scikit-learn/issues/21755 */display: inline-block !important;position: relative;}#sk-container-id-3 div.sk-text-repr-fallback {display: none;}</style><div id=\"sk-container-id-3\" class=\"sk-top-container\"><div class=\"sk-text-repr-fallback\"><pre>RandomizedSearchCV(cv=7,\n",
       "                   estimator=XGBClassifier(base_score=None, booster=None,\n",
       "                                           callbacks=None,\n",
       "                                           colsample_bylevel=None,\n",
       "                                           colsample_bynode=None,\n",
       "                                           colsample_bytree=None,\n",
       "                                           early_stopping_rounds=None,\n",
       "                                           enable_categorical=False,\n",
       "                                           eval_metric=None, feature_types=None,\n",
       "                                           gamma=None, gpu_id=None,\n",
       "                                           grow_policy=None,\n",
       "                                           importance_type=None,\n",
       "                                           interaction_constraints=None,\n",
       "                                           learning_rate...\n",
       "                   param_distributions={&#x27;learning_rate&#x27;: &lt;scipy.stats._distn_infrastructure.rv_continuous_frozen object at 0x00000229DB45EBE0&gt;,\n",
       "                                        &#x27;max_depth&#x27;: &lt;scipy.stats._distn_infrastructure.rv_discrete_frozen object at 0x00000229DB3F93A0&gt;,\n",
       "                                        &#x27;n_estimators&#x27;: &lt;scipy.stats._distn_infrastructure.rv_discrete_frozen object at 0x00000229E281C7C0&gt;,\n",
       "                                        &#x27;objective&#x27;: (&#x27;binary:logistic&#x27;,\n",
       "                                                      &#x27;binary:logitraw&#x27;,\n",
       "                                                      &#x27;binary:hinge&#x27;)},\n",
       "                   random_state=0, scoring=&#x27;roc_auc&#x27;)</pre><b>In a Jupyter environment, please rerun this cell to show the HTML representation or trust the notebook. <br />On GitHub, the HTML representation is unable to render, please try loading this page with nbviewer.org.</b></div><div class=\"sk-container\" hidden><div class=\"sk-item sk-dashed-wrapped\"><div class=\"sk-label-container\"><div class=\"sk-label sk-toggleable\"><input class=\"sk-toggleable__control sk-hidden--visually\" id=\"sk-estimator-id-7\" type=\"checkbox\" ><label for=\"sk-estimator-id-7\" class=\"sk-toggleable__label sk-toggleable__label-arrow\">RandomizedSearchCV</label><div class=\"sk-toggleable__content\"><pre>RandomizedSearchCV(cv=7,\n",
       "                   estimator=XGBClassifier(base_score=None, booster=None,\n",
       "                                           callbacks=None,\n",
       "                                           colsample_bylevel=None,\n",
       "                                           colsample_bynode=None,\n",
       "                                           colsample_bytree=None,\n",
       "                                           early_stopping_rounds=None,\n",
       "                                           enable_categorical=False,\n",
       "                                           eval_metric=None, feature_types=None,\n",
       "                                           gamma=None, gpu_id=None,\n",
       "                                           grow_policy=None,\n",
       "                                           importance_type=None,\n",
       "                                           interaction_constraints=None,\n",
       "                                           learning_rate...\n",
       "                   param_distributions={&#x27;learning_rate&#x27;: &lt;scipy.stats._distn_infrastructure.rv_continuous_frozen object at 0x00000229DB45EBE0&gt;,\n",
       "                                        &#x27;max_depth&#x27;: &lt;scipy.stats._distn_infrastructure.rv_discrete_frozen object at 0x00000229DB3F93A0&gt;,\n",
       "                                        &#x27;n_estimators&#x27;: &lt;scipy.stats._distn_infrastructure.rv_discrete_frozen object at 0x00000229E281C7C0&gt;,\n",
       "                                        &#x27;objective&#x27;: (&#x27;binary:logistic&#x27;,\n",
       "                                                      &#x27;binary:logitraw&#x27;,\n",
       "                                                      &#x27;binary:hinge&#x27;)},\n",
       "                   random_state=0, scoring=&#x27;roc_auc&#x27;)</pre></div></div></div><div class=\"sk-parallel\"><div class=\"sk-parallel-item\"><div class=\"sk-item\"><div class=\"sk-label-container\"><div class=\"sk-label sk-toggleable\"><input class=\"sk-toggleable__control sk-hidden--visually\" id=\"sk-estimator-id-8\" type=\"checkbox\" ><label for=\"sk-estimator-id-8\" class=\"sk-toggleable__label sk-toggleable__label-arrow\">estimator: XGBClassifier</label><div class=\"sk-toggleable__content\"><pre>XGBClassifier(base_score=None, booster=None, callbacks=None,\n",
       "              colsample_bylevel=None, colsample_bynode=None,\n",
       "              colsample_bytree=None, early_stopping_rounds=None,\n",
       "              enable_categorical=False, eval_metric=None, feature_types=None,\n",
       "              gamma=None, gpu_id=None, grow_policy=None, importance_type=None,\n",
       "              interaction_constraints=None, learning_rate=None, max_bin=None,\n",
       "              max_cat_threshold=None, max_cat_to_onehot=None,\n",
       "              max_delta_step=None, max_depth=None, max_leaves=None,\n",
       "              min_child_weight=None, missing=nan, monotone_constraints=None,\n",
       "              n_estimators=100, n_jobs=None, num_parallel_tree=None,\n",
       "              predictor=None, random_state=0, ...)</pre></div></div></div><div class=\"sk-serial\"><div class=\"sk-item\"><div class=\"sk-estimator sk-toggleable\"><input class=\"sk-toggleable__control sk-hidden--visually\" id=\"sk-estimator-id-9\" type=\"checkbox\" ><label for=\"sk-estimator-id-9\" class=\"sk-toggleable__label sk-toggleable__label-arrow\">XGBClassifier</label><div class=\"sk-toggleable__content\"><pre>XGBClassifier(base_score=None, booster=None, callbacks=None,\n",
       "              colsample_bylevel=None, colsample_bynode=None,\n",
       "              colsample_bytree=None, early_stopping_rounds=None,\n",
       "              enable_categorical=False, eval_metric=None, feature_types=None,\n",
       "              gamma=None, gpu_id=None, grow_policy=None, importance_type=None,\n",
       "              interaction_constraints=None, learning_rate=None, max_bin=None,\n",
       "              max_cat_threshold=None, max_cat_to_onehot=None,\n",
       "              max_delta_step=None, max_depth=None, max_leaves=None,\n",
       "              min_child_weight=None, missing=nan, monotone_constraints=None,\n",
       "              n_estimators=100, n_jobs=None, num_parallel_tree=None,\n",
       "              predictor=None, random_state=0, ...)</pre></div></div></div></div></div></div></div></div></div></div>"
      ],
      "text/plain": [
       "RandomizedSearchCV(cv=7,\n",
       "                   estimator=XGBClassifier(base_score=None, booster=None,\n",
       "                                           callbacks=None,\n",
       "                                           colsample_bylevel=None,\n",
       "                                           colsample_bynode=None,\n",
       "                                           colsample_bytree=None,\n",
       "                                           early_stopping_rounds=None,\n",
       "                                           enable_categorical=False,\n",
       "                                           eval_metric=None, feature_types=None,\n",
       "                                           gamma=None, gpu_id=None,\n",
       "                                           grow_policy=None,\n",
       "                                           importance_type=None,\n",
       "                                           interaction_constraints=None,\n",
       "                                           learning_rate...\n",
       "                   param_distributions={'learning_rate': <scipy.stats._distn_infrastructure.rv_continuous_frozen object at 0x00000229DB45EBE0>,\n",
       "                                        'max_depth': <scipy.stats._distn_infrastructure.rv_discrete_frozen object at 0x00000229DB3F93A0>,\n",
       "                                        'n_estimators': <scipy.stats._distn_infrastructure.rv_discrete_frozen object at 0x00000229E281C7C0>,\n",
       "                                        'objective': ('binary:logistic',\n",
       "                                                      'binary:logitraw',\n",
       "                                                      'binary:hinge')},\n",
       "                   random_state=0, scoring='roc_auc')"
      ]
     },
     "execution_count": 56,
     "metadata": {},
     "output_type": "execute_result"
    }
   ],
   "source": [
    "# Analisando os hiperparâmetros\n",
    "random_search.fit(X_treino, y_treino)"
   ]
  },
  {
   "cell_type": "code",
   "execution_count": 57,
   "metadata": {
    "id": "Gfd8plYKua19"
   },
   "outputs": [
    {
     "data": {
      "text/plain": [
       "{'learning_rate': 0.21718979641777503,\n",
       " 'max_depth': 2,\n",
       " 'n_estimators': 275,\n",
       " 'objective': 'binary:logitraw'}"
      ]
     },
     "execution_count": 57,
     "metadata": {},
     "output_type": "execute_result"
    }
   ],
   "source": [
    "# Melhores hiperparâmetros\n",
    "random_search.best_params_"
   ]
  },
  {
   "cell_type": "code",
   "execution_count": 58,
   "metadata": {
    "id": "9SSAVz_Nua19"
   },
   "outputs": [
    {
     "name": "stdout",
     "output_type": "stream",
     "text": [
      "(100, 19)\n"
     ]
    },
    {
     "data": {
      "text/html": [
       "<div>\n",
       "<style scoped>\n",
       "    .dataframe tbody tr th:only-of-type {\n",
       "        vertical-align: middle;\n",
       "    }\n",
       "\n",
       "    .dataframe tbody tr th {\n",
       "        vertical-align: top;\n",
       "    }\n",
       "\n",
       "    .dataframe thead th {\n",
       "        text-align: right;\n",
       "    }\n",
       "</style>\n",
       "<table border=\"1\" class=\"dataframe\">\n",
       "  <thead>\n",
       "    <tr style=\"text-align: right;\">\n",
       "      <th></th>\n",
       "      <th>mean_fit_time</th>\n",
       "      <th>std_fit_time</th>\n",
       "      <th>mean_score_time</th>\n",
       "      <th>std_score_time</th>\n",
       "      <th>param_learning_rate</th>\n",
       "      <th>param_max_depth</th>\n",
       "      <th>param_n_estimators</th>\n",
       "      <th>param_objective</th>\n",
       "      <th>params</th>\n",
       "      <th>split0_test_score</th>\n",
       "      <th>split1_test_score</th>\n",
       "      <th>split2_test_score</th>\n",
       "      <th>split3_test_score</th>\n",
       "      <th>split4_test_score</th>\n",
       "      <th>split5_test_score</th>\n",
       "      <th>split6_test_score</th>\n",
       "      <th>mean_test_score</th>\n",
       "      <th>std_test_score</th>\n",
       "      <th>rank_test_score</th>\n",
       "    </tr>\n",
       "  </thead>\n",
       "  <tbody>\n",
       "    <tr>\n",
       "      <th>0</th>\n",
       "      <td>0.394972</td>\n",
       "      <td>0.251662</td>\n",
       "      <td>0.002232</td>\n",
       "      <td>0.005468</td>\n",
       "      <td>0.165644</td>\n",
       "      <td>6</td>\n",
       "      <td>202</td>\n",
       "      <td>binary:logitraw</td>\n",
       "      <td>{'learning_rate': 0.16564405117819742, 'max_de...</td>\n",
       "      <td>1.000000</td>\n",
       "      <td>0.981481</td>\n",
       "      <td>0.976190</td>\n",
       "      <td>0.988095</td>\n",
       "      <td>0.997403</td>\n",
       "      <td>1.0</td>\n",
       "      <td>0.997279</td>\n",
       "      <td>0.991493</td>\n",
       "      <td>0.008937</td>\n",
       "      <td>15</td>\n",
       "    </tr>\n",
       "    <tr>\n",
       "      <th>1</th>\n",
       "      <td>0.049754</td>\n",
       "      <td>0.005432</td>\n",
       "      <td>0.006468</td>\n",
       "      <td>0.007485</td>\n",
       "      <td>0.188069</td>\n",
       "      <td>3</td>\n",
       "      <td>97</td>\n",
       "      <td>binary:hinge</td>\n",
       "      <td>{'learning_rate': 0.1880691090357917, 'max_dep...</td>\n",
       "      <td>0.976190</td>\n",
       "      <td>0.962302</td>\n",
       "      <td>0.952381</td>\n",
       "      <td>0.976190</td>\n",
       "      <td>0.948701</td>\n",
       "      <td>1.0</td>\n",
       "      <td>0.904762</td>\n",
       "      <td>0.960075</td>\n",
       "      <td>0.027688</td>\n",
       "      <td>65</td>\n",
       "    </tr>\n",
       "    <tr>\n",
       "      <th>2</th>\n",
       "      <td>0.186628</td>\n",
       "      <td>0.011945</td>\n",
       "      <td>0.001502</td>\n",
       "      <td>0.003678</td>\n",
       "      <td>0.018014</td>\n",
       "      <td>5</td>\n",
       "      <td>203</td>\n",
       "      <td>binary:hinge</td>\n",
       "      <td>{'learning_rate': 0.018013893195232954, 'max_d...</td>\n",
       "      <td>0.952381</td>\n",
       "      <td>0.948413</td>\n",
       "      <td>0.928571</td>\n",
       "      <td>0.938492</td>\n",
       "      <td>0.888961</td>\n",
       "      <td>1.0</td>\n",
       "      <td>0.904762</td>\n",
       "      <td>0.937369</td>\n",
       "      <td>0.033285</td>\n",
       "      <td>85</td>\n",
       "    </tr>\n",
       "    <tr>\n",
       "      <th>3</th>\n",
       "      <td>0.055862</td>\n",
       "      <td>0.007706</td>\n",
       "      <td>0.005396</td>\n",
       "      <td>0.006837</td>\n",
       "      <td>0.244651</td>\n",
       "      <td>7</td>\n",
       "      <td>98</td>\n",
       "      <td>binary:logitraw</td>\n",
       "      <td>{'learning_rate': 0.24465061863264795, 'max_de...</td>\n",
       "      <td>0.998677</td>\n",
       "      <td>0.982804</td>\n",
       "      <td>0.976190</td>\n",
       "      <td>0.985450</td>\n",
       "      <td>0.996104</td>\n",
       "      <td>1.0</td>\n",
       "      <td>0.997279</td>\n",
       "      <td>0.990929</td>\n",
       "      <td>0.008641</td>\n",
       "      <td>27</td>\n",
       "    </tr>\n",
       "    <tr>\n",
       "      <th>4</th>\n",
       "      <td>0.050636</td>\n",
       "      <td>0.008014</td>\n",
       "      <td>0.006609</td>\n",
       "      <td>0.007633</td>\n",
       "      <td>0.278679</td>\n",
       "      <td>6</td>\n",
       "      <td>82</td>\n",
       "      <td>binary:logitraw</td>\n",
       "      <td>{'learning_rate': 0.2786789914877983, 'max_dep...</td>\n",
       "      <td>1.000000</td>\n",
       "      <td>0.984127</td>\n",
       "      <td>0.976190</td>\n",
       "      <td>0.989418</td>\n",
       "      <td>0.996104</td>\n",
       "      <td>1.0</td>\n",
       "      <td>0.997279</td>\n",
       "      <td>0.991874</td>\n",
       "      <td>0.008377</td>\n",
       "      <td>5</td>\n",
       "    </tr>\n",
       "  </tbody>\n",
       "</table>\n",
       "</div>"
      ],
      "text/plain": [
       "   mean_fit_time  std_fit_time  mean_score_time  std_score_time  \\\n",
       "0       0.394972      0.251662         0.002232        0.005468   \n",
       "1       0.049754      0.005432         0.006468        0.007485   \n",
       "2       0.186628      0.011945         0.001502        0.003678   \n",
       "3       0.055862      0.007706         0.005396        0.006837   \n",
       "4       0.050636      0.008014         0.006609        0.007633   \n",
       "\n",
       "  param_learning_rate param_max_depth param_n_estimators  param_objective  \\\n",
       "0            0.165644               6                202  binary:logitraw   \n",
       "1            0.188069               3                 97     binary:hinge   \n",
       "2            0.018014               5                203     binary:hinge   \n",
       "3            0.244651               7                 98  binary:logitraw   \n",
       "4            0.278679               6                 82  binary:logitraw   \n",
       "\n",
       "                                              params  split0_test_score  \\\n",
       "0  {'learning_rate': 0.16564405117819742, 'max_de...           1.000000   \n",
       "1  {'learning_rate': 0.1880691090357917, 'max_dep...           0.976190   \n",
       "2  {'learning_rate': 0.018013893195232954, 'max_d...           0.952381   \n",
       "3  {'learning_rate': 0.24465061863264795, 'max_de...           0.998677   \n",
       "4  {'learning_rate': 0.2786789914877983, 'max_dep...           1.000000   \n",
       "\n",
       "   split1_test_score  split2_test_score  split3_test_score  split4_test_score  \\\n",
       "0           0.981481           0.976190           0.988095           0.997403   \n",
       "1           0.962302           0.952381           0.976190           0.948701   \n",
       "2           0.948413           0.928571           0.938492           0.888961   \n",
       "3           0.982804           0.976190           0.985450           0.996104   \n",
       "4           0.984127           0.976190           0.989418           0.996104   \n",
       "\n",
       "   split5_test_score  split6_test_score  mean_test_score  std_test_score  \\\n",
       "0                1.0           0.997279         0.991493        0.008937   \n",
       "1                1.0           0.904762         0.960075        0.027688   \n",
       "2                1.0           0.904762         0.937369        0.033285   \n",
       "3                1.0           0.997279         0.990929        0.008641   \n",
       "4                1.0           0.997279         0.991874        0.008377   \n",
       "\n",
       "   rank_test_score  \n",
       "0               15  \n",
       "1               65  \n",
       "2               85  \n",
       "3               27  \n",
       "4                5  "
      ]
     },
     "execution_count": 58,
     "metadata": {},
     "output_type": "execute_result"
    }
   ],
   "source": [
    "# Resultados para todos os modelos\n",
    "\n",
    "results = pd.DataFrame(random_search.cv_results_)\n",
    "\n",
    "print(results.shape)\n",
    "\n",
    "results.head()"
   ]
  },
  {
   "cell_type": "code",
   "execution_count": 59,
   "metadata": {
    "id": "0uYE3JcKua1-"
   },
   "outputs": [
    {
     "data": {
      "text/html": [
       "<div>\n",
       "<style scoped>\n",
       "    .dataframe tbody tr th:only-of-type {\n",
       "        vertical-align: middle;\n",
       "    }\n",
       "\n",
       "    .dataframe tbody tr th {\n",
       "        vertical-align: top;\n",
       "    }\n",
       "\n",
       "    .dataframe thead th {\n",
       "        text-align: right;\n",
       "    }\n",
       "</style>\n",
       "<table border=\"1\" class=\"dataframe\">\n",
       "  <thead>\n",
       "    <tr style=\"text-align: right;\">\n",
       "      <th></th>\n",
       "      <th>param_n_estimators</th>\n",
       "      <th>param_learning_rate</th>\n",
       "      <th>param_max_depth</th>\n",
       "      <th>param_objective</th>\n",
       "      <th>mean_test_score</th>\n",
       "      <th>std_test_score</th>\n",
       "    </tr>\n",
       "  </thead>\n",
       "  <tbody>\n",
       "    <tr>\n",
       "      <th>0</th>\n",
       "      <td>275</td>\n",
       "      <td>0.21719</td>\n",
       "      <td>2</td>\n",
       "      <td>binary:logitraw</td>\n",
       "      <td>0.992437</td>\n",
       "      <td>0.007570</td>\n",
       "    </tr>\n",
       "    <tr>\n",
       "      <th>1</th>\n",
       "      <td>135</td>\n",
       "      <td>0.106693</td>\n",
       "      <td>7</td>\n",
       "      <td>binary:logistic</td>\n",
       "      <td>0.992434</td>\n",
       "      <td>0.006230</td>\n",
       "    </tr>\n",
       "    <tr>\n",
       "      <th>2</th>\n",
       "      <td>94</td>\n",
       "      <td>0.098514</td>\n",
       "      <td>3</td>\n",
       "      <td>binary:logistic</td>\n",
       "      <td>0.992421</td>\n",
       "      <td>0.006432</td>\n",
       "    </tr>\n",
       "    <tr>\n",
       "      <th>3</th>\n",
       "      <td>127</td>\n",
       "      <td>0.208759</td>\n",
       "      <td>5</td>\n",
       "      <td>binary:logitraw</td>\n",
       "      <td>0.992060</td>\n",
       "      <td>0.008333</td>\n",
       "    </tr>\n",
       "    <tr>\n",
       "      <th>4</th>\n",
       "      <td>82</td>\n",
       "      <td>0.278679</td>\n",
       "      <td>6</td>\n",
       "      <td>binary:logitraw</td>\n",
       "      <td>0.991874</td>\n",
       "      <td>0.008377</td>\n",
       "    </tr>\n",
       "  </tbody>\n",
       "</table>\n",
       "</div>"
      ],
      "text/plain": [
       "  param_n_estimators param_learning_rate param_max_depth  param_objective  \\\n",
       "0                275             0.21719               2  binary:logitraw   \n",
       "1                135            0.106693               7  binary:logistic   \n",
       "2                 94            0.098514               3  binary:logistic   \n",
       "3                127            0.208759               5  binary:logitraw   \n",
       "4                 82            0.278679               6  binary:logitraw   \n",
       "\n",
       "   mean_test_score  std_test_score  \n",
       "0         0.992437        0.007570  \n",
       "1         0.992434        0.006230  \n",
       "2         0.992421        0.006432  \n",
       "3         0.992060        0.008333  \n",
       "4         0.991874        0.008377  "
      ]
     },
     "execution_count": 59,
     "metadata": {},
     "output_type": "execute_result"
    }
   ],
   "source": [
    "# Ordenando os modelos com melhores desempenhos\n",
    "results.sort_values(by='mean_test_score', ascending=False, inplace=True)\n",
    "\n",
    "results.reset_index(drop=True, inplace=True)\n",
    "\n",
    "results[['param_n_estimators', 'param_learning_rate', 'param_max_depth', 'param_objective',\n",
    "    'mean_test_score', 'std_test_score']].head()"
   ]
  },
  {
   "cell_type": "code",
   "execution_count": 60,
   "metadata": {
    "id": "Kmd9TsHeua2A"
   },
   "outputs": [
    {
     "data": {
      "image/png": "[encoded data removed]",
      "text/plain": [
       "<Figure size 640x480 with 1 Axes>"
      ]
     },
     "metadata": {},
     "output_type": "display_data"
    }
   ],
   "source": [
    "# Gráfico dos modelos conforme desempenho\n",
    "\n",
    "results['mean_test_score'].plot(yerr=[results['std_test_score'], results['std_test_score']], subplots=True)\n",
    "\n",
    "plt.ylabel('Score médio')\n",
    "plt.xlabel('Combinação de hiperparâmetros');"
   ]
  },
  {
   "cell_type": "code",
   "execution_count": 61,
   "metadata": {
    "id": "jNCkendrua2A"
   },
   "outputs": [
    {
     "name": "stdout",
     "output_type": "stream",
     "text": [
      "Train roc_auc:  1.0\n",
      "Test roc_auc:  0.9986772486772486\n"
     ]
    }
   ],
   "source": [
    "X_treino_prev = random_search.predict_proba(X_treino)[:,1]\n",
    "X_teste_prev = random_search.predict_proba(X_teste)[:,1]\n",
    "\n",
    "print('Train roc_auc: ', roc_auc_score(y_treino, X_treino_prev))\n",
    "print('Test roc_auc: ', roc_auc_score(y_teste, X_teste_prev))"
   ]
  },
  {
   "cell_type": "code",
   "execution_count": 62,
   "metadata": {
    "id": "3uYlLP-QVl1h"
   },
   "outputs": [
    {
     "name": "stdout",
     "output_type": "stream",
     "text": [
      "Score médio do melhor modelo: 0.9924\n"
     ]
    }
   ],
   "source": [
    "print('Score médio do melhor modelo: {}'.format(round(random_search.best_score_,4)))"
   ]
  },
  {
   "cell_type": "markdown",
   "metadata": {
    "id": "ew79CtHBP0_q"
   },
   "source": [
    "# **OTIMIZAÇÃO BAYESIANA**"
   ]
  },
  {
   "cell_type": "code",
   "execution_count": 63,
   "metadata": {
    "id": "861DcOl5TWyU"
   },
   "outputs": [],
   "source": [
    "from sklearn.metrics import roc_auc_score"
   ]
  },
  {
   "cell_type": "code",
   "execution_count": 64,
   "metadata": {
    "id": "1kTIQJB_TZlt"
   },
   "outputs": [
    {
     "name": "stdout",
     "output_type": "stream",
     "text": [
      "Defaulting to user installation because normal site-packages is not writeable\n",
      "Collecting scikit-optimize\n",
      "  Downloading scikit_optimize-0.9.0-py2.py3-none-any.whl (100 kB)\n",
      "     -------------------------------------- 100.3/100.3 kB 2.9 MB/s eta 0:00:00\n",
      "Requirement already satisfied: numpy>=1.13.3 in c:\\users\\luiz philipe rangel\\appdata\\roaming\\python\\python39\\site-packages (from scikit-optimize) (1.22.4)\n",
      "Requirement already satisfied: scikit-learn>=0.20.0 in c:\\users\\luiz philipe rangel\\appdata\\roaming\\python\\python39\\site-packages (from scikit-optimize) (1.2.0)\n",
      "Collecting pyaml>=16.9\n",
      "  Downloading pyaml-21.10.1-py2.py3-none-any.whl (24 kB)\n",
      "Requirement already satisfied: scipy>=0.19.1 in c:\\programdata\\anaconda3\\lib\\site-packages (from scikit-optimize) (1.10.0)\n",
      "Requirement already satisfied: joblib>=0.11 in c:\\users\\luiz philipe rangel\\appdata\\roaming\\python\\python39\\site-packages (from scikit-optimize) (1.2.0)\n",
      "Requirement already satisfied: PyYAML in c:\\programdata\\anaconda3\\lib\\site-packages (from pyaml>=16.9->scikit-optimize) (6.0)\n",
      "Requirement already satisfied: threadpoolctl>=2.0.0 in c:\\programdata\\anaconda3\\lib\\site-packages (from scikit-learn>=0.20.0->scikit-optimize) (2.2.0)\n",
      "Installing collected packages: pyaml, scikit-optimize\n",
      "Successfully installed pyaml-21.10.1 scikit-optimize-0.9.0\n",
      "Note: you may need to restart the kernel to use updated packages.\n"
     ]
    },
    {
     "name": "stderr",
     "output_type": "stream",
     "text": [
      "\n",
      "[notice] A new release of pip available: 22.3.1 -> 23.0.1\n",
      "[notice] To update, run: python.exe -m pip install --upgrade pip\n"
     ]
    }
   ],
   "source": [
    "pip install scikit-optimize"
   ]
  },
  {
   "cell_type": "code",
   "execution_count": 65,
   "metadata": {
    "id": "ps1rjFRGTctr"
   },
   "outputs": [],
   "source": [
    "# Importando o Bayes Search com cross-validation:\n",
    "from skopt import BayesSearchCV"
   ]
  },
  {
   "cell_type": "code",
   "execution_count": 66,
   "metadata": {
    "id": "NbrBVhjuTWyV"
   },
   "outputs": [],
   "source": [
    "from xgboost import XGBClassifier"
   ]
  },
  {
   "cell_type": "code",
   "execution_count": 67,
   "metadata": {
    "id": "X8jvbpUZThUZ"
   },
   "outputs": [],
   "source": [
    "# Importando espaços de busca\n",
    "from skopt.space import Integer, Real, Categorical"
   ]
  },
  {
   "cell_type": "code",
   "execution_count": 68,
   "metadata": {
    "id": "GytZAKM3TlPx"
   },
   "outputs": [],
   "source": [
    "# Definindo a otimização Bayesiana:\n",
    "bayes_search = BayesSearchCV(estimator = XGBClassifier(random_state = 0),\n",
    "                              search_spaces = {'n_estimators':Integer(1,300),\n",
    "                                               'learning_rate': Real(0.001,0.3),\n",
    "                                               'max_depth':Integer(1,8),\n",
    "                                               'objective': Categorical(['binary:logistic','binary:logitraw','binary:hinge'])},\n",
    "                              scoring='roc_auc', \n",
    "                              cv = 7,\n",
    "                              n_iter = 50)"
   ]
  },
  {
   "cell_type": "code",
   "execution_count": 69,
   "metadata": {
    "id": "h7TjMbWmU8xJ"
   },
   "outputs": [
    {
     "data": {
      "text/html": [
       "<style>#sk-container-id-4 {color: black;background-color: white;}#sk-container-id-4 pre{padding: 0;}#sk-container-id-4 div.sk-toggleable {background-color: white;}#sk-container-id-4 label.sk-toggleable__label {cursor: pointer;display: block;width: 100%;margin-bottom: 0;padding: 0.3em;box-sizing: border-box;text-align: center;}#sk-container-id-4 label.sk-toggleable__label-arrow:before {content: \"▸\";float: left;margin-right: 0.25em;color: #696969;}#sk-container-id-4 label.sk-toggleable__label-arrow:hover:before {color: black;}#sk-container-id-4 div.sk-estimator:hover label.sk-toggleable__label-arrow:before {color: black;}#sk-container-id-4 div.sk-toggleable__content {max-height: 0;max-width: 0;overflow: hidden;text-align: left;background-color: #f0f8ff;}#sk-container-id-4 div.sk-toggleable__content pre {margin: 0.2em;color: black;border-radius: 0.25em;background-color: #f0f8ff;}#sk-container-id-4 input.sk-toggleable__control:checked~div.sk-toggleable__content {max-height: 200px;max-width: 100%;overflow: auto;}#sk-container-id-4 input.sk-toggleable__control:checked~label.sk-toggleable__label-arrow:before {content: \"▾\";}#sk-container-id-4 div.sk-estimator input.sk-toggleable__control:checked~label.sk-toggleable__label {background-color: #d4ebff;}#sk-container-id-4 div.sk-label input.sk-toggleable__control:checked~label.sk-toggleable__label {background-color: #d4ebff;}#sk-container-id-4 input.sk-hidden--visually {border: 0;clip: rect(1px 1px 1px 1px);clip: rect(1px, 1px, 1px, 1px);height: 1px;margin: -1px;overflow: hidden;padding: 0;position: absolute;width: 1px;}#sk-container-id-4 div.sk-estimator {font-family: monospace;background-color: #f0f8ff;border: 1px dotted black;border-radius: 0.25em;box-sizing: border-box;margin-bottom: 0.5em;}#sk-container-id-4 div.sk-estimator:hover {background-color: #d4ebff;}#sk-container-id-4 div.sk-parallel-item::after {content: \"\";width: 100%;border-bottom: 1px solid gray;flex-grow: 1;}#sk-container-id-4 div.sk-label:hover label.sk-toggleable__label {background-color: #d4ebff;}#sk-container-id-4 div.sk-serial::before {content: \"\";position: absolute;border-left: 1px solid gray;box-sizing: border-box;top: 0;bottom: 0;left: 50%;z-index: 0;}#sk-container-id-4 div.sk-serial {display: flex;flex-direction: column;align-items: center;background-color: white;padding-right: 0.2em;padding-left: 0.2em;position: relative;}#sk-container-id-4 div.sk-item {position: relative;z-index: 1;}#sk-container-id-4 div.sk-parallel {display: flex;align-items: stretch;justify-content: center;background-color: white;position: relative;}#sk-container-id-4 div.sk-item::before, #sk-container-id-4 div.sk-parallel-item::before {content: \"\";position: absolute;border-left: 1px solid gray;box-sizing: border-box;top: 0;bottom: 0;left: 50%;z-index: -1;}#sk-container-id-4 div.sk-parallel-item {display: flex;flex-direction: column;z-index: 1;position: relative;background-color: white;}#sk-container-id-4 div.sk-parallel-item:first-child::after {align-self: flex-end;width: 50%;}#sk-container-id-4 div.sk-parallel-item:last-child::after {align-self: flex-start;width: 50%;}#sk-container-id-4 div.sk-parallel-item:only-child::after {width: 0;}#sk-container-id-4 div.sk-dashed-wrapped {border: 1px dashed gray;margin: 0 0.4em 0.5em 0.4em;box-sizing: border-box;padding-bottom: 0.4em;background-color: white;}#sk-container-id-4 div.sk-label label {font-family: monospace;font-weight: bold;display: inline-block;line-height: 1.2em;}#sk-container-id-4 div.sk-label-container {text-align: center;}#sk-container-id-4 div.sk-container {/* jupyter's `normalize.less` sets `[hidden] { display: none; }` but bootstrap.min.css set `[hidden] { display: none !important; }` so we also need the `!important` here to be able to override the default hidden behavior on the sphinx rendered scikit-learn.org. See: https://github.com/scikit-learn/scikit-learn/issues/21755 */display: inline-block !important;position: relative;}#sk-container-id-4 div.sk-text-repr-fallback {display: none;}</style><div id=\"sk-container-id-4\" class=\"sk-top-container\"><div class=\"sk-text-repr-fallback\"><pre>BayesSearchCV(cv=7,\n",
       "              estimator=XGBClassifier(base_score=None, booster=None,\n",
       "                                      callbacks=None, colsample_bylevel=None,\n",
       "                                      colsample_bynode=None,\n",
       "                                      colsample_bytree=None,\n",
       "                                      early_stopping_rounds=None,\n",
       "                                      enable_categorical=False,\n",
       "                                      eval_metric=None, feature_types=None,\n",
       "                                      gamma=None, gpu_id=None, grow_policy=None,\n",
       "                                      importance_type=None,\n",
       "                                      interaction_constraints=None,\n",
       "                                      learning_rate=None...\n",
       "              scoring=&#x27;roc_auc&#x27;,\n",
       "              search_spaces={&#x27;learning_rate&#x27;: Real(low=0.001, high=0.3, prior=&#x27;uniform&#x27;, transform=&#x27;normalize&#x27;),\n",
       "                             &#x27;max_depth&#x27;: Integer(low=1, high=8, prior=&#x27;uniform&#x27;, transform=&#x27;normalize&#x27;),\n",
       "                             &#x27;n_estimators&#x27;: Integer(low=1, high=300, prior=&#x27;uniform&#x27;, transform=&#x27;normalize&#x27;),\n",
       "                             &#x27;objective&#x27;: Categorical(categories=(&#x27;binary:logistic&#x27;, &#x27;binary:logitraw&#x27;, &#x27;binary:hinge&#x27;), prior=None)})</pre><b>In a Jupyter environment, please rerun this cell to show the HTML representation or trust the notebook. <br />On GitHub, the HTML representation is unable to render, please try loading this page with nbviewer.org.</b></div><div class=\"sk-container\" hidden><div class=\"sk-item sk-dashed-wrapped\"><div class=\"sk-label-container\"><div class=\"sk-label sk-toggleable\"><input class=\"sk-toggleable__control sk-hidden--visually\" id=\"sk-estimator-id-10\" type=\"checkbox\" ><label for=\"sk-estimator-id-10\" class=\"sk-toggleable__label sk-toggleable__label-arrow\">BayesSearchCV</label><div class=\"sk-toggleable__content\"><pre>BayesSearchCV(cv=7,\n",
       "              estimator=XGBClassifier(base_score=None, booster=None,\n",
       "                                      callbacks=None, colsample_bylevel=None,\n",
       "                                      colsample_bynode=None,\n",
       "                                      colsample_bytree=None,\n",
       "                                      early_stopping_rounds=None,\n",
       "                                      enable_categorical=False,\n",
       "                                      eval_metric=None, feature_types=None,\n",
       "                                      gamma=None, gpu_id=None, grow_policy=None,\n",
       "                                      importance_type=None,\n",
       "                                      interaction_constraints=None,\n",
       "                                      learning_rate=None...\n",
       "              scoring=&#x27;roc_auc&#x27;,\n",
       "              search_spaces={&#x27;learning_rate&#x27;: Real(low=0.001, high=0.3, prior=&#x27;uniform&#x27;, transform=&#x27;normalize&#x27;),\n",
       "                             &#x27;max_depth&#x27;: Integer(low=1, high=8, prior=&#x27;uniform&#x27;, transform=&#x27;normalize&#x27;),\n",
       "                             &#x27;n_estimators&#x27;: Integer(low=1, high=300, prior=&#x27;uniform&#x27;, transform=&#x27;normalize&#x27;),\n",
       "                             &#x27;objective&#x27;: Categorical(categories=(&#x27;binary:logistic&#x27;, &#x27;binary:logitraw&#x27;, &#x27;binary:hinge&#x27;), prior=None)})</pre></div></div></div><div class=\"sk-parallel\"><div class=\"sk-parallel-item\"><div class=\"sk-item\"><div class=\"sk-label-container\"><div class=\"sk-label sk-toggleable\"><input class=\"sk-toggleable__control sk-hidden--visually\" id=\"sk-estimator-id-11\" type=\"checkbox\" ><label for=\"sk-estimator-id-11\" class=\"sk-toggleable__label sk-toggleable__label-arrow\">estimator: XGBClassifier</label><div class=\"sk-toggleable__content\"><pre>XGBClassifier(base_score=None, booster=None, callbacks=None,\n",
       "              colsample_bylevel=None, colsample_bynode=None,\n",
       "              colsample_bytree=None, early_stopping_rounds=None,\n",
       "              enable_categorical=False, eval_metric=None, feature_types=None,\n",
       "              gamma=None, gpu_id=None, grow_policy=None, importance_type=None,\n",
       "              interaction_constraints=None, learning_rate=None, max_bin=None,\n",
       "              max_cat_threshold=None, max_cat_to_onehot=None,\n",
       "              max_delta_step=None, max_depth=None, max_leaves=None,\n",
       "              min_child_weight=None, missing=nan, monotone_constraints=None,\n",
       "              n_estimators=100, n_jobs=None, num_parallel_tree=None,\n",
       "              predictor=None, random_state=0, ...)</pre></div></div></div><div class=\"sk-serial\"><div class=\"sk-item\"><div class=\"sk-estimator sk-toggleable\"><input class=\"sk-toggleable__control sk-hidden--visually\" id=\"sk-estimator-id-12\" type=\"checkbox\" ><label for=\"sk-estimator-id-12\" class=\"sk-toggleable__label sk-toggleable__label-arrow\">XGBClassifier</label><div class=\"sk-toggleable__content\"><pre>XGBClassifier(base_score=None, booster=None, callbacks=None,\n",
       "              colsample_bylevel=None, colsample_bynode=None,\n",
       "              colsample_bytree=None, early_stopping_rounds=None,\n",
       "              enable_categorical=False, eval_metric=None, feature_types=None,\n",
       "              gamma=None, gpu_id=None, grow_policy=None, importance_type=None,\n",
       "              interaction_constraints=None, learning_rate=None, max_bin=None,\n",
       "              max_cat_threshold=None, max_cat_to_onehot=None,\n",
       "              max_delta_step=None, max_depth=None, max_leaves=None,\n",
       "              min_child_weight=None, missing=nan, monotone_constraints=None,\n",
       "              n_estimators=100, n_jobs=None, num_parallel_tree=None,\n",
       "              predictor=None, random_state=0, ...)</pre></div></div></div></div></div></div></div></div></div></div>"
      ],
      "text/plain": [
       "BayesSearchCV(cv=7,\n",
       "              estimator=XGBClassifier(base_score=None, booster=None,\n",
       "                                      callbacks=None, colsample_bylevel=None,\n",
       "                                      colsample_bynode=None,\n",
       "                                      colsample_bytree=None,\n",
       "                                      early_stopping_rounds=None,\n",
       "                                      enable_categorical=False,\n",
       "                                      eval_metric=None, feature_types=None,\n",
       "                                      gamma=None, gpu_id=None, grow_policy=None,\n",
       "                                      importance_type=None,\n",
       "                                      interaction_constraints=None,\n",
       "                                      learning_rate=None...\n",
       "              scoring='roc_auc',\n",
       "              search_spaces={'learning_rate': Real(low=0.001, high=0.3, prior='uniform', transform='normalize'),\n",
       "                             'max_depth': Integer(low=1, high=8, prior='uniform', transform='normalize'),\n",
       "                             'n_estimators': Integer(low=1, high=300, prior='uniform', transform='normalize'),\n",
       "                             'objective': Categorical(categories=('binary:logistic', 'binary:logitraw', 'binary:hinge'), prior=None)})"
      ]
     },
     "execution_count": 69,
     "metadata": {},
     "output_type": "execute_result"
    }
   ],
   "source": [
    "# Realizando a otimização Bayesiana\n",
    "bayes_search.fit(X_treino, y_treino)"
   ]
  },
  {
   "cell_type": "code",
   "execution_count": 70,
   "metadata": {
    "id": "wC6orEI5XIOg"
   },
   "outputs": [
    {
     "name": "stdout",
     "output_type": "stream",
     "text": [
      "Melhor número de estimadores: 300\n",
      "Melhor taxa de aprendizagem: 0.26847058265516305\n",
      "Melhor profundidade maxima: 4\n",
      "Melhor estimador de perda: binary:logitraw\n",
      "Score médio do melhor modelo: 0.9924\n"
     ]
    }
   ],
   "source": [
    "#Vamos ver informações relevantes:\n",
    "print('Melhor número de estimadores: {}'.format(bayes_search.best_params_['n_estimators']))\n",
    "print('Melhor taxa de aprendizagem: {}'.format(bayes_search.best_params_['learning_rate']))\n",
    "print('Melhor profundidade maxima: {}'.format(bayes_search.best_params_['max_depth']))\n",
    "print('Melhor estimador de perda: {}'.format(bayes_search.best_params_['objective']))\n",
    "print('Score médio do melhor modelo: {}'.format(round(bayes_search.best_score_,4)))"
   ]
  },
  {
   "cell_type": "code",
   "execution_count": 71,
   "metadata": {
    "id": "O1tHM6G9wVjr"
   },
   "outputs": [
    {
     "name": "stdout",
     "output_type": "stream",
     "text": [
      "Train roc_auc:  1.0\n",
      "Test roc_auc:  0.996766607877719\n"
     ]
    }
   ],
   "source": [
    "X_treino_prev = bayes_search.predict_proba(X_treino)[:,1]\n",
    "X_teste_prev = bayes_search.predict_proba(X_teste)[:,1]\n",
    "\n",
    "print('Train roc_auc: ', roc_auc_score(y_treino, X_treino_prev))\n",
    "print('Test roc_auc: ', roc_auc_score(y_teste, X_teste_prev))"
   ]
  },
  {
   "cell_type": "markdown",
   "metadata": {},
   "source": [
    "## OTIMIZAÇÃO OPTUNA"
   ]
  },
  {
   "cell_type": "code",
   "execution_count": 85,
   "metadata": {},
   "outputs": [],
   "source": [
    "import numpy as np\n",
    "import optuna\n",
    "\n",
    "import sklearn.datasets\n",
    "import sklearn.metrics\n",
    "from sklearn.model_selection import train_test_split\n",
    "import xgboost as xgb\n"
   ]
  },
  {
   "cell_type": "code",
   "execution_count": 86,
   "metadata": {},
   "outputs": [],
   "source": [
    "def objective(trial):\n",
    "    data, target = sklearn.datasets.load_breast_cancer(return_X_y=True)\n",
    "    train_x, valid_x, train_y, valid_y = train_test_split(data, target, test_size=0.25)\n",
    "    dtrain = xgb.DMatrix(train_x, label=train_y)\n",
    "    dvalid = xgb.DMatrix(valid_x, label=valid_y)\n",
    "\n",
    "    param = {\n",
    "        \"verbosity\": 0,\n",
    "        \"objective\": \"binary:logistic\",\n",
    "        \"eval_metric\": \"auc\",\n",
    "        \"booster\": trial.suggest_categorical(\"booster\", [\"gbtree\", \"gblinear\", \"dart\"]),\n",
    "        \"lambda\": trial.suggest_float(\"lambda\", 1e-8, 1.0, log=True),\n",
    "        \"alpha\": trial.suggest_float(\"alpha\", 1e-8, 1.0, log=True),\n",
    "    }\n",
    "\n",
    "    if param[\"booster\"] == \"gbtree\" or param[\"booster\"] == \"dart\":\n",
    "        param[\"max_depth\"] = trial.suggest_int(\"max_depth\", 1, 9)\n",
    "        param[\"eta\"] = trial.suggest_float(\"eta\", 1e-8, 1.0, log=True)\n",
    "        param[\"gamma\"] = trial.suggest_float(\"gamma\", 1e-8, 1.0, log=True)\n",
    "        param[\"grow_policy\"] = trial.suggest_categorical(\"grow_policy\", [\"depthwise\", \"lossguide\"])\n",
    "    if param[\"booster\"] == \"dart\":\n",
    "        param[\"sample_type\"] = trial.suggest_categorical(\"sample_type\", [\"uniform\", \"weighted\"])\n",
    "        param[\"normalize_type\"] = trial.suggest_categorical(\"normalize_type\", [\"tree\", \"forest\"])\n",
    "        param[\"rate_drop\"] = trial.suggest_float(\"rate_drop\", 1e-8, 1.0, log=True)\n",
    "        param[\"skip_drop\"] = trial.suggest_float(\"skip_drop\", 1e-8, 1.0, log=True)\n",
    "\n",
    "    # Add a callback for pruning.\n",
    "    pruning_callback = optuna.integration.XGBoostPruningCallback(trial, \"validation-auc\")\n",
    "    bst = xgb.train(param, dtrain, evals=[(dvalid, \"validation\")], callbacks=[pruning_callback])\n",
    "    preds = bst.predict(dvalid)\n",
    "    pred_labels = np.rint(preds)\n",
    "    accuracy = sklearn.metrics.accuracy_score(valid_y, pred_labels)\n",
    "    return accuracy\n"
   ]
  },
  {
   "cell_type": "code",
   "execution_count": 98,
   "metadata": {},
   "outputs": [
    {
     "name": "stderr",
     "output_type": "stream",
     "text": [
      "\u001b[32m[I 2023-02-23 15:26:57,087]\u001b[0m A new study created in memory with name: no-name-162d0dcb-7b84-4bad-8526-fd5513befc9e\u001b[0m\n"
     ]
    },
    {
     "name": "stdout",
     "output_type": "stream",
     "text": [
      "[0]\tvalidation-auc:0.94046\n",
      "[1]\tvalidation-auc:0.94465\n",
      "[2]\tvalidation-auc:0.94906\n",
      "[3]\tvalidation-auc:0.94717\n",
      "[4]\tvalidation-auc:0.94528\n",
      "[5]\tvalidation-auc:0.94717\n",
      "[6]\tvalidation-auc:0.95031\n",
      "[7]\tvalidation-auc:0.95052\n",
      "[8]\tvalidation-auc:0.95178\n",
      "[9]\tvalidation-auc:0.95660\n"
     ]
    },
    {
     "name": "stderr",
     "output_type": "stream",
     "text": [
      "\u001b[32m[I 2023-02-23 15:26:57,120]\u001b[0m Trial 0 finished with value: 0.8951048951048951 and parameters: {'booster': 'gblinear', 'lambda': 0.0072385320744485955, 'alpha': 0.0020911763580405275}. Best is trial 0 with value: 0.8951048951048951.\u001b[0m\n"
     ]
    },
    {
     "name": "stdout",
     "output_type": "stream",
     "text": [
      "[0]\tvalidation-auc:0.95870\n",
      "[1]\tvalidation-auc:0.95870\n",
      "[2]\tvalidation-auc:0.95870\n",
      "[3]\tvalidation-auc:0.95849\n",
      "[4]\tvalidation-auc:0.96509\n",
      "[5]\tvalidation-auc:0.96447\n",
      "[6]\tvalidation-auc:0.96394\n",
      "[7]\tvalidation-auc:0.96373\n",
      "[8]\tvalidation-auc:0.96447\n",
      "[9]\tvalidation-auc:0.96426\n"
     ]
    },
    {
     "name": "stderr",
     "output_type": "stream",
     "text": [
      "\u001b[32m[I 2023-02-23 15:26:57,167]\u001b[0m Trial 1 finished with value: 0.916083916083916 and parameters: {'booster': 'dart', 'lambda': 0.0024508025173004618, 'alpha': 2.0297492941539863e-07, 'max_depth': 4, 'eta': 0.00018228150480631284, 'gamma': 2.8324390881337267e-06, 'grow_policy': 'lossguide', 'sample_type': 'weighted', 'normalize_type': 'forest', 'rate_drop': 2.1724363274424975e-06, 'skip_drop': 5.65790890267797e-08}. Best is trial 1 with value: 0.916083916083916.\u001b[0m\n"
     ]
    },
    {
     "name": "stdout",
     "output_type": "stream",
     "text": [
      "[0]\tvalidation-auc:0.86802\n",
      "[1]\tvalidation-auc:0.86802\n",
      "[2]\tvalidation-auc:0.86802\n",
      "[3]\tvalidation-auc:0.86802\n",
      "[4]\tvalidation-auc:0.86802\n",
      "[5]\tvalidation-auc:0.86802\n",
      "[6]\tvalidation-auc:0.86802\n",
      "[7]\tvalidation-auc:0.86802\n",
      "[8]\tvalidation-auc:0.86802\n",
      "[9]\tvalidation-auc:0.86802\n"
     ]
    },
    {
     "name": "stderr",
     "output_type": "stream",
     "text": [
      "\u001b[32m[I 2023-02-23 15:26:57,203]\u001b[0m Trial 2 finished with value: 0.8811188811188811 and parameters: {'booster': 'gbtree', 'lambda': 5.117820721118316e-06, 'alpha': 0.00015213997477089297, 'max_depth': 1, 'eta': 7.765870016084795e-08, 'gamma': 0.0004908867381677653, 'grow_policy': 'lossguide'}. Best is trial 1 with value: 0.916083916083916.\u001b[0m\n"
     ]
    },
    {
     "name": "stdout",
     "output_type": "stream",
     "text": [
      "[0]\tvalidation-auc:0.97968\n",
      "[1]\tvalidation-auc:0.97927\n",
      "[2]\tvalidation-auc:0.98112\n",
      "[3]\tvalidation-auc:0.98009\n",
      "[4]\tvalidation-auc:0.98132\n",
      "[5]\tvalidation-auc:0.98091\n",
      "[6]\tvalidation-auc:0.98122\n",
      "[7]\tvalidation-auc:0.98091\n",
      "[8]\tvalidation-auc:0.98153\n",
      "[9]\tvalidation-auc:0.98091\n"
     ]
    },
    {
     "name": "stderr",
     "output_type": "stream",
     "text": [
      "\u001b[32m[I 2023-02-23 15:26:57,247]\u001b[0m Trial 3 finished with value: 0.965034965034965 and parameters: {'booster': 'dart', 'lambda': 1.154988709636726e-08, 'alpha': 0.0010328362821833811, 'max_depth': 6, 'eta': 0.0004358224046030333, 'gamma': 0.00020274094029957169, 'grow_policy': 'depthwise', 'sample_type': 'weighted', 'normalize_type': 'tree', 'rate_drop': 0.003683869576148473, 'skip_drop': 0.04357969507658877}. Best is trial 3 with value: 0.965034965034965.\u001b[0m\n"
     ]
    },
    {
     "name": "stdout",
     "output_type": "stream",
     "text": [
      "[0]\tvalidation-auc:0.95751\n",
      "[1]\tvalidation-auc:0.95669\n",
      "[2]\tvalidation-auc:0.95669\n",
      "[3]\tvalidation-auc:0.95669\n",
      "[4]\tvalidation-auc:0.95669\n",
      "[5]\tvalidation-auc:0.95669\n",
      "[6]\tvalidation-auc:0.95669\n",
      "[7]\tvalidation-auc:0.95669\n",
      "[8]\tvalidation-auc:0.95669\n",
      "[9]\tvalidation-auc:0.95669\n"
     ]
    },
    {
     "name": "stderr",
     "output_type": "stream",
     "text": [
      "\u001b[32m[I 2023-02-23 15:26:57,294]\u001b[0m Trial 4 finished with value: 0.916083916083916 and parameters: {'booster': 'dart', 'lambda': 4.0868253813804205e-05, 'alpha': 0.003924311463520828, 'max_depth': 4, 'eta': 0.002461367236332746, 'gamma': 0.000380834876701762, 'grow_policy': 'lossguide', 'sample_type': 'uniform', 'normalize_type': 'tree', 'rate_drop': 7.77365727012341e-07, 'skip_drop': 1.967182558531785e-08}. Best is trial 3 with value: 0.965034965034965.\u001b[0m\n"
     ]
    },
    {
     "name": "stdout",
     "output_type": "stream",
     "text": [
      "[0]\tvalidation-auc:0.96122\n",
      "[1]\tvalidation-auc:0.96260\n",
      "[2]\tvalidation-auc:0.95974\n",
      "[3]\tvalidation-auc:0.97749\n",
      "[4]\tvalidation-auc:0.99218\n",
      "[5]\tvalidation-auc:0.99218\n",
      "[6]\tvalidation-auc:0.99208\n",
      "[7]\tvalidation-auc:0.99208\n",
      "[8]\tvalidation-auc:0.99292\n",
      "[9]\tvalidation-auc:0.99313\n"
     ]
    },
    {
     "name": "stderr",
     "output_type": "stream",
     "text": [
      "\u001b[32m[I 2023-02-23 15:26:57,342]\u001b[0m Trial 5 finished with value: 0.965034965034965 and parameters: {'booster': 'dart', 'lambda': 0.0677471375167933, 'alpha': 2.0119133856315692e-07, 'max_depth': 9, 'eta': 0.27976550167603786, 'gamma': 0.01763022147766431, 'grow_policy': 'lossguide', 'sample_type': 'weighted', 'normalize_type': 'forest', 'rate_drop': 1.1784077901349353e-08, 'skip_drop': 4.1076472172951245e-08}. Best is trial 3 with value: 0.965034965034965.\u001b[0m\n"
     ]
    },
    {
     "name": "stdout",
     "output_type": "stream",
     "text": [
      "[0]\tvalidation-auc:0.91145\n",
      "[1]\tvalidation-auc:0.91145\n",
      "[2]\tvalidation-auc:0.91145\n",
      "[3]\tvalidation-auc:0.91145\n",
      "[4]\tvalidation-auc:0.91145\n"
     ]
    },
    {
     "name": "stderr",
     "output_type": "stream",
     "text": [
      "\u001b[32m[I 2023-02-23 15:26:57,370]\u001b[0m Trial 6 pruned. Trial was pruned at iteration 5.\u001b[0m\n"
     ]
    },
    {
     "name": "stdout",
     "output_type": "stream",
     "text": [
      "[0]\tvalidation-auc:0.88743\n",
      "[1]\tvalidation-auc:0.88806\n",
      "[2]\tvalidation-auc:0.90970\n",
      "[3]\tvalidation-auc:0.91011\n",
      "[4]\tvalidation-auc:0.91594\n"
     ]
    },
    {
     "name": "stderr",
     "output_type": "stream",
     "text": [
      "\u001b[32m[I 2023-02-23 15:26:57,391]\u001b[0m Trial 7 pruned. Trial was pruned at iteration 5.\u001b[0m\n"
     ]
    },
    {
     "name": "stdout",
     "output_type": "stream",
     "text": [
      "[0]\tvalidation-auc:0.95339\n",
      "[1]\tvalidation-auc:0.96328\n",
      "[2]\tvalidation-auc:0.96078\n",
      "[3]\tvalidation-auc:0.96244\n",
      "[4]\tvalidation-auc:0.96223\n",
      "[5]\tvalidation-auc:0.96244\n",
      "[6]\tvalidation-auc:0.96244\n",
      "[7]\tvalidation-auc:0.96244\n",
      "[8]\tvalidation-auc:0.96244\n",
      "[9]\tvalidation-auc:0.96244\n"
     ]
    },
    {
     "name": "stderr",
     "output_type": "stream",
     "text": [
      "\u001b[32m[I 2023-02-23 15:26:57,437]\u001b[0m Trial 8 finished with value: 0.916083916083916 and parameters: {'booster': 'dart', 'lambda': 4.055802337393839e-05, 'alpha': 0.18405671791514172, 'max_depth': 5, 'eta': 2.384229825067106e-06, 'gamma': 2.6408907849689764e-05, 'grow_policy': 'depthwise', 'sample_type': 'uniform', 'normalize_type': 'forest', 'rate_drop': 0.3705159063613439, 'skip_drop': 2.4789276040936687e-05}. Best is trial 3 with value: 0.965034965034965.\u001b[0m\n"
     ]
    },
    {
     "name": "stdout",
     "output_type": "stream",
     "text": [
      "[0]\tvalidation-auc:0.94258\n",
      "[1]\tvalidation-auc:0.94129\n",
      "[2]\tvalidation-auc:0.94258\n",
      "[3]\tvalidation-auc:0.94688\n",
      "[4]\tvalidation-auc:0.95054\n",
      "[5]\tvalidation-auc:0.95591\n"
     ]
    },
    {
     "name": "stderr",
     "output_type": "stream",
     "text": [
      "\u001b[32m[I 2023-02-23 15:26:57,459]\u001b[0m Trial 9 pruned. Trial was pruned at iteration 5.\u001b[0m\n"
     ]
    },
    {
     "name": "stdout",
     "output_type": "stream",
     "text": [
      "[0]\tvalidation-auc:0.96773\n",
      "[1]\tvalidation-auc:0.96728\n",
      "[2]\tvalidation-auc:0.96762\n",
      "[3]\tvalidation-auc:0.96907\n",
      "[4]\tvalidation-auc:0.96907\n",
      "[5]\tvalidation-auc:0.96885\n",
      "[6]\tvalidation-auc:0.96885\n",
      "[7]\tvalidation-auc:0.96907\n",
      "[8]\tvalidation-auc:0.96885\n",
      "[9]\tvalidation-auc:0.96885\n"
     ]
    },
    {
     "name": "stderr",
     "output_type": "stream",
     "text": [
      "\u001b[32m[I 2023-02-23 15:26:57,517]\u001b[0m Trial 10 finished with value: 0.9370629370629371 and parameters: {'booster': 'dart', 'lambda': 1.0388302880413729e-08, 'alpha': 1.3513067738242325e-05, 'max_depth': 8, 'eta': 0.04394381178254792, 'gamma': 1.7712141098633346e-08, 'grow_policy': 'depthwise', 'sample_type': 'weighted', 'normalize_type': 'tree', 'rate_drop': 0.014239491237058843, 'skip_drop': 0.7952063230933827}. Best is trial 3 with value: 0.965034965034965.\u001b[0m\n"
     ]
    },
    {
     "name": "stdout",
     "output_type": "stream",
     "text": [
      "[0]\tvalidation-auc:0.96420\n",
      "[1]\tvalidation-auc:0.97018\n",
      "[2]\tvalidation-auc:0.97454\n",
      "[3]\tvalidation-auc:0.98134\n",
      "[4]\tvalidation-auc:0.98844\n",
      "[5]\tvalidation-auc:0.98986\n",
      "[6]\tvalidation-auc:0.98976\n",
      "[7]\tvalidation-auc:0.98976\n",
      "[8]\tvalidation-auc:0.98651\n",
      "[9]\tvalidation-auc:0.98590\n"
     ]
    },
    {
     "name": "stderr",
     "output_type": "stream",
     "text": [
      "\u001b[32m[I 2023-02-23 15:26:57,576]\u001b[0m Trial 11 finished with value: 0.958041958041958 and parameters: {'booster': 'dart', 'lambda': 1.8583573382023895e-08, 'alpha': 4.642360328625586e-08, 'max_depth': 9, 'eta': 0.46481547474930246, 'gamma': 0.46979287819983734, 'grow_policy': 'depthwise', 'sample_type': 'weighted', 'normalize_type': 'tree', 'rate_drop': 1.5174713227347064e-08, 'skip_drop': 0.08581911580546232}. Best is trial 3 with value: 0.965034965034965.\u001b[0m\n"
     ]
    },
    {
     "name": "stdout",
     "output_type": "stream",
     "text": [
      "[0]\tvalidation-auc:0.95372\n",
      "[1]\tvalidation-auc:0.94167\n",
      "[2]\tvalidation-auc:0.94780\n",
      "[3]\tvalidation-auc:0.94199\n",
      "[4]\tvalidation-auc:0.94178\n"
     ]
    },
    {
     "name": "stderr",
     "output_type": "stream",
     "text": [
      "\u001b[32m[I 2023-02-23 15:26:57,621]\u001b[0m Trial 12 pruned. Trial was pruned at iteration 5.\u001b[0m\n"
     ]
    },
    {
     "name": "stdout",
     "output_type": "stream",
     "text": [
      "[0]\tvalidation-auc:0.96638\n",
      "[1]\tvalidation-auc:0.97098\n",
      "[2]\tvalidation-auc:0.97389\n",
      "[3]\tvalidation-auc:0.97411\n",
      "[4]\tvalidation-auc:0.97277\n",
      "[5]\tvalidation-auc:0.97344\n",
      "[6]\tvalidation-auc:0.97277\n",
      "[7]\tvalidation-auc:0.97255\n",
      "[8]\tvalidation-auc:0.97221\n",
      "[9]\tvalidation-auc:0.97221\n"
     ]
    },
    {
     "name": "stderr",
     "output_type": "stream",
     "text": [
      "\u001b[32m[I 2023-02-23 15:26:57,674]\u001b[0m Trial 13 finished with value: 0.951048951048951 and parameters: {'booster': 'dart', 'lambda': 0.0008570969923220802, 'alpha': 7.69678204385651e-06, 'max_depth': 7, 'eta': 1.751903386132554e-05, 'gamma': 0.009880066078258492, 'grow_policy': 'depthwise', 'sample_type': 'weighted', 'normalize_type': 'tree', 'rate_drop': 0.00014129509640785365, 'skip_drop': 5.685829705220934e-06}. Best is trial 3 with value: 0.965034965034965.\u001b[0m\n"
     ]
    },
    {
     "name": "stdout",
     "output_type": "stream",
     "text": [
      "[0]\tvalidation-auc:0.94713\n",
      "[1]\tvalidation-auc:0.94616\n",
      "[2]\tvalidation-auc:0.95604\n",
      "[3]\tvalidation-auc:0.95419\n",
      "[4]\tvalidation-auc:0.96993\n",
      "[5]\tvalidation-auc:0.97080\n",
      "[6]\tvalidation-auc:0.97058\n",
      "[7]\tvalidation-auc:0.96982\n",
      "[8]\tvalidation-auc:0.97015\n",
      "[9]\tvalidation-auc:0.97069\n"
     ]
    },
    {
     "name": "stderr",
     "output_type": "stream",
     "text": [
      "\u001b[32m[I 2023-02-23 15:26:57,744]\u001b[0m Trial 14 finished with value: 0.9440559440559441 and parameters: {'booster': 'dart', 'lambda': 2.1657746189246112e-07, 'alpha': 6.18522866224456e-05, 'max_depth': 9, 'eta': 0.0002350588146629922, 'gamma': 2.7058659868436443e-06, 'grow_policy': 'lossguide', 'sample_type': 'weighted', 'normalize_type': 'forest', 'rate_drop': 0.014956681766077869, 'skip_drop': 0.004712773652511052}. Best is trial 3 with value: 0.965034965034965.\u001b[0m\n"
     ]
    },
    {
     "name": "stdout",
     "output_type": "stream",
     "text": [
      "[0]\tvalidation-auc:0.95488\n",
      "[1]\tvalidation-auc:0.98066\n",
      "[2]\tvalidation-auc:0.99028\n",
      "[3]\tvalidation-auc:0.99112\n",
      "[4]\tvalidation-auc:0.99197\n",
      "[5]\tvalidation-auc:0.99281\n",
      "[6]\tvalidation-auc:0.99112\n",
      "[7]\tvalidation-auc:0.99007\n",
      "[8]\tvalidation-auc:0.98986\n",
      "[9]\tvalidation-auc:0.99028\n"
     ]
    },
    {
     "name": "stderr",
     "output_type": "stream",
     "text": [
      "\u001b[32m[I 2023-02-23 15:26:57,787]\u001b[0m Trial 15 finished with value: 0.972027972027972 and parameters: {'booster': 'gbtree', 'lambda': 0.02401124010267089, 'alpha': 5.045841596725987e-07, 'max_depth': 6, 'eta': 0.8439253358949772, 'gamma': 0.009896458019463138, 'grow_policy': 'lossguide'}. Best is trial 15 with value: 0.972027972027972.\u001b[0m\n"
     ]
    },
    {
     "name": "stdout",
     "output_type": "stream",
     "text": [
      "[0]\tvalidation-auc:0.97820\n",
      "[1]\tvalidation-auc:0.98302\n",
      "[2]\tvalidation-auc:0.98774\n",
      "[3]\tvalidation-auc:0.98868\n",
      "[4]\tvalidation-auc:0.98826\n",
      "[5]\tvalidation-auc:0.98847\n",
      "[6]\tvalidation-auc:0.98868\n",
      "[7]\tvalidation-auc:0.98805\n",
      "[8]\tvalidation-auc:0.98868\n",
      "[9]\tvalidation-auc:0.98868\n"
     ]
    },
    {
     "name": "stderr",
     "output_type": "stream",
     "text": [
      "\u001b[32m[I 2023-02-23 15:26:57,835]\u001b[0m Trial 16 finished with value: 0.951048951048951 and parameters: {'booster': 'gbtree', 'lambda': 0.0006600112041231308, 'alpha': 0.034111218360475946, 'max_depth': 6, 'eta': 0.0020464142611724603, 'gamma': 3.6751591059903143e-05, 'grow_policy': 'depthwise'}. Best is trial 15 with value: 0.972027972027972.\u001b[0m\n"
     ]
    },
    {
     "name": "stdout",
     "output_type": "stream",
     "text": [
      "[0]\tvalidation-auc:0.91494\n",
      "[1]\tvalidation-auc:0.89582\n",
      "[2]\tvalidation-auc:0.94041\n",
      "[3]\tvalidation-auc:0.93935\n",
      "[4]\tvalidation-auc:0.94125\n"
     ]
    },
    {
     "name": "stderr",
     "output_type": "stream",
     "text": [
      "\u001b[32m[I 2023-02-23 15:26:57,867]\u001b[0m Trial 17 pruned. Trial was pruned at iteration 5.\u001b[0m\n"
     ]
    },
    {
     "name": "stdout",
     "output_type": "stream",
     "text": [
      "[0]\tvalidation-auc:0.98855\n",
      "[1]\tvalidation-auc:0.98855\n",
      "[2]\tvalidation-auc:0.97932\n",
      "[3]\tvalidation-auc:0.98855\n",
      "[4]\tvalidation-auc:0.99468\n",
      "[5]\tvalidation-auc:0.99468\n",
      "[6]\tvalidation-auc:0.99468\n",
      "[7]\tvalidation-auc:0.99468\n",
      "[8]\tvalidation-auc:0.99468\n",
      "[9]\tvalidation-auc:0.99468\n"
     ]
    },
    {
     "name": "stderr",
     "output_type": "stream",
     "text": [
      "\u001b[32m[I 2023-02-23 15:26:57,910]\u001b[0m Trial 18 finished with value: 0.965034965034965 and parameters: {'booster': 'gbtree', 'lambda': 0.012436970072798743, 'alpha': 0.00022123546179126594, 'max_depth': 3, 'eta': 1.1783354944459053e-05, 'gamma': 9.666973651123569e-07, 'grow_policy': 'depthwise'}. Best is trial 15 with value: 0.972027972027972.\u001b[0m\n"
     ]
    },
    {
     "name": "stdout",
     "output_type": "stream",
     "text": [
      "[0]\tvalidation-auc:0.50000\n",
      "[1]\tvalidation-auc:0.50000\n",
      "[2]\tvalidation-auc:0.50000\n",
      "[3]\tvalidation-auc:0.92149\n",
      "[4]\tvalidation-auc:0.92149\n"
     ]
    },
    {
     "name": "stderr",
     "output_type": "stream",
     "text": [
      "\u001b[32m[I 2023-02-23 15:26:57,942]\u001b[0m Trial 19 pruned. Trial was pruned at iteration 5.\u001b[0m\n"
     ]
    },
    {
     "name": "stdout",
     "output_type": "stream",
     "text": [
      "[0]\tvalidation-auc:0.93407\n",
      "[1]\tvalidation-auc:0.93270\n",
      "[2]\tvalidation-auc:0.93061\n",
      "[3]\tvalidation-auc:0.93113\n",
      "[4]\tvalidation-auc:0.93103\n",
      "[5]\tvalidation-auc:0.93103\n"
     ]
    },
    {
     "name": "stderr",
     "output_type": "stream",
     "text": [
      "\u001b[32m[I 2023-02-23 15:26:57,982]\u001b[0m Trial 20 pruned. Trial was pruned at iteration 5.\u001b[0m\n"
     ]
    },
    {
     "name": "stdout",
     "output_type": "stream",
     "text": [
      "[0]\tvalidation-auc:0.96494\n",
      "[1]\tvalidation-auc:0.96569\n",
      "[2]\tvalidation-auc:0.96569\n",
      "[3]\tvalidation-auc:0.96569\n",
      "[4]\tvalidation-auc:0.96569\n",
      "[5]\tvalidation-auc:0.96547\n"
     ]
    },
    {
     "name": "stderr",
     "output_type": "stream",
     "text": [
      "\u001b[32m[I 2023-02-23 15:26:58,019]\u001b[0m Trial 21 pruned. Trial was pruned at iteration 5.\u001b[0m\n"
     ]
    },
    {
     "name": "stdout",
     "output_type": "stream",
     "text": [
      "[0]\tvalidation-auc:0.98581\n",
      "[1]\tvalidation-auc:0.98601\n",
      "[2]\tvalidation-auc:0.98631\n",
      "[3]\tvalidation-auc:0.98671\n",
      "[4]\tvalidation-auc:0.98671\n",
      "[5]\tvalidation-auc:0.98671\n",
      "[6]\tvalidation-auc:0.98671\n",
      "[7]\tvalidation-auc:0.98671\n",
      "[8]\tvalidation-auc:0.98671\n",
      "[9]\tvalidation-auc:0.98651\n"
     ]
    },
    {
     "name": "stderr",
     "output_type": "stream",
     "text": [
      "\u001b[32m[I 2023-02-23 15:26:58,064]\u001b[0m Trial 22 finished with value: 0.9440559440559441 and parameters: {'booster': 'gbtree', 'lambda': 0.5213886348243608, 'alpha': 0.00391154492221242, 'max_depth': 4, 'eta': 1.646819687692999e-05, 'gamma': 1.306268255854491e-07, 'grow_policy': 'depthwise'}. Best is trial 15 with value: 0.972027972027972.\u001b[0m\n"
     ]
    },
    {
     "name": "stdout",
     "output_type": "stream",
     "text": [
      "[0]\tvalidation-auc:0.91683\n",
      "[1]\tvalidation-auc:0.91683\n",
      "[2]\tvalidation-auc:0.92383\n",
      "[3]\tvalidation-auc:0.91683\n",
      "[4]\tvalidation-auc:0.91683\n",
      "[5]\tvalidation-auc:0.91683\n"
     ]
    },
    {
     "name": "stderr",
     "output_type": "stream",
     "text": [
      "\u001b[32m[I 2023-02-23 15:26:58,096]\u001b[0m Trial 23 pruned. Trial was pruned at iteration 5.\u001b[0m\n"
     ]
    },
    {
     "name": "stdout",
     "output_type": "stream",
     "text": [
      "[0]\tvalidation-auc:0.96292\n",
      "[1]\tvalidation-auc:0.96121\n",
      "[2]\tvalidation-auc:0.95503\n",
      "[3]\tvalidation-auc:0.95983\n",
      "[4]\tvalidation-auc:0.96132\n",
      "[5]\tvalidation-auc:0.96611\n"
     ]
    },
    {
     "name": "stderr",
     "output_type": "stream",
     "text": [
      "\u001b[32m[I 2023-02-23 15:26:58,130]\u001b[0m Trial 24 pruned. Trial was pruned at iteration 5.\u001b[0m\n"
     ]
    },
    {
     "name": "stdout",
     "output_type": "stream",
     "text": [
      "[0]\tvalidation-auc:0.94670\n",
      "[1]\tvalidation-auc:0.94963\n",
      "[2]\tvalidation-auc:0.95104\n",
      "[3]\tvalidation-auc:0.95310\n",
      "[4]\tvalidation-auc:0.95343\n",
      "[5]\tvalidation-auc:0.96103\n"
     ]
    },
    {
     "name": "stderr",
     "output_type": "stream",
     "text": [
      "\u001b[32m[I 2023-02-23 15:26:58,174]\u001b[0m Trial 25 pruned. Trial was pruned at iteration 5.\u001b[0m\n"
     ]
    },
    {
     "name": "stdout",
     "output_type": "stream",
     "text": [
      "[0]\tvalidation-auc:0.93829\n",
      "[1]\tvalidation-auc:0.95390\n",
      "[2]\tvalidation-auc:0.96022\n",
      "[3]\tvalidation-auc:0.97664\n",
      "[4]\tvalidation-auc:0.97481\n",
      "[5]\tvalidation-auc:0.97593\n",
      "[6]\tvalidation-auc:0.98184\n",
      "[7]\tvalidation-auc:0.98470\n",
      "[8]\tvalidation-auc:0.98511\n",
      "[9]\tvalidation-auc:0.98531\n"
     ]
    },
    {
     "name": "stderr",
     "output_type": "stream",
     "text": [
      "\u001b[32m[I 2023-02-23 15:26:58,235]\u001b[0m Trial 26 finished with value: 0.9370629370629371 and parameters: {'booster': 'dart', 'lambda': 9.222378692424278e-08, 'alpha': 2.2562933732747363e-06, 'max_depth': 7, 'eta': 0.2318727073976738, 'gamma': 0.6211277798760932, 'grow_policy': 'lossguide', 'sample_type': 'uniform', 'normalize_type': 'forest', 'rate_drop': 2.9218988917526332e-08, 'skip_drop': 0.0007359155251053962}. Best is trial 15 with value: 0.972027972027972.\u001b[0m\n"
     ]
    },
    {
     "name": "stdout",
     "output_type": "stream",
     "text": [
      "[0]\tvalidation-auc:0.97419\n",
      "[1]\tvalidation-auc:0.97871\n",
      "[2]\tvalidation-auc:0.98151\n",
      "[3]\tvalidation-auc:0.98516\n",
      "[4]\tvalidation-auc:0.98409\n",
      "[5]\tvalidation-auc:0.98430\n",
      "[6]\tvalidation-auc:0.98473\n",
      "[7]\tvalidation-auc:0.98452\n",
      "[8]\tvalidation-auc:0.98602\n",
      "[9]\tvalidation-auc:0.98645\n"
     ]
    },
    {
     "name": "stderr",
     "output_type": "stream",
     "text": [
      "\u001b[32m[I 2023-02-23 15:26:58,268]\u001b[0m Trial 27 finished with value: 0.951048951048951 and parameters: {'booster': 'gblinear', 'lambda': 8.053241249886988e-06, 'alpha': 0.0005472974805390576}. Best is trial 15 with value: 0.972027972027972.\u001b[0m\n"
     ]
    },
    {
     "name": "stdout",
     "output_type": "stream",
     "text": [
      "[0]\tvalidation-auc:0.85413\n",
      "[1]\tvalidation-auc:0.85413\n",
      "[2]\tvalidation-auc:0.85413\n",
      "[3]\tvalidation-auc:0.85413\n",
      "[4]\tvalidation-auc:0.85413\n",
      "[5]\tvalidation-auc:0.85413\n"
     ]
    },
    {
     "name": "stderr",
     "output_type": "stream",
     "text": [
      "\u001b[32m[I 2023-02-23 15:26:58,301]\u001b[0m Trial 28 pruned. Trial was pruned at iteration 5.\u001b[0m\n"
     ]
    },
    {
     "name": "stdout",
     "output_type": "stream",
     "text": [
      "[0]\tvalidation-auc:0.89096\n",
      "[1]\tvalidation-auc:0.88969\n",
      "[2]\tvalidation-auc:0.89307\n",
      "[3]\tvalidation-auc:0.89856\n",
      "[4]\tvalidation-auc:0.90300\n"
     ]
    },
    {
     "name": "stderr",
     "output_type": "stream",
     "text": [
      "\u001b[32m[I 2023-02-23 15:26:58,324]\u001b[0m Trial 29 pruned. Trial was pruned at iteration 5.\u001b[0m\n"
     ]
    },
    {
     "name": "stdout",
     "output_type": "stream",
     "text": [
      "[0]\tvalidation-auc:0.97769\n",
      "[1]\tvalidation-auc:0.97850\n",
      "[2]\tvalidation-auc:0.97850\n",
      "[3]\tvalidation-auc:0.97850\n",
      "[4]\tvalidation-auc:0.97972\n",
      "[5]\tvalidation-auc:0.97951\n",
      "[6]\tvalidation-auc:0.97911\n"
     ]
    },
    {
     "name": "stderr",
     "output_type": "stream",
     "text": [
      "\u001b[32m[I 2023-02-23 15:26:58,373]\u001b[0m Trial 30 pruned. Trial was pruned at iteration 6.\u001b[0m\n"
     ]
    },
    {
     "name": "stdout",
     "output_type": "stream",
     "text": [
      "[0]\tvalidation-auc:0.90849\n",
      "[1]\tvalidation-auc:0.90960\n",
      "[2]\tvalidation-auc:0.90940\n",
      "[3]\tvalidation-auc:0.91263\n",
      "[4]\tvalidation-auc:0.91152\n"
     ]
    },
    {
     "name": "stderr",
     "output_type": "stream",
     "text": [
      "\u001b[32m[I 2023-02-23 15:26:58,405]\u001b[0m Trial 31 pruned. Trial was pruned at iteration 5.\u001b[0m\n"
     ]
    },
    {
     "name": "stdout",
     "output_type": "stream",
     "text": [
      "[0]\tvalidation-auc:0.98604\n",
      "[1]\tvalidation-auc:0.98604\n",
      "[2]\tvalidation-auc:0.98604\n",
      "[3]\tvalidation-auc:0.97163\n",
      "[4]\tvalidation-auc:0.99025\n",
      "[5]\tvalidation-auc:0.99091\n",
      "[6]\tvalidation-auc:0.97540\n",
      "[7]\tvalidation-auc:0.97695\n",
      "[8]\tvalidation-auc:0.99269\n",
      "[9]\tvalidation-auc:0.99357\n"
     ]
    },
    {
     "name": "stderr",
     "output_type": "stream",
     "text": [
      "\u001b[32m[I 2023-02-23 15:26:58,460]\u001b[0m Trial 32 finished with value: 0.972027972027972 and parameters: {'booster': 'dart', 'lambda': 0.0038212862300307394, 'alpha': 7.210184575240157e-08, 'max_depth': 6, 'eta': 0.9901624820457617, 'gamma': 0.0007266373715790413, 'grow_policy': 'lossguide', 'sample_type': 'weighted', 'normalize_type': 'tree', 'rate_drop': 0.7684213249701572, 'skip_drop': 1.2898991332718993e-06}. Best is trial 15 with value: 0.972027972027972.\u001b[0m\n"
     ]
    },
    {
     "name": "stdout",
     "output_type": "stream",
     "text": [
      "[0]\tvalidation-auc:0.96493\n",
      "[1]\tvalidation-auc:0.96845\n",
      "[2]\tvalidation-auc:0.96857\n",
      "[3]\tvalidation-auc:0.96796\n",
      "[4]\tvalidation-auc:0.96687\n",
      "[5]\tvalidation-auc:0.97646\n"
     ]
    },
    {
     "name": "stderr",
     "output_type": "stream",
     "text": [
      "\u001b[32m[I 2023-02-23 15:26:58,508]\u001b[0m Trial 33 pruned. Trial was pruned at iteration 5.\u001b[0m\n"
     ]
    },
    {
     "name": "stdout",
     "output_type": "stream",
     "text": [
      "[0]\tvalidation-auc:0.98532\n",
      "[1]\tvalidation-auc:0.98532\n",
      "[2]\tvalidation-auc:0.98532\n",
      "[3]\tvalidation-auc:0.98532\n",
      "[4]\tvalidation-auc:0.98532\n",
      "[5]\tvalidation-auc:0.98532\n",
      "[6]\tvalidation-auc:0.98532\n",
      "[7]\tvalidation-auc:0.98459\n",
      "[8]\tvalidation-auc:0.98459\n",
      "[9]\tvalidation-auc:0.98459\n"
     ]
    },
    {
     "name": "stderr",
     "output_type": "stream",
     "text": [
      "\u001b[32m[I 2023-02-23 15:26:58,570]\u001b[0m Trial 34 finished with value: 0.9370629370629371 and parameters: {'booster': 'dart', 'lambda': 0.16924872290807105, 'alpha': 8.17565990910035e-08, 'max_depth': 7, 'eta': 0.7741163170173445, 'gamma': 0.008633794527461448, 'grow_policy': 'lossguide', 'sample_type': 'weighted', 'normalize_type': 'tree', 'rate_drop': 0.9510811768300128, 'skip_drop': 1.3026966369869062e-07}. Best is trial 15 with value: 0.972027972027972.\u001b[0m\n"
     ]
    },
    {
     "name": "stdout",
     "output_type": "stream",
     "text": [
      "[0]\tvalidation-auc:0.94996\n",
      "[1]\tvalidation-auc:0.95964\n",
      "[2]\tvalidation-auc:0.95813\n",
      "[3]\tvalidation-auc:0.95843\n",
      "[4]\tvalidation-auc:0.95783\n",
      "[5]\tvalidation-auc:0.95773\n"
     ]
    },
    {
     "name": "stderr",
     "output_type": "stream",
     "text": [
      "\u001b[32m[I 2023-02-23 15:26:58,615]\u001b[0m Trial 35 pruned. Trial was pruned at iteration 5.\u001b[0m\n"
     ]
    },
    {
     "name": "stdout",
     "output_type": "stream",
     "text": [
      "[0]\tvalidation-auc:0.96613\n",
      "[1]\tvalidation-auc:0.98399\n",
      "[2]\tvalidation-auc:0.98307\n",
      "[3]\tvalidation-auc:0.98307\n",
      "[4]\tvalidation-auc:0.98594\n",
      "[5]\tvalidation-auc:0.98563\n",
      "[6]\tvalidation-auc:0.98553\n",
      "[7]\tvalidation-auc:0.98522\n",
      "[8]\tvalidation-auc:0.98625\n",
      "[9]\tvalidation-auc:0.98604\n"
     ]
    },
    {
     "name": "stderr",
     "output_type": "stream",
     "text": [
      "\u001b[32m[I 2023-02-23 15:26:58,675]\u001b[0m Trial 36 finished with value: 0.958041958041958 and parameters: {'booster': 'dart', 'lambda': 0.004488773117711696, 'alpha': 3.2146550856115653e-06, 'max_depth': 5, 'eta': 0.15902832414487061, 'gamma': 0.00010522002027412698, 'grow_policy': 'lossguide', 'sample_type': 'weighted', 'normalize_type': 'tree', 'rate_drop': 1.7594327807544575e-05, 'skip_drop': 4.865065241618924e-07}. Best is trial 15 with value: 0.972027972027972.\u001b[0m\n"
     ]
    },
    {
     "name": "stdout",
     "output_type": "stream",
     "text": [
      "[0]\tvalidation-auc:0.95903\n",
      "[1]\tvalidation-auc:0.95781\n",
      "[2]\tvalidation-auc:0.95913\n",
      "[3]\tvalidation-auc:0.95913\n",
      "[4]\tvalidation-auc:0.95862\n",
      "[5]\tvalidation-auc:0.97404\n"
     ]
    },
    {
     "name": "stderr",
     "output_type": "stream",
     "text": [
      "\u001b[32m[I 2023-02-23 15:26:58,712]\u001b[0m Trial 37 pruned. Trial was pruned at iteration 5.\u001b[0m\n"
     ]
    },
    {
     "name": "stdout",
     "output_type": "stream",
     "text": [
      "[0]\tvalidation-auc:0.97718\n",
      "[1]\tvalidation-auc:0.98035\n",
      "[2]\tvalidation-auc:0.97760\n",
      "[3]\tvalidation-auc:0.97633\n",
      "[4]\tvalidation-auc:0.97591\n",
      "[5]\tvalidation-auc:0.97654\n"
     ]
    },
    {
     "name": "stderr",
     "output_type": "stream",
     "text": [
      "\u001b[32m[I 2023-02-23 15:26:58,737]\u001b[0m Trial 38 pruned. Trial was pruned at iteration 5.\u001b[0m\n"
     ]
    },
    {
     "name": "stdout",
     "output_type": "stream",
     "text": [
      "[0]\tvalidation-auc:0.96692\n",
      "[1]\tvalidation-auc:0.96577\n",
      "[2]\tvalidation-auc:0.98055\n",
      "[3]\tvalidation-auc:0.98169\n",
      "[4]\tvalidation-auc:0.98159\n",
      "[5]\tvalidation-auc:0.98159\n"
     ]
    },
    {
     "name": "stderr",
     "output_type": "stream",
     "text": [
      "\u001b[32m[I 2023-02-23 15:26:58,773]\u001b[0m Trial 39 pruned. Trial was pruned at iteration 5.\u001b[0m\n"
     ]
    },
    {
     "name": "stdout",
     "output_type": "stream",
     "text": [
      "[0]\tvalidation-auc:0.91375\n",
      "[1]\tvalidation-auc:0.91375\n",
      "[2]\tvalidation-auc:0.91375\n",
      "[3]\tvalidation-auc:0.91375\n",
      "[4]\tvalidation-auc:0.91375\n",
      "[5]\tvalidation-auc:0.91375\n"
     ]
    },
    {
     "name": "stderr",
     "output_type": "stream",
     "text": [
      "\u001b[32m[I 2023-02-23 15:26:58,809]\u001b[0m Trial 40 pruned. Trial was pruned at iteration 5.\u001b[0m\n"
     ]
    },
    {
     "name": "stdout",
     "output_type": "stream",
     "text": [
      "[0]\tvalidation-auc:0.96386\n",
      "[1]\tvalidation-auc:0.97770\n",
      "[2]\tvalidation-auc:0.97084\n",
      "[3]\tvalidation-auc:0.98066\n",
      "[4]\tvalidation-auc:0.98024\n",
      "[5]\tvalidation-auc:0.98098\n"
     ]
    },
    {
     "name": "stderr",
     "output_type": "stream",
     "text": [
      "\u001b[32m[I 2023-02-23 15:26:58,854]\u001b[0m Trial 41 pruned. Trial was pruned at iteration 5.\u001b[0m\n"
     ]
    },
    {
     "name": "stdout",
     "output_type": "stream",
     "text": [
      "[0]\tvalidation-auc:0.92434\n",
      "[1]\tvalidation-auc:0.92434\n",
      "[2]\tvalidation-auc:0.92434\n",
      "[3]\tvalidation-auc:0.92434\n",
      "[4]\tvalidation-auc:0.92434\n",
      "[5]\tvalidation-auc:0.92434\n"
     ]
    },
    {
     "name": "stderr",
     "output_type": "stream",
     "text": [
      "\u001b[32m[I 2023-02-23 15:26:58,896]\u001b[0m Trial 42 pruned. Trial was pruned at iteration 5.\u001b[0m\n"
     ]
    },
    {
     "name": "stdout",
     "output_type": "stream",
     "text": [
      "[0]\tvalidation-auc:0.97773\n",
      "[1]\tvalidation-auc:0.97804\n",
      "[2]\tvalidation-auc:0.97722\n",
      "[3]\tvalidation-auc:0.97711\n",
      "[4]\tvalidation-auc:0.97989\n"
     ]
    },
    {
     "name": "stderr",
     "output_type": "stream",
     "text": [
      "\u001b[32m[I 2023-02-23 15:26:58,941]\u001b[0m Trial 43 pruned. Trial was pruned at iteration 5.\u001b[0m\n"
     ]
    },
    {
     "name": "stdout",
     "output_type": "stream",
     "text": [
      "[0]\tvalidation-auc:0.95247\n",
      "[1]\tvalidation-auc:0.98849\n",
      "[2]\tvalidation-auc:0.98764\n",
      "[3]\tvalidation-auc:0.98465\n",
      "[4]\tvalidation-auc:0.99243\n",
      "[5]\tvalidation-auc:0.99286\n",
      "[6]\tvalidation-auc:0.99350\n",
      "[7]\tvalidation-auc:0.99371\n",
      "[8]\tvalidation-auc:0.99265\n",
      "[9]\tvalidation-auc:0.99297\n"
     ]
    },
    {
     "name": "stderr",
     "output_type": "stream",
     "text": [
      "\u001b[32m[I 2023-02-23 15:26:59,005]\u001b[0m Trial 44 finished with value: 0.9300699300699301 and parameters: {'booster': 'dart', 'lambda': 0.2987447071717219, 'alpha': 0.00014869863570215344, 'max_depth': 4, 'eta': 0.8249718943324046, 'gamma': 0.0008559868831369704, 'grow_policy': 'lossguide', 'sample_type': 'weighted', 'normalize_type': 'forest', 'rate_drop': 0.0023229220795710583, 'skip_drop': 2.0480738480019252e-06}. Best is trial 15 with value: 0.972027972027972.\u001b[0m\n"
     ]
    },
    {
     "name": "stdout",
     "output_type": "stream",
     "text": [
      "[0]\tvalidation-auc:0.92863\n",
      "[1]\tvalidation-auc:0.94762\n",
      "[2]\tvalidation-auc:0.95322\n",
      "[3]\tvalidation-auc:0.95102\n",
      "[4]\tvalidation-auc:0.95542\n"
     ]
    },
    {
     "name": "stderr",
     "output_type": "stream",
     "text": [
      "\u001b[32m[I 2023-02-23 15:26:59,036]\u001b[0m Trial 45 pruned. Trial was pruned at iteration 5.\u001b[0m\n"
     ]
    },
    {
     "name": "stdout",
     "output_type": "stream",
     "text": [
      "[0]\tvalidation-auc:0.95073\n",
      "[1]\tvalidation-auc:0.95220\n",
      "[2]\tvalidation-auc:0.95388\n",
      "[3]\tvalidation-auc:0.95367\n",
      "[4]\tvalidation-auc:0.95388\n"
     ]
    },
    {
     "name": "stderr",
     "output_type": "stream",
     "text": [
      "\u001b[32m[I 2023-02-23 15:26:59,078]\u001b[0m Trial 46 pruned. Trial was pruned at iteration 5.\u001b[0m\n"
     ]
    },
    {
     "name": "stdout",
     "output_type": "stream",
     "text": [
      "[0]\tvalidation-auc:0.95503\n",
      "[1]\tvalidation-auc:0.97261\n",
      "[2]\tvalidation-auc:0.97187\n",
      "[3]\tvalidation-auc:0.97144\n",
      "[4]\tvalidation-auc:0.97251\n",
      "[5]\tvalidation-auc:0.97389\n"
     ]
    },
    {
     "name": "stderr",
     "output_type": "stream",
     "text": [
      "\u001b[32m[I 2023-02-23 15:26:59,125]\u001b[0m Trial 47 pruned. Trial was pruned at iteration 5.\u001b[0m\n"
     ]
    },
    {
     "name": "stdout",
     "output_type": "stream",
     "text": [
      "[0]\tvalidation-auc:0.89981\n",
      "[1]\tvalidation-auc:0.89981\n",
      "[2]\tvalidation-auc:0.89981\n",
      "[3]\tvalidation-auc:0.89981\n",
      "[4]\tvalidation-auc:0.89981\n"
     ]
    },
    {
     "name": "stderr",
     "output_type": "stream",
     "text": [
      "\u001b[32m[I 2023-02-23 15:26:59,170]\u001b[0m Trial 48 pruned. Trial was pruned at iteration 5.\u001b[0m\n"
     ]
    },
    {
     "name": "stdout",
     "output_type": "stream",
     "text": [
      "[0]\tvalidation-auc:0.95897\n",
      "[1]\tvalidation-auc:0.95546\n",
      "[2]\tvalidation-auc:0.95492\n",
      "[3]\tvalidation-auc:0.95428\n",
      "[4]\tvalidation-auc:0.95237\n",
      "[5]\tvalidation-auc:0.95237\n"
     ]
    },
    {
     "name": "stderr",
     "output_type": "stream",
     "text": [
      "\u001b[32m[I 2023-02-23 15:26:59,214]\u001b[0m Trial 49 pruned. Trial was pruned at iteration 5.\u001b[0m\n"
     ]
    },
    {
     "name": "stdout",
     "output_type": "stream",
     "text": [
      "[0]\tvalidation-auc:0.97165\n",
      "[1]\tvalidation-auc:0.98050\n",
      "[2]\tvalidation-auc:0.97975\n",
      "[3]\tvalidation-auc:0.97954\n",
      "[4]\tvalidation-auc:0.97954\n",
      "[5]\tvalidation-auc:0.97997\n"
     ]
    },
    {
     "name": "stderr",
     "output_type": "stream",
     "text": [
      "\u001b[32m[I 2023-02-23 15:26:59,261]\u001b[0m Trial 50 pruned. Trial was pruned at iteration 5.\u001b[0m\n"
     ]
    },
    {
     "name": "stdout",
     "output_type": "stream",
     "text": [
      "[0]\tvalidation-auc:0.96983\n",
      "[1]\tvalidation-auc:0.95561\n",
      "[2]\tvalidation-auc:0.95460\n",
      "[3]\tvalidation-auc:0.96469\n",
      "[4]\tvalidation-auc:0.96731\n"
     ]
    },
    {
     "name": "stderr",
     "output_type": "stream",
     "text": [
      "\u001b[32m[I 2023-02-23 15:26:59,308]\u001b[0m Trial 51 pruned. Trial was pruned at iteration 5.\u001b[0m\n"
     ]
    },
    {
     "name": "stdout",
     "output_type": "stream",
     "text": [
      "[0]\tvalidation-auc:0.94139\n",
      "[1]\tvalidation-auc:0.94938\n",
      "[2]\tvalidation-auc:0.95716\n",
      "[3]\tvalidation-auc:0.98593\n",
      "[4]\tvalidation-auc:0.97165\n",
      "[5]\tvalidation-auc:0.98551\n",
      "[6]\tvalidation-auc:0.98668\n",
      "[7]\tvalidation-auc:0.98551\n",
      "[8]\tvalidation-auc:0.98252\n",
      "[9]\tvalidation-auc:0.98082\n"
     ]
    },
    {
     "name": "stderr",
     "output_type": "stream",
     "text": [
      "\u001b[32m[I 2023-02-23 15:26:59,378]\u001b[0m Trial 52 finished with value: 0.958041958041958 and parameters: {'booster': 'dart', 'lambda': 0.0012361123190011715, 'alpha': 4.361848524706029e-06, 'max_depth': 6, 'eta': 0.35761088721429596, 'gamma': 0.0001346752678205598, 'grow_policy': 'lossguide', 'sample_type': 'weighted', 'normalize_type': 'tree', 'rate_drop': 0.10842021233168084, 'skip_drop': 8.309543846085482e-07}. Best is trial 15 with value: 0.972027972027972.\u001b[0m\n"
     ]
    },
    {
     "name": "stdout",
     "output_type": "stream",
     "text": [
      "[0]\tvalidation-auc:0.96488\n",
      "[1]\tvalidation-auc:0.97212\n",
      "[2]\tvalidation-auc:0.97264\n",
      "[3]\tvalidation-auc:0.98962\n",
      "[4]\tvalidation-auc:0.98941\n",
      "[5]\tvalidation-auc:0.99036\n",
      "[6]\tvalidation-auc:0.98962\n",
      "[7]\tvalidation-auc:0.98973\n",
      "[8]\tvalidation-auc:0.98952\n",
      "[9]\tvalidation-auc:0.99057\n"
     ]
    },
    {
     "name": "stderr",
     "output_type": "stream",
     "text": [
      "\u001b[32m[I 2023-02-23 15:26:59,442]\u001b[0m Trial 53 finished with value: 0.958041958041958 and parameters: {'booster': 'dart', 'lambda': 0.0012995399723752872, 'alpha': 1.0599334451777123e-06, 'max_depth': 6, 'eta': 0.054771300772443784, 'gamma': 9.866750950693124e-06, 'grow_policy': 'lossguide', 'sample_type': 'weighted', 'normalize_type': 'tree', 'rate_drop': 0.08074362661390054, 'skip_drop': 2.4145121462818914e-06}. Best is trial 15 with value: 0.972027972027972.\u001b[0m\n"
     ]
    },
    {
     "name": "stdout",
     "output_type": "stream",
     "text": [
      "[0]\tvalidation-auc:0.98129\n",
      "[1]\tvalidation-auc:0.98173\n",
      "[2]\tvalidation-auc:0.94588\n",
      "[3]\tvalidation-auc:0.94632\n",
      "[4]\tvalidation-auc:0.94588\n",
      "[5]\tvalidation-auc:0.95450\n"
     ]
    },
    {
     "name": "stderr",
     "output_type": "stream",
     "text": [
      "\u001b[32m[I 2023-02-23 15:26:59,496]\u001b[0m Trial 54 pruned. Trial was pruned at iteration 5.\u001b[0m\n"
     ]
    },
    {
     "name": "stdout",
     "output_type": "stream",
     "text": [
      "[0]\tvalidation-auc:0.93531\n",
      "[1]\tvalidation-auc:0.93974\n",
      "[2]\tvalidation-auc:0.95079\n",
      "[3]\tvalidation-auc:0.94872\n",
      "[4]\tvalidation-auc:0.96036\n"
     ]
    },
    {
     "name": "stderr",
     "output_type": "stream",
     "text": [
      "\u001b[32m[I 2023-02-23 15:26:59,539]\u001b[0m Trial 55 pruned. Trial was pruned at iteration 5.\u001b[0m\n"
     ]
    },
    {
     "name": "stdout",
     "output_type": "stream",
     "text": [
      "[0]\tvalidation-auc:0.96442\n",
      "[1]\tvalidation-auc:0.96411\n",
      "[2]\tvalidation-auc:0.96432\n",
      "[3]\tvalidation-auc:0.96463\n",
      "[4]\tvalidation-auc:0.96421\n",
      "[5]\tvalidation-auc:0.96421\n"
     ]
    },
    {
     "name": "stderr",
     "output_type": "stream",
     "text": [
      "\u001b[32m[I 2023-02-23 15:26:59,591]\u001b[0m Trial 56 pruned. Trial was pruned at iteration 5.\u001b[0m\n"
     ]
    },
    {
     "name": "stdout",
     "output_type": "stream",
     "text": [
      "[0]\tvalidation-auc:0.95020\n",
      "[1]\tvalidation-auc:0.95578\n",
      "[2]\tvalidation-auc:0.95609\n",
      "[3]\tvalidation-auc:0.95649\n",
      "[4]\tvalidation-auc:0.95629\n"
     ]
    },
    {
     "name": "stderr",
     "output_type": "stream",
     "text": [
      "\u001b[32m[I 2023-02-23 15:26:59,631]\u001b[0m Trial 57 pruned. Trial was pruned at iteration 5.\u001b[0m\n"
     ]
    },
    {
     "name": "stdout",
     "output_type": "stream",
     "text": [
      "[0]\tvalidation-auc:0.95843\n",
      "[1]\tvalidation-auc:0.94431\n",
      "[2]\tvalidation-auc:0.94653\n",
      "[3]\tvalidation-auc:0.94835\n",
      "[4]\tvalidation-auc:0.95702\n",
      "[5]\tvalidation-auc:0.96308\n"
     ]
    },
    {
     "name": "stderr",
     "output_type": "stream",
     "text": [
      "\u001b[32m[I 2023-02-23 15:26:59,657]\u001b[0m Trial 58 pruned. Trial was pruned at iteration 5.\u001b[0m\n"
     ]
    },
    {
     "name": "stdout",
     "output_type": "stream",
     "text": [
      "[0]\tvalidation-auc:0.93931\n",
      "[1]\tvalidation-auc:0.93931\n",
      "[2]\tvalidation-auc:0.93931\n",
      "[3]\tvalidation-auc:0.93931\n",
      "[4]\tvalidation-auc:0.93931\n"
     ]
    },
    {
     "name": "stderr",
     "output_type": "stream",
     "text": [
      "\u001b[32m[I 2023-02-23 15:26:59,700]\u001b[0m Trial 59 pruned. Trial was pruned at iteration 5.\u001b[0m\n"
     ]
    },
    {
     "name": "stdout",
     "output_type": "stream",
     "text": [
      "[0]\tvalidation-auc:0.93706\n",
      "[1]\tvalidation-auc:0.94717\n",
      "[2]\tvalidation-auc:0.96082\n",
      "[3]\tvalidation-auc:0.95984\n",
      "[4]\tvalidation-auc:0.95964\n"
     ]
    },
    {
     "name": "stderr",
     "output_type": "stream",
     "text": [
      "\u001b[32m[I 2023-02-23 15:26:59,737]\u001b[0m Trial 60 pruned. Trial was pruned at iteration 5.\u001b[0m\n"
     ]
    },
    {
     "name": "stdout",
     "output_type": "stream",
     "text": [
      "[0]\tvalidation-auc:0.95189\n",
      "[1]\tvalidation-auc:0.97369\n",
      "[2]\tvalidation-auc:0.97348\n",
      "[3]\tvalidation-auc:0.97411\n",
      "[4]\tvalidation-auc:0.97421\n",
      "[5]\tvalidation-auc:0.98239\n"
     ]
    },
    {
     "name": "stderr",
     "output_type": "stream",
     "text": [
      "\u001b[32m[I 2023-02-23 15:26:59,786]\u001b[0m Trial 61 pruned. Trial was pruned at iteration 5.\u001b[0m\n"
     ]
    },
    {
     "name": "stdout",
     "output_type": "stream",
     "text": [
      "[0]\tvalidation-auc:0.98678\n",
      "[1]\tvalidation-auc:0.99607\n",
      "[2]\tvalidation-auc:0.99798\n",
      "[3]\tvalidation-auc:0.99849\n",
      "[4]\tvalidation-auc:0.99808\n",
      "[5]\tvalidation-auc:0.99879\n",
      "[6]\tvalidation-auc:0.99839\n",
      "[7]\tvalidation-auc:0.99839\n",
      "[8]\tvalidation-auc:0.99839\n",
      "[9]\tvalidation-auc:0.99859\n"
     ]
    },
    {
     "name": "stderr",
     "output_type": "stream",
     "text": [
      "\u001b[32m[I 2023-02-23 15:26:59,850]\u001b[0m Trial 62 finished with value: 0.972027972027972 and parameters: {'booster': 'dart', 'lambda': 1.1389020374113632e-07, 'alpha': 1.4842619751591465e-07, 'max_depth': 9, 'eta': 0.7843803567522277, 'gamma': 0.4536304039142139, 'grow_policy': 'depthwise', 'sample_type': 'weighted', 'normalize_type': 'tree', 'rate_drop': 1.05021608851144e-08, 'skip_drop': 0.24529483147913198}. Best is trial 15 with value: 0.972027972027972.\u001b[0m\n"
     ]
    },
    {
     "name": "stdout",
     "output_type": "stream",
     "text": [
      "[0]\tvalidation-auc:0.93616\n",
      "[1]\tvalidation-auc:0.93616\n",
      "[2]\tvalidation-auc:0.93616\n",
      "[3]\tvalidation-auc:0.94029\n",
      "[4]\tvalidation-auc:0.93936\n"
     ]
    },
    {
     "name": "stderr",
     "output_type": "stream",
     "text": [
      "\u001b[32m[I 2023-02-23 15:26:59,895]\u001b[0m Trial 63 pruned. Trial was pruned at iteration 5.\u001b[0m\n"
     ]
    },
    {
     "name": "stdout",
     "output_type": "stream",
     "text": [
      "[0]\tvalidation-auc:0.94225\n",
      "[1]\tvalidation-auc:0.95082\n",
      "[2]\tvalidation-auc:0.97352\n",
      "[3]\tvalidation-auc:0.98387\n",
      "[4]\tvalidation-auc:0.98666\n",
      "[5]\tvalidation-auc:0.98795\n",
      "[6]\tvalidation-auc:0.98905\n",
      "[7]\tvalidation-auc:0.99184\n",
      "[8]\tvalidation-auc:0.99184\n",
      "[9]\tvalidation-auc:0.99283\n"
     ]
    },
    {
     "name": "stderr",
     "output_type": "stream",
     "text": [
      "\u001b[32m[I 2023-02-23 15:26:59,964]\u001b[0m Trial 64 finished with value: 0.951048951048951 and parameters: {'booster': 'dart', 'lambda': 5.775480772983415e-07, 'alpha': 1.4844906477434977e-07, 'max_depth': 5, 'eta': 0.19076583031624952, 'gamma': 0.021031327931234526, 'grow_policy': 'depthwise', 'sample_type': 'weighted', 'normalize_type': 'tree', 'rate_drop': 2.170586832438806e-06, 'skip_drop': 0.28251550595843644}. Best is trial 15 with value: 0.972027972027972.\u001b[0m\n"
     ]
    },
    {
     "name": "stdout",
     "output_type": "stream",
     "text": [
      "[0]\tvalidation-auc:0.95208\n",
      "[1]\tvalidation-auc:0.95490\n",
      "[2]\tvalidation-auc:0.97004\n",
      "[3]\tvalidation-auc:0.97609\n",
      "[4]\tvalidation-auc:0.97770\n",
      "[5]\tvalidation-auc:0.98043\n"
     ]
    },
    {
     "name": "stderr",
     "output_type": "stream",
     "text": [
      "\u001b[32m[I 2023-02-23 15:27:00,018]\u001b[0m Trial 65 pruned. Trial was pruned at iteration 5.\u001b[0m\n"
     ]
    },
    {
     "name": "stdout",
     "output_type": "stream",
     "text": [
      "[0]\tvalidation-auc:0.94925\n",
      "[1]\tvalidation-auc:0.98338\n",
      "[2]\tvalidation-auc:0.98415\n",
      "[3]\tvalidation-auc:0.98526\n",
      "[4]\tvalidation-auc:0.98593\n",
      "[5]\tvalidation-auc:0.98460\n",
      "[6]\tvalidation-auc:0.98460\n",
      "[7]\tvalidation-auc:0.98460\n",
      "[8]\tvalidation-auc:0.98482\n"
     ]
    },
    {
     "name": "stderr",
     "output_type": "stream",
     "text": [
      "\u001b[32m[I 2023-02-23 15:27:00,077]\u001b[0m Trial 66 pruned. Trial was pruned at iteration 8.\u001b[0m\n"
     ]
    },
    {
     "name": "stdout",
     "output_type": "stream",
     "text": [
      "[0]\tvalidation-auc:0.95256\n",
      "[1]\tvalidation-auc:0.99778\n",
      "[2]\tvalidation-auc:0.99884\n",
      "[3]\tvalidation-auc:0.99884\n",
      "[4]\tvalidation-auc:0.99915\n",
      "[5]\tvalidation-auc:0.99915\n",
      "[6]\tvalidation-auc:0.99937\n",
      "[7]\tvalidation-auc:0.99873\n",
      "[8]\tvalidation-auc:0.99915\n",
      "[9]\tvalidation-auc:0.99958\n"
     ]
    },
    {
     "name": "stderr",
     "output_type": "stream",
     "text": [
      "\u001b[32m[I 2023-02-23 15:27:00,125]\u001b[0m Trial 67 finished with value: 0.993006993006993 and parameters: {'booster': 'gbtree', 'lambda': 0.008875914739187371, 'alpha': 0.007363314344824613, 'max_depth': 7, 'eta': 0.42861300346172126, 'gamma': 0.9979378069361993, 'grow_policy': 'depthwise'}. Best is trial 67 with value: 0.993006993006993.\u001b[0m\n"
     ]
    },
    {
     "name": "stdout",
     "output_type": "stream",
     "text": [
      "[0]\tvalidation-auc:0.93971\n",
      "[1]\tvalidation-auc:0.94655\n",
      "[2]\tvalidation-auc:0.95652\n",
      "[3]\tvalidation-auc:0.96593\n",
      "[4]\tvalidation-auc:0.98073\n",
      "[5]\tvalidation-auc:0.98173\n"
     ]
    },
    {
     "name": "stderr",
     "output_type": "stream",
     "text": [
      "\u001b[32m[I 2023-02-23 15:27:00,164]\u001b[0m Trial 68 pruned. Trial was pruned at iteration 5.\u001b[0m\n"
     ]
    },
    {
     "name": "stdout",
     "output_type": "stream",
     "text": [
      "[0]\tvalidation-auc:0.91460\n",
      "[1]\tvalidation-auc:0.91586\n",
      "[2]\tvalidation-auc:0.91540\n",
      "[3]\tvalidation-auc:0.91426\n",
      "[4]\tvalidation-auc:0.91506\n"
     ]
    },
    {
     "name": "stderr",
     "output_type": "stream",
     "text": [
      "\u001b[32m[I 2023-02-23 15:27:00,201]\u001b[0m Trial 69 pruned. Trial was pruned at iteration 5.\u001b[0m\n"
     ]
    },
    {
     "name": "stdout",
     "output_type": "stream",
     "text": [
      "[0]\tvalidation-auc:0.50000\n",
      "[1]\tvalidation-auc:0.88449\n",
      "[2]\tvalidation-auc:0.92086\n",
      "[3]\tvalidation-auc:0.94193\n",
      "[4]\tvalidation-auc:0.94413\n"
     ]
    },
    {
     "name": "stderr",
     "output_type": "stream",
     "text": [
      "\u001b[32m[I 2023-02-23 15:27:00,239]\u001b[0m Trial 70 pruned. Trial was pruned at iteration 5.\u001b[0m\n"
     ]
    },
    {
     "name": "stdout",
     "output_type": "stream",
     "text": [
      "[0]\tvalidation-auc:0.97901\n",
      "[1]\tvalidation-auc:0.98561\n",
      "[2]\tvalidation-auc:0.98476\n",
      "[3]\tvalidation-auc:0.98583\n",
      "[4]\tvalidation-auc:0.98508\n",
      "[5]\tvalidation-auc:0.98529\n",
      "[6]\tvalidation-auc:0.98487\n",
      "[7]\tvalidation-auc:0.98572\n"
     ]
    },
    {
     "name": "stderr",
     "output_type": "stream",
     "text": [
      "\u001b[32m[I 2023-02-23 15:27:00,284]\u001b[0m Trial 71 pruned. Trial was pruned at iteration 8.\u001b[0m\n"
     ]
    },
    {
     "name": "stdout",
     "output_type": "stream",
     "text": [
      "[0]\tvalidation-auc:0.95322\n",
      "[1]\tvalidation-auc:0.95599\n",
      "[2]\tvalidation-auc:0.94462\n",
      "[3]\tvalidation-auc:0.92168\n",
      "[4]\tvalidation-auc:0.92207\n"
     ]
    },
    {
     "name": "stderr",
     "output_type": "stream",
     "text": [
      "\u001b[32m[I 2023-02-23 15:27:00,324]\u001b[0m Trial 72 pruned. Trial was pruned at iteration 5.\u001b[0m\n"
     ]
    },
    {
     "name": "stdout",
     "output_type": "stream",
     "text": [
      "[0]\tvalidation-auc:0.98065\n",
      "[1]\tvalidation-auc:0.98970\n",
      "[2]\tvalidation-auc:0.98908\n",
      "[3]\tvalidation-auc:0.98845\n",
      "[4]\tvalidation-auc:0.98845\n",
      "[5]\tvalidation-auc:0.99438\n",
      "[6]\tvalidation-auc:0.99324\n",
      "[7]\tvalidation-auc:0.99428\n",
      "[8]\tvalidation-auc:0.99303\n",
      "[9]\tvalidation-auc:0.99261\n"
     ]
    },
    {
     "name": "stderr",
     "output_type": "stream",
     "text": [
      "\u001b[32m[I 2023-02-23 15:27:00,387]\u001b[0m Trial 73 finished with value: 0.972027972027972 and parameters: {'booster': 'dart', 'lambda': 2.588804970424603e-07, 'alpha': 0.00014440452088435043, 'max_depth': 7, 'eta': 0.6261254174159341, 'gamma': 0.9487327048813595, 'grow_policy': 'lossguide', 'sample_type': 'uniform', 'normalize_type': 'tree', 'rate_drop': 9.454201051517439e-07, 'skip_drop': 2.906614442916892e-07}. Best is trial 67 with value: 0.993006993006993.\u001b[0m\n"
     ]
    },
    {
     "name": "stdout",
     "output_type": "stream",
     "text": [
      "[0]\tvalidation-auc:0.96634\n",
      "[1]\tvalidation-auc:0.97711\n",
      "[2]\tvalidation-auc:0.99189\n",
      "[3]\tvalidation-auc:0.99415\n",
      "[4]\tvalidation-auc:0.99323\n",
      "[5]\tvalidation-auc:0.99528\n",
      "[6]\tvalidation-auc:0.99569\n",
      "[7]\tvalidation-auc:0.99528\n",
      "[8]\tvalidation-auc:0.99692\n",
      "[9]\tvalidation-auc:0.99713\n"
     ]
    },
    {
     "name": "stderr",
     "output_type": "stream",
     "text": [
      "\u001b[32m[I 2023-02-23 15:27:00,437]\u001b[0m Trial 74 finished with value: 0.951048951048951 and parameters: {'booster': 'gbtree', 'lambda': 3.4622021455222156e-07, 'alpha': 5.412027713049986e-05, 'max_depth': 7, 'eta': 0.978028073992044, 'gamma': 0.23911696666489274, 'grow_policy': 'lossguide'}. Best is trial 67 with value: 0.993006993006993.\u001b[0m\n"
     ]
    },
    {
     "name": "stdout",
     "output_type": "stream",
     "text": [
      "[0]\tvalidation-auc:0.96677\n",
      "[1]\tvalidation-auc:0.97720\n",
      "[2]\tvalidation-auc:0.98108\n",
      "[3]\tvalidation-auc:0.98183\n",
      "[4]\tvalidation-auc:0.98204\n",
      "[5]\tvalidation-auc:0.98140\n"
     ]
    },
    {
     "name": "stderr",
     "output_type": "stream",
     "text": [
      "\u001b[32m[I 2023-02-23 15:27:00,484]\u001b[0m Trial 75 pruned. Trial was pruned at iteration 5.\u001b[0m\n"
     ]
    },
    {
     "name": "stdout",
     "output_type": "stream",
     "text": [
      "[0]\tvalidation-auc:0.95430\n",
      "[1]\tvalidation-auc:0.95512\n",
      "[2]\tvalidation-auc:0.96532\n",
      "[3]\tvalidation-auc:0.96899\n",
      "[4]\tvalidation-auc:0.97062\n",
      "[5]\tvalidation-auc:0.97164\n"
     ]
    },
    {
     "name": "stderr",
     "output_type": "stream",
     "text": [
      "\u001b[32m[I 2023-02-23 15:27:00,511]\u001b[0m Trial 76 pruned. Trial was pruned at iteration 5.\u001b[0m\n"
     ]
    },
    {
     "name": "stdout",
     "output_type": "stream",
     "text": [
      "[0]\tvalidation-auc:0.95249\n",
      "[1]\tvalidation-auc:0.94935\n",
      "[2]\tvalidation-auc:0.95450\n",
      "[3]\tvalidation-auc:0.95798\n",
      "[4]\tvalidation-auc:0.97580\n",
      "[5]\tvalidation-auc:0.97714\n"
     ]
    },
    {
     "name": "stderr",
     "output_type": "stream",
     "text": [
      "\u001b[32m[I 2023-02-23 15:27:00,551]\u001b[0m Trial 77 pruned. Trial was pruned at iteration 5.\u001b[0m\n"
     ]
    },
    {
     "name": "stdout",
     "output_type": "stream",
     "text": [
      "[0]\tvalidation-auc:0.92516\n",
      "[1]\tvalidation-auc:0.92226\n",
      "[2]\tvalidation-auc:0.92118\n",
      "[3]\tvalidation-auc:0.92140\n",
      "[4]\tvalidation-auc:0.92054\n",
      "[5]\tvalidation-auc:0.91839\n"
     ]
    },
    {
     "name": "stderr",
     "output_type": "stream",
     "text": [
      "\u001b[32m[I 2023-02-23 15:27:00,599]\u001b[0m Trial 78 pruned. Trial was pruned at iteration 5.\u001b[0m\n"
     ]
    },
    {
     "name": "stdout",
     "output_type": "stream",
     "text": [
      "[0]\tvalidation-auc:0.95006\n",
      "[1]\tvalidation-auc:0.94967\n",
      "[2]\tvalidation-auc:0.95006\n",
      "[3]\tvalidation-auc:0.95025\n",
      "[4]\tvalidation-auc:0.94986\n",
      "[5]\tvalidation-auc:0.95025\n"
     ]
    },
    {
     "name": "stderr",
     "output_type": "stream",
     "text": [
      "\u001b[32m[I 2023-02-23 15:27:00,645]\u001b[0m Trial 79 pruned. Trial was pruned at iteration 5.\u001b[0m\n"
     ]
    },
    {
     "name": "stdout",
     "output_type": "stream",
     "text": [
      "[0]\tvalidation-auc:0.93530\n",
      "[1]\tvalidation-auc:0.97145\n",
      "[2]\tvalidation-auc:0.97688\n",
      "[3]\tvalidation-auc:0.97807\n",
      "[4]\tvalidation-auc:0.97623\n"
     ]
    },
    {
     "name": "stderr",
     "output_type": "stream",
     "text": [
      "\u001b[32m[I 2023-02-23 15:27:00,684]\u001b[0m Trial 80 pruned. Trial was pruned at iteration 5.\u001b[0m\n"
     ]
    },
    {
     "name": "stdout",
     "output_type": "stream",
     "text": [
      "[0]\tvalidation-auc:0.94715\n",
      "[1]\tvalidation-auc:0.96515\n",
      "[2]\tvalidation-auc:0.97576\n",
      "[3]\tvalidation-auc:0.97493\n",
      "[4]\tvalidation-auc:0.97524\n",
      "[5]\tvalidation-auc:0.97524\n"
     ]
    },
    {
     "name": "stderr",
     "output_type": "stream",
     "text": [
      "\u001b[32m[I 2023-02-23 15:27:00,730]\u001b[0m Trial 81 pruned. Trial was pruned at iteration 5.\u001b[0m\n"
     ]
    },
    {
     "name": "stdout",
     "output_type": "stream",
     "text": [
      "[0]\tvalidation-auc:0.92021\n",
      "[1]\tvalidation-auc:0.92651\n",
      "[2]\tvalidation-auc:0.92043\n",
      "[3]\tvalidation-auc:0.93704\n",
      "[4]\tvalidation-auc:0.94692\n",
      "[5]\tvalidation-auc:0.95039\n"
     ]
    },
    {
     "name": "stderr",
     "output_type": "stream",
     "text": [
      "\u001b[32m[I 2023-02-23 15:27:00,781]\u001b[0m Trial 82 pruned. Trial was pruned at iteration 5.\u001b[0m\n"
     ]
    },
    {
     "name": "stdout",
     "output_type": "stream",
     "text": [
      "[0]\tvalidation-auc:0.96599\n",
      "[1]\tvalidation-auc:0.97426\n",
      "[2]\tvalidation-auc:0.97971\n",
      "[3]\tvalidation-auc:0.98061\n",
      "[4]\tvalidation-auc:0.98163\n"
     ]
    },
    {
     "name": "stderr",
     "output_type": "stream",
     "text": [
      "\u001b[32m[I 2023-02-23 15:27:00,828]\u001b[0m Trial 83 pruned. Trial was pruned at iteration 5.\u001b[0m\n"
     ]
    },
    {
     "name": "stdout",
     "output_type": "stream",
     "text": [
      "[0]\tvalidation-auc:0.96542\n",
      "[1]\tvalidation-auc:0.98063\n",
      "[2]\tvalidation-auc:0.98032\n",
      "[3]\tvalidation-auc:0.98114\n",
      "[4]\tvalidation-auc:0.98053\n"
     ]
    },
    {
     "name": "stderr",
     "output_type": "stream",
     "text": [
      "\u001b[32m[I 2023-02-23 15:27:00,887]\u001b[0m Trial 84 pruned. Trial was pruned at iteration 5.\u001b[0m\n"
     ]
    },
    {
     "name": "stdout",
     "output_type": "stream",
     "text": [
      "[0]\tvalidation-auc:0.97508\n",
      "[1]\tvalidation-auc:0.99881\n",
      "[2]\tvalidation-auc:0.99941\n",
      "[3]\tvalidation-auc:0.99901\n",
      "[4]\tvalidation-auc:0.99941\n",
      "[5]\tvalidation-auc:0.99941\n",
      "[6]\tvalidation-auc:0.99901\n",
      "[7]\tvalidation-auc:0.99921\n",
      "[8]\tvalidation-auc:0.99941\n",
      "[9]\tvalidation-auc:0.99901\n"
     ]
    },
    {
     "name": "stderr",
     "output_type": "stream",
     "text": [
      "\u001b[32m[I 2023-02-23 15:27:00,956]\u001b[0m Trial 85 finished with value: 0.986013986013986 and parameters: {'booster': 'dart', 'lambda': 1.646010923822544e-08, 'alpha': 7.992644411179278e-08, 'max_depth': 9, 'eta': 0.6163984393863424, 'gamma': 0.0125799630982909, 'grow_policy': 'depthwise', 'sample_type': 'weighted', 'normalize_type': 'forest', 'rate_drop': 1.2262814890706293e-08, 'skip_drop': 0.21634094326609124}. Best is trial 67 with value: 0.993006993006993.\u001b[0m\n"
     ]
    },
    {
     "name": "stdout",
     "output_type": "stream",
     "text": [
      "[0]\tvalidation-auc:0.98626\n",
      "[1]\tvalidation-auc:0.99429\n",
      "[2]\tvalidation-auc:0.99704\n",
      "[3]\tvalidation-auc:0.99683\n",
      "[4]\tvalidation-auc:0.99768\n",
      "[5]\tvalidation-auc:0.99831\n",
      "[6]\tvalidation-auc:0.99873\n",
      "[7]\tvalidation-auc:0.99873\n",
      "[8]\tvalidation-auc:0.99873\n",
      "[9]\tvalidation-auc:0.99894\n"
     ]
    },
    {
     "name": "stderr",
     "output_type": "stream",
     "text": [
      "\u001b[32m[I 2023-02-23 15:27:01,027]\u001b[0m Trial 86 finished with value: 0.986013986013986 and parameters: {'booster': 'dart', 'lambda': 2.4646766034538053e-08, 'alpha': 6.305895957366053e-08, 'max_depth': 9, 'eta': 0.5461569772679151, 'gamma': 0.012523116770615876, 'grow_policy': 'depthwise', 'sample_type': 'uniform', 'normalize_type': 'forest', 'rate_drop': 2.27391480424254e-08, 'skip_drop': 0.1156308360440432}. Best is trial 67 with value: 0.993006993006993.\u001b[0m\n"
     ]
    },
    {
     "name": "stdout",
     "output_type": "stream",
     "text": [
      "[0]\tvalidation-auc:0.93401\n",
      "[1]\tvalidation-auc:0.96972\n",
      "[2]\tvalidation-auc:0.98512\n",
      "[3]\tvalidation-auc:0.99035\n",
      "[4]\tvalidation-auc:0.99179\n",
      "[5]\tvalidation-auc:0.99261\n",
      "[6]\tvalidation-auc:0.99200\n",
      "[7]\tvalidation-auc:0.99220\n",
      "[8]\tvalidation-auc:0.99282\n",
      "[9]\tvalidation-auc:0.99302\n"
     ]
    },
    {
     "name": "stderr",
     "output_type": "stream",
     "text": [
      "\u001b[32m[I 2023-02-23 15:27:01,094]\u001b[0m Trial 87 finished with value: 0.9440559440559441 and parameters: {'booster': 'dart', 'lambda': 1.5183101220810852e-08, 'alpha': 2.7258935822672285e-08, 'max_depth': 9, 'eta': 0.48958947569775846, 'gamma': 0.01194571286437505, 'grow_policy': 'depthwise', 'sample_type': 'uniform', 'normalize_type': 'forest', 'rate_drop': 1.835343937688926e-08, 'skip_drop': 0.12164714035348258}. Best is trial 67 with value: 0.993006993006993.\u001b[0m\n"
     ]
    },
    {
     "name": "stdout",
     "output_type": "stream",
     "text": [
      "[0]\tvalidation-auc:0.94592\n",
      "[1]\tvalidation-auc:0.95310\n",
      "[2]\tvalidation-auc:0.96665\n",
      "[3]\tvalidation-auc:0.97024\n",
      "[4]\tvalidation-auc:0.96839\n",
      "[5]\tvalidation-auc:0.96336\n"
     ]
    },
    {
     "name": "stderr",
     "output_type": "stream",
     "text": [
      "\u001b[32m[I 2023-02-23 15:27:01,142]\u001b[0m Trial 88 pruned. Trial was pruned at iteration 5.\u001b[0m\n"
     ]
    },
    {
     "name": "stdout",
     "output_type": "stream",
     "text": [
      "[0]\tvalidation-auc:0.87011\n",
      "[1]\tvalidation-auc:0.88172\n",
      "[2]\tvalidation-auc:0.92946\n",
      "[3]\tvalidation-auc:0.94581\n",
      "[4]\tvalidation-auc:0.95484\n",
      "[5]\tvalidation-auc:0.96258\n"
     ]
    },
    {
     "name": "stderr",
     "output_type": "stream",
     "text": [
      "\u001b[32m[I 2023-02-23 15:27:01,173]\u001b[0m Trial 89 pruned. Trial was pruned at iteration 5.\u001b[0m\n"
     ]
    },
    {
     "name": "stdout",
     "output_type": "stream",
     "text": [
      "[0]\tvalidation-auc:0.93079\n",
      "[1]\tvalidation-auc:0.95731\n",
      "[2]\tvalidation-auc:0.95626\n",
      "[3]\tvalidation-auc:0.96228\n",
      "[4]\tvalidation-auc:0.96481\n",
      "[5]\tvalidation-auc:0.96386\n"
     ]
    },
    {
     "name": "stderr",
     "output_type": "stream",
     "text": [
      "\u001b[32m[I 2023-02-23 15:27:01,220]\u001b[0m Trial 90 pruned. Trial was pruned at iteration 5.\u001b[0m\n"
     ]
    },
    {
     "name": "stdout",
     "output_type": "stream",
     "text": [
      "[0]\tvalidation-auc:0.95093\n",
      "[1]\tvalidation-auc:0.98378\n",
      "[2]\tvalidation-auc:0.98182\n",
      "[3]\tvalidation-auc:0.98202\n",
      "[4]\tvalidation-auc:0.98409\n",
      "[5]\tvalidation-auc:0.98450\n"
     ]
    },
    {
     "name": "stderr",
     "output_type": "stream",
     "text": [
      "\u001b[32m[I 2023-02-23 15:27:01,272]\u001b[0m Trial 91 pruned. Trial was pruned at iteration 5.\u001b[0m\n"
     ]
    },
    {
     "name": "stdout",
     "output_type": "stream",
     "text": [
      "[0]\tvalidation-auc:0.96197\n",
      "[1]\tvalidation-auc:0.96346\n",
      "[2]\tvalidation-auc:0.96924\n",
      "[3]\tvalidation-auc:0.97342\n",
      "[4]\tvalidation-auc:0.98387\n",
      "[5]\tvalidation-auc:0.98188\n"
     ]
    },
    {
     "name": "stderr",
     "output_type": "stream",
     "text": [
      "\u001b[32m[I 2023-02-23 15:27:01,324]\u001b[0m Trial 92 pruned. Trial was pruned at iteration 5.\u001b[0m\n"
     ]
    },
    {
     "name": "stdout",
     "output_type": "stream",
     "text": [
      "[0]\tvalidation-auc:0.95905\n",
      "[1]\tvalidation-auc:0.97486\n",
      "[2]\tvalidation-auc:0.97660\n",
      "[3]\tvalidation-auc:0.98943\n",
      "[4]\tvalidation-auc:0.98861\n",
      "[5]\tvalidation-auc:0.98635\n",
      "[6]\tvalidation-auc:0.98738\n",
      "[7]\tvalidation-auc:0.98676\n",
      "[8]\tvalidation-auc:0.98604\n",
      "[9]\tvalidation-auc:0.98768\n"
     ]
    },
    {
     "name": "stderr",
     "output_type": "stream",
     "text": [
      "\u001b[32m[I 2023-02-23 15:27:01,390]\u001b[0m Trial 93 finished with value: 0.951048951048951 and parameters: {'booster': 'dart', 'lambda': 0.04532788887088439, 'alpha': 0.0002496939065184594, 'max_depth': 8, 'eta': 0.3599944890526677, 'gamma': 0.01441295113597826, 'grow_policy': 'depthwise', 'sample_type': 'weighted', 'normalize_type': 'forest', 'rate_drop': 1.907721714366355e-08, 'skip_drop': 1.0725967671971182e-07}. Best is trial 67 with value: 0.993006993006993.\u001b[0m\n"
     ]
    },
    {
     "name": "stdout",
     "output_type": "stream",
     "text": [
      "[0]\tvalidation-auc:0.97258\n",
      "[1]\tvalidation-auc:0.98000\n",
      "[2]\tvalidation-auc:0.98108\n",
      "[3]\tvalidation-auc:0.98097\n",
      "[4]\tvalidation-auc:0.98226\n"
     ]
    },
    {
     "name": "stderr",
     "output_type": "stream",
     "text": [
      "\u001b[32m[I 2023-02-23 15:27:01,439]\u001b[0m Trial 94 pruned. Trial was pruned at iteration 5.\u001b[0m\n"
     ]
    },
    {
     "name": "stdout",
     "output_type": "stream",
     "text": [
      "[0]\tvalidation-auc:0.90249\n",
      "[1]\tvalidation-auc:0.92697\n",
      "[2]\tvalidation-auc:0.92574\n",
      "[3]\tvalidation-auc:0.92279\n",
      "[4]\tvalidation-auc:0.92258\n"
     ]
    },
    {
     "name": "stderr",
     "output_type": "stream",
     "text": [
      "\u001b[32m[I 2023-02-23 15:27:01,488]\u001b[0m Trial 95 pruned. Trial was pruned at iteration 5.\u001b[0m\n"
     ]
    },
    {
     "name": "stdout",
     "output_type": "stream",
     "text": [
      "[0]\tvalidation-auc:0.95470\n",
      "[1]\tvalidation-auc:0.97024\n",
      "[2]\tvalidation-auc:0.97064\n",
      "[3]\tvalidation-auc:0.97105\n",
      "[4]\tvalidation-auc:0.97084\n"
     ]
    },
    {
     "name": "stderr",
     "output_type": "stream",
     "text": [
      "\u001b[32m[I 2023-02-23 15:27:01,541]\u001b[0m Trial 96 pruned. Trial was pruned at iteration 5.\u001b[0m\n"
     ]
    },
    {
     "name": "stdout",
     "output_type": "stream",
     "text": [
      "[0]\tvalidation-auc:0.95740\n",
      "[1]\tvalidation-auc:0.95639\n",
      "[2]\tvalidation-auc:0.95639\n",
      "[3]\tvalidation-auc:0.95639\n",
      "[4]\tvalidation-auc:0.97302\n"
     ]
    },
    {
     "name": "stderr",
     "output_type": "stream",
     "text": [
      "\u001b[32m[I 2023-02-23 15:27:01,585]\u001b[0m Trial 97 pruned. Trial was pruned at iteration 5.\u001b[0m\n"
     ]
    },
    {
     "name": "stdout",
     "output_type": "stream",
     "text": [
      "[0]\tvalidation-auc:0.93237\n",
      "[1]\tvalidation-auc:0.94735\n",
      "[2]\tvalidation-auc:0.94817\n",
      "[3]\tvalidation-auc:0.94756\n",
      "[4]\tvalidation-auc:0.94756\n"
     ]
    },
    {
     "name": "stderr",
     "output_type": "stream",
     "text": [
      "\u001b[32m[I 2023-02-23 15:27:01,639]\u001b[0m Trial 98 pruned. Trial was pruned at iteration 5.\u001b[0m\n"
     ]
    },
    {
     "name": "stdout",
     "output_type": "stream",
     "text": [
      "[0]\tvalidation-auc:0.94746\n",
      "[1]\tvalidation-auc:0.95482\n",
      "[2]\tvalidation-auc:0.98199\n",
      "[3]\tvalidation-auc:0.98583\n",
      "[4]\tvalidation-auc:0.98956\n",
      "[5]\tvalidation-auc:0.99147\n",
      "[6]\tvalidation-auc:0.99169\n",
      "[7]\tvalidation-auc:0.99105\n",
      "[8]\tvalidation-auc:0.99211\n",
      "[9]\tvalidation-auc:0.99105\n"
     ]
    },
    {
     "name": "stderr",
     "output_type": "stream",
     "text": [
      "\u001b[32m[I 2023-02-23 15:27:01,706]\u001b[0m Trial 99 finished with value: 0.9300699300699301 and parameters: {'booster': 'dart', 'lambda': 2.9357661419538246e-08, 'alpha': 1.4286863529044257e-05, 'max_depth': 6, 'eta': 0.6796995449853429, 'gamma': 2.858957884123248e-07, 'grow_policy': 'depthwise', 'sample_type': 'weighted', 'normalize_type': 'forest', 'rate_drop': 2.479773285655367e-08, 'skip_drop': 6.0768410023051907e-05}. Best is trial 67 with value: 0.993006993006993.\u001b[0m\n"
     ]
    },
    {
     "name": "stdout",
     "output_type": "stream",
     "text": [
      "FrozenTrial(number=67, values=[0.993006993006993], datetime_start=datetime.datetime(2023, 2, 23, 15, 27, 0, 77773), datetime_complete=datetime.datetime(2023, 2, 23, 15, 27, 0, 125314), params={'booster': 'gbtree', 'lambda': 0.008875914739187371, 'alpha': 0.007363314344824613, 'max_depth': 7, 'eta': 0.42861300346172126, 'gamma': 0.9979378069361993, 'grow_policy': 'depthwise'}, distributions={'booster': CategoricalDistribution(choices=('gbtree', 'gblinear', 'dart')), 'lambda': FloatDistribution(high=1.0, log=True, low=1e-08, step=None), 'alpha': FloatDistribution(high=1.0, log=True, low=1e-08, step=None), 'max_depth': IntDistribution(high=9, log=False, low=1, step=1), 'eta': FloatDistribution(high=1.0, log=True, low=1e-08, step=None), 'gamma': FloatDistribution(high=1.0, log=True, low=1e-08, step=None), 'grow_policy': CategoricalDistribution(choices=('depthwise', 'lossguide'))}, user_attrs={}, system_attrs={}, intermediate_values={0: 0.9525570583262891, 1: 0.9977810650887574, 2: 0.9988377007607777, 3: 0.9988377007607777, 4: 0.9991546914623838, 5: 0.9991546914623838, 6: 0.9993660185967879, 7: 0.9987320371935756, 8: 0.9991546914623838, 9: 0.9995773457311918}, trial_id=67, state=TrialState.COMPLETE, value=None)\n"
     ]
    }
   ],
   "source": [
    "if __name__ == \"__main__\":\n",
    "    study = optuna.create_study(\n",
    "        pruner=optuna.pruners.MedianPruner(n_warmup_steps=5), direction=\"maximize\"\n",
    "    )\n",
    "    study.optimize(objective, n_trials=100)\n",
    "    print(study.best_trial)"
   ]
  },
  {
   "cell_type": "code",
   "execution_count": 99,
   "metadata": {},
   "outputs": [
    {
     "data": {
      "text/html": [
       "<div>\n",
       "<style scoped>\n",
       "    .dataframe tbody tr th:only-of-type {\n",
       "        vertical-align: middle;\n",
       "    }\n",
       "\n",
       "    .dataframe tbody tr th {\n",
       "        vertical-align: top;\n",
       "    }\n",
       "\n",
       "    .dataframe thead th {\n",
       "        text-align: right;\n",
       "    }\n",
       "</style>\n",
       "<table border=\"1\" class=\"dataframe\">\n",
       "  <thead>\n",
       "    <tr style=\"text-align: right;\">\n",
       "      <th></th>\n",
       "      <th>number</th>\n",
       "      <th>value</th>\n",
       "      <th>datetime_start</th>\n",
       "      <th>datetime_complete</th>\n",
       "      <th>duration</th>\n",
       "      <th>params_alpha</th>\n",
       "      <th>params_booster</th>\n",
       "      <th>params_eta</th>\n",
       "      <th>params_gamma</th>\n",
       "      <th>params_grow_policy</th>\n",
       "      <th>params_lambda</th>\n",
       "      <th>params_max_depth</th>\n",
       "      <th>params_normalize_type</th>\n",
       "      <th>params_rate_drop</th>\n",
       "      <th>params_sample_type</th>\n",
       "      <th>params_skip_drop</th>\n",
       "      <th>state</th>\n",
       "    </tr>\n",
       "  </thead>\n",
       "  <tbody>\n",
       "    <tr>\n",
       "      <th>0</th>\n",
       "      <td>0</td>\n",
       "      <td>0.895105</td>\n",
       "      <td>2023-02-23 15:26:57.089098</td>\n",
       "      <td>2023-02-23 15:26:57.120983</td>\n",
       "      <td>0 days 00:00:00.031885</td>\n",
       "      <td>2.091176e-03</td>\n",
       "      <td>gblinear</td>\n",
       "      <td>NaN</td>\n",
       "      <td>NaN</td>\n",
       "      <td>NaN</td>\n",
       "      <td>7.238532e-03</td>\n",
       "      <td>NaN</td>\n",
       "      <td>NaN</td>\n",
       "      <td>NaN</td>\n",
       "      <td>NaN</td>\n",
       "      <td>NaN</td>\n",
       "      <td>COMPLETE</td>\n",
       "    </tr>\n",
       "    <tr>\n",
       "      <th>1</th>\n",
       "      <td>1</td>\n",
       "      <td>0.916084</td>\n",
       "      <td>2023-02-23 15:26:57.121982</td>\n",
       "      <td>2023-02-23 15:26:57.167973</td>\n",
       "      <td>0 days 00:00:00.045991</td>\n",
       "      <td>2.029749e-07</td>\n",
       "      <td>dart</td>\n",
       "      <td>1.822815e-04</td>\n",
       "      <td>2.832439e-06</td>\n",
       "      <td>lossguide</td>\n",
       "      <td>2.450803e-03</td>\n",
       "      <td>4.0</td>\n",
       "      <td>forest</td>\n",
       "      <td>2.172436e-06</td>\n",
       "      <td>weighted</td>\n",
       "      <td>5.657909e-08</td>\n",
       "      <td>COMPLETE</td>\n",
       "    </tr>\n",
       "    <tr>\n",
       "      <th>2</th>\n",
       "      <td>2</td>\n",
       "      <td>0.881119</td>\n",
       "      <td>2023-02-23 15:26:57.168991</td>\n",
       "      <td>2023-02-23 15:26:57.202321</td>\n",
       "      <td>0 days 00:00:00.033330</td>\n",
       "      <td>1.521400e-04</td>\n",
       "      <td>gbtree</td>\n",
       "      <td>7.765870e-08</td>\n",
       "      <td>4.908867e-04</td>\n",
       "      <td>lossguide</td>\n",
       "      <td>5.117821e-06</td>\n",
       "      <td>1.0</td>\n",
       "      <td>NaN</td>\n",
       "      <td>NaN</td>\n",
       "      <td>NaN</td>\n",
       "      <td>NaN</td>\n",
       "      <td>COMPLETE</td>\n",
       "    </tr>\n",
       "    <tr>\n",
       "      <th>3</th>\n",
       "      <td>3</td>\n",
       "      <td>0.965035</td>\n",
       "      <td>2023-02-23 15:26:57.204327</td>\n",
       "      <td>2023-02-23 15:26:57.247220</td>\n",
       "      <td>0 days 00:00:00.042893</td>\n",
       "      <td>1.032836e-03</td>\n",
       "      <td>dart</td>\n",
       "      <td>4.358224e-04</td>\n",
       "      <td>2.027409e-04</td>\n",
       "      <td>depthwise</td>\n",
       "      <td>1.154989e-08</td>\n",
       "      <td>6.0</td>\n",
       "      <td>tree</td>\n",
       "      <td>3.683870e-03</td>\n",
       "      <td>weighted</td>\n",
       "      <td>4.357970e-02</td>\n",
       "      <td>COMPLETE</td>\n",
       "    </tr>\n",
       "    <tr>\n",
       "      <th>4</th>\n",
       "      <td>4</td>\n",
       "      <td>0.916084</td>\n",
       "      <td>2023-02-23 15:26:57.251244</td>\n",
       "      <td>2023-02-23 15:26:57.293832</td>\n",
       "      <td>0 days 00:00:00.042588</td>\n",
       "      <td>3.924311e-03</td>\n",
       "      <td>dart</td>\n",
       "      <td>2.461367e-03</td>\n",
       "      <td>3.808349e-04</td>\n",
       "      <td>lossguide</td>\n",
       "      <td>4.086825e-05</td>\n",
       "      <td>4.0</td>\n",
       "      <td>tree</td>\n",
       "      <td>7.773657e-07</td>\n",
       "      <td>uniform</td>\n",
       "      <td>1.967183e-08</td>\n",
       "      <td>COMPLETE</td>\n",
       "    </tr>\n",
       "    <tr>\n",
       "      <th>...</th>\n",
       "      <td>...</td>\n",
       "      <td>...</td>\n",
       "      <td>...</td>\n",
       "      <td>...</td>\n",
       "      <td>...</td>\n",
       "      <td>...</td>\n",
       "      <td>...</td>\n",
       "      <td>...</td>\n",
       "      <td>...</td>\n",
       "      <td>...</td>\n",
       "      <td>...</td>\n",
       "      <td>...</td>\n",
       "      <td>...</td>\n",
       "      <td>...</td>\n",
       "      <td>...</td>\n",
       "      <td>...</td>\n",
       "      <td>...</td>\n",
       "    </tr>\n",
       "    <tr>\n",
       "      <th>95</th>\n",
       "      <td>95</td>\n",
       "      <td>0.921359</td>\n",
       "      <td>2023-02-23 15:27:01.440530</td>\n",
       "      <td>2023-02-23 15:27:01.488010</td>\n",
       "      <td>0 days 00:00:00.047480</td>\n",
       "      <td>1.889684e-08</td>\n",
       "      <td>dart</td>\n",
       "      <td>1.212941e-02</td>\n",
       "      <td>3.638332e-03</td>\n",
       "      <td>depthwise</td>\n",
       "      <td>6.403588e-08</td>\n",
       "      <td>7.0</td>\n",
       "      <td>forest</td>\n",
       "      <td>5.611912e-08</td>\n",
       "      <td>uniform</td>\n",
       "      <td>3.620192e-02</td>\n",
       "      <td>PRUNED</td>\n",
       "    </tr>\n",
       "    <tr>\n",
       "      <th>96</th>\n",
       "      <td>96</td>\n",
       "      <td>0.971852</td>\n",
       "      <td>2023-02-23 15:27:01.490864</td>\n",
       "      <td>2023-02-23 15:27:01.541732</td>\n",
       "      <td>0 days 00:00:00.050868</td>\n",
       "      <td>1.049641e-08</td>\n",
       "      <td>dart</td>\n",
       "      <td>8.977728e-04</td>\n",
       "      <td>1.183645e-03</td>\n",
       "      <td>depthwise</td>\n",
       "      <td>1.419301e-08</td>\n",
       "      <td>8.0</td>\n",
       "      <td>forest</td>\n",
       "      <td>3.090203e-07</td>\n",
       "      <td>weighted</td>\n",
       "      <td>1.218071e-02</td>\n",
       "      <td>PRUNED</td>\n",
       "    </tr>\n",
       "    <tr>\n",
       "      <th>97</th>\n",
       "      <td>97</td>\n",
       "      <td>0.971805</td>\n",
       "      <td>2023-02-23 15:27:01.544380</td>\n",
       "      <td>2023-02-23 15:27:01.585982</td>\n",
       "      <td>0 days 00:00:00.041602</td>\n",
       "      <td>7.200764e-08</td>\n",
       "      <td>gbtree</td>\n",
       "      <td>2.328488e-01</td>\n",
       "      <td>1.478340e-01</td>\n",
       "      <td>depthwise</td>\n",
       "      <td>1.114155e-01</td>\n",
       "      <td>9.0</td>\n",
       "      <td>NaN</td>\n",
       "      <td>NaN</td>\n",
       "      <td>NaN</td>\n",
       "      <td>NaN</td>\n",
       "      <td>PRUNED</td>\n",
       "    </tr>\n",
       "    <tr>\n",
       "      <th>98</th>\n",
       "      <td>98</td>\n",
       "      <td>0.947557</td>\n",
       "      <td>2023-02-23 15:27:01.585982</td>\n",
       "      <td>2023-02-23 15:27:01.639717</td>\n",
       "      <td>0 days 00:00:00.053735</td>\n",
       "      <td>3.954772e-07</td>\n",
       "      <td>dart</td>\n",
       "      <td>4.811149e-06</td>\n",
       "      <td>5.694693e-02</td>\n",
       "      <td>lossguide</td>\n",
       "      <td>1.907629e-02</td>\n",
       "      <td>3.0</td>\n",
       "      <td>forest</td>\n",
       "      <td>1.328245e-07</td>\n",
       "      <td>weighted</td>\n",
       "      <td>4.894313e-01</td>\n",
       "      <td>PRUNED</td>\n",
       "    </tr>\n",
       "    <tr>\n",
       "      <th>99</th>\n",
       "      <td>99</td>\n",
       "      <td>0.930070</td>\n",
       "      <td>2023-02-23 15:27:01.639717</td>\n",
       "      <td>2023-02-23 15:27:01.706785</td>\n",
       "      <td>0 days 00:00:00.067068</td>\n",
       "      <td>1.428686e-05</td>\n",
       "      <td>dart</td>\n",
       "      <td>6.796995e-01</td>\n",
       "      <td>2.858958e-07</td>\n",
       "      <td>depthwise</td>\n",
       "      <td>2.935766e-08</td>\n",
       "      <td>6.0</td>\n",
       "      <td>forest</td>\n",
       "      <td>2.479773e-08</td>\n",
       "      <td>weighted</td>\n",
       "      <td>6.076841e-05</td>\n",
       "      <td>COMPLETE</td>\n",
       "    </tr>\n",
       "  </tbody>\n",
       "</table>\n",
       "<p>100 rows × 17 columns</p>\n",
       "</div>"
      ],
      "text/plain": [
       "    number     value             datetime_start          datetime_complete  \\\n",
       "0        0  0.895105 2023-02-23 15:26:57.089098 2023-02-23 15:26:57.120983   \n",
       "1        1  0.916084 2023-02-23 15:26:57.121982 2023-02-23 15:26:57.167973   \n",
       "2        2  0.881119 2023-02-23 15:26:57.168991 2023-02-23 15:26:57.202321   \n",
       "3        3  0.965035 2023-02-23 15:26:57.204327 2023-02-23 15:26:57.247220   \n",
       "4        4  0.916084 2023-02-23 15:26:57.251244 2023-02-23 15:26:57.293832   \n",
       "..     ...       ...                        ...                        ...   \n",
       "95      95  0.921359 2023-02-23 15:27:01.440530 2023-02-23 15:27:01.488010   \n",
       "96      96  0.971852 2023-02-23 15:27:01.490864 2023-02-23 15:27:01.541732   \n",
       "97      97  0.971805 2023-02-23 15:27:01.544380 2023-02-23 15:27:01.585982   \n",
       "98      98  0.947557 2023-02-23 15:27:01.585982 2023-02-23 15:27:01.639717   \n",
       "99      99  0.930070 2023-02-23 15:27:01.639717 2023-02-23 15:27:01.706785   \n",
       "\n",
       "                 duration  params_alpha params_booster    params_eta  \\\n",
       "0  0 days 00:00:00.031885  2.091176e-03       gblinear           NaN   \n",
       "1  0 days 00:00:00.045991  2.029749e-07           dart  1.822815e-04   \n",
       "2  0 days 00:00:00.033330  1.521400e-04         gbtree  7.765870e-08   \n",
       "3  0 days 00:00:00.042893  1.032836e-03           dart  4.358224e-04   \n",
       "4  0 days 00:00:00.042588  3.924311e-03           dart  2.461367e-03   \n",
       "..                    ...           ...            ...           ...   \n",
       "95 0 days 00:00:00.047480  1.889684e-08           dart  1.212941e-02   \n",
       "96 0 days 00:00:00.050868  1.049641e-08           dart  8.977728e-04   \n",
       "97 0 days 00:00:00.041602  7.200764e-08         gbtree  2.328488e-01   \n",
       "98 0 days 00:00:00.053735  3.954772e-07           dart  4.811149e-06   \n",
       "99 0 days 00:00:00.067068  1.428686e-05           dart  6.796995e-01   \n",
       "\n",
       "    params_gamma params_grow_policy  params_lambda  params_max_depth  \\\n",
       "0            NaN                NaN   7.238532e-03               NaN   \n",
       "1   2.832439e-06          lossguide   2.450803e-03               4.0   \n",
       "2   4.908867e-04          lossguide   5.117821e-06               1.0   \n",
       "3   2.027409e-04          depthwise   1.154989e-08               6.0   \n",
       "4   3.808349e-04          lossguide   4.086825e-05               4.0   \n",
       "..           ...                ...            ...               ...   \n",
       "95  3.638332e-03          depthwise   6.403588e-08               7.0   \n",
       "96  1.183645e-03          depthwise   1.419301e-08               8.0   \n",
       "97  1.478340e-01          depthwise   1.114155e-01               9.0   \n",
       "98  5.694693e-02          lossguide   1.907629e-02               3.0   \n",
       "99  2.858958e-07          depthwise   2.935766e-08               6.0   \n",
       "\n",
       "   params_normalize_type  params_rate_drop params_sample_type  \\\n",
       "0                    NaN               NaN                NaN   \n",
       "1                 forest      2.172436e-06           weighted   \n",
       "2                    NaN               NaN                NaN   \n",
       "3                   tree      3.683870e-03           weighted   \n",
       "4                   tree      7.773657e-07            uniform   \n",
       "..                   ...               ...                ...   \n",
       "95                forest      5.611912e-08            uniform   \n",
       "96                forest      3.090203e-07           weighted   \n",
       "97                   NaN               NaN                NaN   \n",
       "98                forest      1.328245e-07           weighted   \n",
       "99                forest      2.479773e-08           weighted   \n",
       "\n",
       "    params_skip_drop     state  \n",
       "0                NaN  COMPLETE  \n",
       "1       5.657909e-08  COMPLETE  \n",
       "2                NaN  COMPLETE  \n",
       "3       4.357970e-02  COMPLETE  \n",
       "4       1.967183e-08  COMPLETE  \n",
       "..               ...       ...  \n",
       "95      3.620192e-02    PRUNED  \n",
       "96      1.218071e-02    PRUNED  \n",
       "97               NaN    PRUNED  \n",
       "98      4.894313e-01    PRUNED  \n",
       "99      6.076841e-05  COMPLETE  \n",
       "\n",
       "[100 rows x 17 columns]"
      ]
     },
     "execution_count": 99,
     "metadata": {},
     "output_type": "execute_result"
    }
   ],
   "source": [
    "study.trials_dataframe()"
   ]
  },
  {
   "cell_type": "code",
   "execution_count": 100,
   "metadata": {},
   "outputs": [
    {
     "data": {
      "application/vnd.plotly.v1+json": {
       "config": {
        "plotlyServerURL": "https://plot.ly"
       },
       "data": [
        {
         "mode": "markers",
         "name": "Objective Value",
         "type": "scatter",
         "x": [
          0,
          1,
          2,
          3,
          4,
          5,
          8,
          10,
          11,
          13,
          14,
          15,
          16,
          18,
          22,
          26,
          27,
          32,
          34,
          36,
          44,
          52,
          53,
          62,
          64,
          67,
          73,
          74,
          85,
          86,
          87,
          93,
          99
         ],
         "y": [
          0.8951048951048951,
          0.916083916083916,
          0.8811188811188811,
          0.965034965034965,
          0.916083916083916,
          0.965034965034965,
          0.916083916083916,
          0.9370629370629371,
          0.958041958041958,
          0.951048951048951,
          0.9440559440559441,
          0.972027972027972,
          0.951048951048951,
          0.965034965034965,
          0.9440559440559441,
          0.9370629370629371,
          0.951048951048951,
          0.972027972027972,
          0.9370629370629371,
          0.958041958041958,
          0.9300699300699301,
          0.958041958041958,
          0.958041958041958,
          0.972027972027972,
          0.951048951048951,
          0.993006993006993,
          0.972027972027972,
          0.951048951048951,
          0.986013986013986,
          0.986013986013986,
          0.9440559440559441,
          0.951048951048951,
          0.9300699300699301
         ]
        },
        {
         "name": "Best Value",
         "type": "scatter",
         "x": [
          0,
          1,
          2,
          3,
          4,
          5,
          8,
          10,
          11,
          13,
          14,
          15,
          16,
          18,
          22,
          26,
          27,
          32,
          34,
          36,
          44,
          52,
          53,
          62,
          64,
          67,
          73,
          74,
          85,
          86,
          87,
          93,
          99
         ],
         "y": [
          0.8951048951048951,
          0.916083916083916,
          0.916083916083916,
          0.965034965034965,
          0.965034965034965,
          0.965034965034965,
          0.965034965034965,
          0.965034965034965,
          0.965034965034965,
          0.965034965034965,
          0.965034965034965,
          0.972027972027972,
          0.972027972027972,
          0.972027972027972,
          0.972027972027972,
          0.972027972027972,
          0.972027972027972,
          0.972027972027972,
          0.972027972027972,
          0.972027972027972,
          0.972027972027972,
          0.972027972027972,
          0.972027972027972,
          0.972027972027972,
          0.972027972027972,
          0.993006993006993,
          0.993006993006993,
          0.993006993006993,
          0.993006993006993,
          0.993006993006993,
          0.993006993006993,
          0.993006993006993,
          0.993006993006993
         ]
        }
       ],
       "layout": {
        "template": {
         "data": {
          "bar": [
           {
            "error_x": {
             "color": "#2a3f5f"
            },
            "error_y": {
             "color": "#2a3f5f"
            },
            "marker": {
             "line": {
              "color": "#E5ECF6",
              "width": 0.5
             },
             "pattern": {
              "fillmode": "overlay",
              "size": 10,
              "solidity": 0.2
             }
            },
            "type": "bar"
           }
          ],
          "barpolar": [
           {
            "marker": {
             "line": {
              "color": "#E5ECF6",
              "width": 0.5
             },
             "pattern": {
              "fillmode": "overlay",
              "size": 10,
              "solidity": 0.2
             }
            },
            "type": "barpolar"
           }
          ],
          "carpet": [
           {
            "aaxis": {
             "endlinecolor": "#2a3f5f",
             "gridcolor": "white",
             "linecolor": "white",
             "minorgridcolor": "white",
             "startlinecolor": "#2a3f5f"
            },
            "baxis": {
             "endlinecolor": "#2a3f5f",
             "gridcolor": "white",
             "linecolor": "white",
             "minorgridcolor": "white",
             "startlinecolor": "#2a3f5f"
            },
            "type": "carpet"
           }
          ],
          "choropleth": [
           {
            "colorbar": {
             "outlinewidth": 0,
             "ticks": ""
            },
            "type": "choropleth"
           }
          ],
          "contour": [
           {
            "colorbar": {
             "outlinewidth": 0,
             "ticks": ""
            },
            "colorscale": [
             [
              0,
              "#0d0887"
             ],
             [
              0.1111111111111111,
              "#46039f"
             ],
             [
              0.2222222222222222,
              "#7201a8"
             ],
             [
              0.3333333333333333,
              "#9c179e"
             ],
             [
              0.4444444444444444,
              "#bd3786"
             ],
             [
              0.5555555555555556,
              "#d8576b"
             ],
             [
              0.6666666666666666,
              "#ed7953"
             ],
             [
              0.7777777777777778,
              "#fb9f3a"
             ],
             [
              0.8888888888888888,
              "#fdca26"
             ],
             [
              1,
              "#f0f921"
             ]
            ],
            "type": "contour"
           }
          ],
          "contourcarpet": [
           {
            "colorbar": {
             "outlinewidth": 0,
             "ticks": ""
            },
            "type": "contourcarpet"
           }
          ],
          "heatmap": [
           {
            "colorbar": {
             "outlinewidth": 0,
             "ticks": ""
            },
            "colorscale": [
             [
              0,
              "#0d0887"
             ],
             [
              0.1111111111111111,
              "#46039f"
             ],
             [
              0.2222222222222222,
              "#7201a8"
             ],
             [
              0.3333333333333333,
              "#9c179e"
             ],
             [
              0.4444444444444444,
              "#bd3786"
             ],
             [
              0.5555555555555556,
              "#d8576b"
             ],
             [
              0.6666666666666666,
              "#ed7953"
             ],
             [
              0.7777777777777778,
              "#fb9f3a"
             ],
             [
              0.8888888888888888,
              "#fdca26"
             ],
             [
              1,
              "#f0f921"
             ]
            ],
            "type": "heatmap"
           }
          ],
          "heatmapgl": [
           {
            "colorbar": {
             "outlinewidth": 0,
             "ticks": ""
            },
            "colorscale": [
             [
              0,
              "#0d0887"
             ],
             [
              0.1111111111111111,
              "#46039f"
             ],
             [
              0.2222222222222222,
              "#7201a8"
             ],
             [
              0.3333333333333333,
              "#9c179e"
             ],
             [
              0.4444444444444444,
              "#bd3786"
             ],
             [
              0.5555555555555556,
              "#d8576b"
             ],
             [
              0.6666666666666666,
              "#ed7953"
             ],
             [
              0.7777777777777778,
              "#fb9f3a"
             ],
             [
              0.8888888888888888,
              "#fdca26"
             ],
             [
              1,
              "#f0f921"
             ]
            ],
            "type": "heatmapgl"
           }
          ],
          "histogram": [
           {
            "marker": {
             "pattern": {
              "fillmode": "overlay",
              "size": 10,
              "solidity": 0.2
             }
            },
            "type": "histogram"
           }
          ],
          "histogram2d": [
           {
            "colorbar": {
             "outlinewidth": 0,
             "ticks": ""
            },
            "colorscale": [
             [
              0,
              "#0d0887"
             ],
             [
              0.1111111111111111,
              "#46039f"
             ],
             [
              0.2222222222222222,
              "#7201a8"
             ],
             [
              0.3333333333333333,
              "#9c179e"
             ],
             [
              0.4444444444444444,
              "#bd3786"
             ],
             [
              0.5555555555555556,
              "#d8576b"
             ],
             [
              0.6666666666666666,
              "#ed7953"
             ],
             [
              0.7777777777777778,
              "#fb9f3a"
             ],
             [
              0.8888888888888888,
              "#fdca26"
             ],
             [
              1,
              "#f0f921"
             ]
            ],
            "type": "histogram2d"
           }
          ],
          "histogram2dcontour": [
           {
            "colorbar": {
             "outlinewidth": 0,
             "ticks": ""
            },
            "colorscale": [
             [
              0,
              "#0d0887"
             ],
             [
              0.1111111111111111,
              "#46039f"
             ],
             [
              0.2222222222222222,
              "#7201a8"
             ],
             [
              0.3333333333333333,
              "#9c179e"
             ],
             [
              0.4444444444444444,
              "#bd3786"
             ],
             [
              0.5555555555555556,
              "#d8576b"
             ],
             [
              0.6666666666666666,
              "#ed7953"
             ],
             [
              0.7777777777777778,
              "#fb9f3a"
             ],
             [
              0.8888888888888888,
              "#fdca26"
             ],
             [
              1,
              "#f0f921"
             ]
            ],
            "type": "histogram2dcontour"
           }
          ],
          "mesh3d": [
           {
            "colorbar": {
             "outlinewidth": 0,
             "ticks": ""
            },
            "type": "mesh3d"
           }
          ],
          "parcoords": [
           {
            "line": {
             "colorbar": {
              "outlinewidth": 0,
              "ticks": ""
             }
            },
            "type": "parcoords"
           }
          ],
          "pie": [
           {
            "automargin": true,
            "type": "pie"
           }
          ],
          "scatter": [
           {
            "fillpattern": {
             "fillmode": "overlay",
             "size": 10,
             "solidity": 0.2
            },
            "type": "scatter"
           }
          ],
          "scatter3d": [
           {
            "line": {
             "colorbar": {
              "outlinewidth": 0,
              "ticks": ""
             }
            },
            "marker": {
             "colorbar": {
              "outlinewidth": 0,
              "ticks": ""
             }
            },
            "type": "scatter3d"
           }
          ],
          "scattercarpet": [
           {
            "marker": {
             "colorbar": {
              "outlinewidth": 0,
              "ticks": ""
             }
            },
            "type": "scattercarpet"
           }
          ],
          "scattergeo": [
           {
            "marker": {
             "colorbar": {
              "outlinewidth": 0,
              "ticks": ""
             }
            },
            "type": "scattergeo"
           }
          ],
          "scattergl": [
           {
            "marker": {
             "colorbar": {
              "outlinewidth": 0,
              "ticks": ""
             }
            },
            "type": "scattergl"
           }
          ],
          "scattermapbox": [
           {
            "marker": {
             "colorbar": {
              "outlinewidth": 0,
              "ticks": ""
             }
            },
            "type": "scattermapbox"
           }
          ],
          "scatterpolar": [
           {
            "marker": {
             "colorbar": {
              "outlinewidth": 0,
              "ticks": ""
             }
            },
            "type": "scatterpolar"
           }
          ],
          "scatterpolargl": [
           {
            "marker": {
             "colorbar": {
              "outlinewidth": 0,
              "ticks": ""
             }
            },
            "type": "scatterpolargl"
           }
          ],
          "scatterternary": [
           {
            "marker": {
             "colorbar": {
              "outlinewidth": 0,
              "ticks": ""
             }
            },
            "type": "scatterternary"
           }
          ],
          "surface": [
           {
            "colorbar": {
             "outlinewidth": 0,
             "ticks": ""
            },
            "colorscale": [
             [
              0,
              "#0d0887"
             ],
             [
              0.1111111111111111,
              "#46039f"
             ],
             [
              0.2222222222222222,
              "#7201a8"
             ],
             [
              0.3333333333333333,
              "#9c179e"
             ],
             [
              0.4444444444444444,
              "#bd3786"
             ],
             [
              0.5555555555555556,
              "#d8576b"
             ],
             [
              0.6666666666666666,
              "#ed7953"
             ],
             [
              0.7777777777777778,
              "#fb9f3a"
             ],
             [
              0.8888888888888888,
              "#fdca26"
             ],
             [
              1,
              "#f0f921"
             ]
            ],
            "type": "surface"
           }
          ],
          "table": [
           {
            "cells": {
             "fill": {
              "color": "#EBF0F8"
             },
             "line": {
              "color": "white"
             }
            },
            "header": {
             "fill": {
              "color": "#C8D4E3"
             },
             "line": {
              "color": "white"
             }
            },
            "type": "table"
           }
          ]
         },
         "layout": {
          "annotationdefaults": {
           "arrowcolor": "#2a3f5f",
           "arrowhead": 0,
           "arrowwidth": 1
          },
          "autotypenumbers": "strict",
          "coloraxis": {
           "colorbar": {
            "outlinewidth": 0,
            "ticks": ""
           }
          },
          "colorscale": {
           "diverging": [
            [
             0,
             "#8e0152"
            ],
            [
             0.1,
             "#c51b7d"
            ],
            [
             0.2,
             "#de77ae"
            ],
            [
             0.3,
             "#f1b6da"
            ],
            [
             0.4,
             "#fde0ef"
            ],
            [
             0.5,
             "#f7f7f7"
            ],
            [
             0.6,
             "#e6f5d0"
            ],
            [
             0.7,
             "#b8e186"
            ],
            [
             0.8,
             "#7fbc41"
            ],
            [
             0.9,
             "#4d9221"
            ],
            [
             1,
             "#276419"
            ]
           ],
           "sequential": [
            [
             0,
             "#0d0887"
            ],
            [
             0.1111111111111111,
             "#46039f"
            ],
            [
             0.2222222222222222,
             "#7201a8"
            ],
            [
             0.3333333333333333,
             "#9c179e"
            ],
            [
             0.4444444444444444,
             "#bd3786"
            ],
            [
             0.5555555555555556,
             "#d8576b"
            ],
            [
             0.6666666666666666,
             "#ed7953"
            ],
            [
             0.7777777777777778,
             "#fb9f3a"
            ],
            [
             0.8888888888888888,
             "#fdca26"
            ],
            [
             1,
             "#f0f921"
            ]
           ],
           "sequentialminus": [
            [
             0,
             "#0d0887"
            ],
            [
             0.1111111111111111,
             "#46039f"
            ],
            [
             0.2222222222222222,
             "#7201a8"
            ],
            [
             0.3333333333333333,
             "#9c179e"
            ],
            [
             0.4444444444444444,
             "#bd3786"
            ],
            [
             0.5555555555555556,
             "#d8576b"
            ],
            [
             0.6666666666666666,
             "#ed7953"
            ],
            [
             0.7777777777777778,
             "#fb9f3a"
            ],
            [
             0.8888888888888888,
             "#fdca26"
            ],
            [
             1,
             "#f0f921"
            ]
           ]
          },
          "colorway": [
           "#636efa",
           "#EF553B",
           "#00cc96",
           "#ab63fa",
           "#FFA15A",
           "#19d3f3",
           "#FF6692",
           "#B6E880",
           "#FF97FF",
           "#FECB52"
          ],
          "font": {
           "color": "#2a3f5f"
          },
          "geo": {
           "bgcolor": "white",
           "lakecolor": "white",
           "landcolor": "#E5ECF6",
           "showlakes": true,
           "showland": true,
           "subunitcolor": "white"
          },
          "hoverlabel": {
           "align": "left"
          },
          "hovermode": "closest",
          "mapbox": {
           "style": "light"
          },
          "paper_bgcolor": "white",
          "plot_bgcolor": "#E5ECF6",
          "polar": {
           "angularaxis": {
            "gridcolor": "white",
            "linecolor": "white",
            "ticks": ""
           },
           "bgcolor": "#E5ECF6",
           "radialaxis": {
            "gridcolor": "white",
            "linecolor": "white",
            "ticks": ""
           }
          },
          "scene": {
           "xaxis": {
            "backgroundcolor": "#E5ECF6",
            "gridcolor": "white",
            "gridwidth": 2,
            "linecolor": "white",
            "showbackground": true,
            "ticks": "",
            "zerolinecolor": "white"
           },
           "yaxis": {
            "backgroundcolor": "#E5ECF6",
            "gridcolor": "white",
            "gridwidth": 2,
            "linecolor": "white",
            "showbackground": true,
            "ticks": "",
            "zerolinecolor": "white"
           },
           "zaxis": {
            "backgroundcolor": "#E5ECF6",
            "gridcolor": "white",
            "gridwidth": 2,
            "linecolor": "white",
            "showbackground": true,
            "ticks": "",
            "zerolinecolor": "white"
           }
          },
          "shapedefaults": {
           "line": {
            "color": "#2a3f5f"
           }
          },
          "ternary": {
           "aaxis": {
            "gridcolor": "white",
            "linecolor": "white",
            "ticks": ""
           },
           "baxis": {
            "gridcolor": "white",
            "linecolor": "white",
            "ticks": ""
           },
           "bgcolor": "#E5ECF6",
           "caxis": {
            "gridcolor": "white",
            "linecolor": "white",
            "ticks": ""
           }
          },
          "title": {
           "x": 0.05
          },
          "xaxis": {
           "automargin": true,
           "gridcolor": "white",
           "linecolor": "white",
           "ticks": "",
           "title": {
            "standoff": 15
           },
           "zerolinecolor": "white",
           "zerolinewidth": 2
          },
          "yaxis": {
           "automargin": true,
           "gridcolor": "white",
           "linecolor": "white",
           "ticks": "",
           "title": {
            "standoff": 15
           },
           "zerolinecolor": "white",
           "zerolinewidth": 2
          }
         }
        },
        "title": {
         "text": "Optimization History Plot"
        },
        "xaxis": {
         "title": {
          "text": "Trial"
         }
        },
        "yaxis": {
         "title": {
          "text": "Objective Value"
         }
        }
       }
      },
      "text/html": [
       "<div>                            <div id=\"aa5c442b-b7a6-455b-ade1-8aec9f794487\" class=\"plotly-graph-div\" style=\"height:525px; width:100%;\"></div>            <script type=\"text/javascript\">                require([\"plotly\"], function(Plotly) {                    window.PLOTLYENV=window.PLOTLYENV || {};                                    if (document.getElementById(\"aa5c442b-b7a6-455b-ade1-8aec9f794487\")) {                    Plotly.newPlot(                        \"aa5c442b-b7a6-455b-ade1-8aec9f794487\",                        [{\"mode\":\"markers\",\"name\":\"Objective Value\",\"x\":[0,1,2,3,4,5,8,10,11,13,14,15,16,18,22,26,27,32,34,36,44,52,53,62,64,67,73,74,85,86,87,93,99],\"y\":[0.8951048951048951,0.916083916083916,0.8811188811188811,0.965034965034965,0.916083916083916,0.965034965034965,0.916083916083916,0.9370629370629371,0.958041958041958,0.951048951048951,0.9440559440559441,0.972027972027972,0.951048951048951,0.965034965034965,0.9440559440559441,0.9370629370629371,0.951048951048951,0.972027972027972,0.9370629370629371,0.958041958041958,0.9300699300699301,0.958041958041958,0.958041958041958,0.972027972027972,0.951048951048951,0.993006993006993,0.972027972027972,0.951048951048951,0.986013986013986,0.986013986013986,0.9440559440559441,0.951048951048951,0.9300699300699301],\"type\":\"scatter\"},{\"name\":\"Best Value\",\"x\":[0,1,2,3,4,5,8,10,11,13,14,15,16,18,22,26,27,32,34,36,44,52,53,62,64,67,73,74,85,86,87,93,99],\"y\":[0.8951048951048951,0.916083916083916,0.916083916083916,0.965034965034965,0.965034965034965,0.965034965034965,0.965034965034965,0.965034965034965,0.965034965034965,0.965034965034965,0.965034965034965,0.972027972027972,0.972027972027972,0.972027972027972,0.972027972027972,0.972027972027972,0.972027972027972,0.972027972027972,0.972027972027972,0.972027972027972,0.972027972027972,0.972027972027972,0.972027972027972,0.972027972027972,0.972027972027972,0.993006993006993,0.993006993006993,0.993006993006993,0.993006993006993,0.993006993006993,0.993006993006993,0.993006993006993,0.993006993006993],\"type\":\"scatter\"}],                        {\"title\":{\"text\":\"Optimization History Plot\"},\"xaxis\":{\"title\":{\"text\":\"Trial\"}},\"yaxis\":{\"title\":{\"text\":\"Objective Value\"}},\"template\":{\"data\":{\"histogram2dcontour\":[{\"type\":\"histogram2dcontour\",\"colorbar\":{\"outlinewidth\":0,\"ticks\":\"\"},\"colorscale\":[[0.0,\"#0d0887\"],[0.1111111111111111,\"#46039f\"],[0.2222222222222222,\"#7201a8\"],[0.3333333333333333,\"#9c179e\"],[0.4444444444444444,\"#bd3786\"],[0.5555555555555556,\"#d8576b\"],[0.6666666666666666,\"#ed7953\"],[0.7777777777777778,\"#fb9f3a\"],[0.8888888888888888,\"#fdca26\"],[1.0,\"#f0f921\"]]}],\"choropleth\":[{\"type\":\"choropleth\",\"colorbar\":{\"outlinewidth\":0,\"ticks\":\"\"}}],\"histogram2d\":[{\"type\":\"histogram2d\",\"colorbar\":{\"outlinewidth\":0,\"ticks\":\"\"},\"colorscale\":[[0.0,\"#0d0887\"],[0.1111111111111111,\"#46039f\"],[0.2222222222222222,\"#7201a8\"],[0.3333333333333333,\"#9c179e\"],[0.4444444444444444,\"#bd3786\"],[0.5555555555555556,\"#d8576b\"],[0.6666666666666666,\"#ed7953\"],[0.7777777777777778,\"#fb9f3a\"],[0.8888888888888888,\"#fdca26\"],[1.0,\"#f0f921\"]]}],\"heatmap\":[{\"type\":\"heatmap\",\"colorbar\":{\"outlinewidth\":0,\"ticks\":\"\"},\"colorscale\":[[0.0,\"#0d0887\"],[0.1111111111111111,\"#46039f\"],[0.2222222222222222,\"#7201a8\"],[0.3333333333333333,\"#9c179e\"],[0.4444444444444444,\"#bd3786\"],[0.5555555555555556,\"#d8576b\"],[0.6666666666666666,\"#ed7953\"],[0.7777777777777778,\"#fb9f3a\"],[0.8888888888888888,\"#fdca26\"],[1.0,\"#f0f921\"]]}],\"heatmapgl\":[{\"type\":\"heatmapgl\",\"colorbar\":{\"outlinewidth\":0,\"ticks\":\"\"},\"colorscale\":[[0.0,\"#0d0887\"],[0.1111111111111111,\"#46039f\"],[0.2222222222222222,\"#7201a8\"],[0.3333333333333333,\"#9c179e\"],[0.4444444444444444,\"#bd3786\"],[0.5555555555555556,\"#d8576b\"],[0.6666666666666666,\"#ed7953\"],[0.7777777777777778,\"#fb9f3a\"],[0.8888888888888888,\"#fdca26\"],[1.0,\"#f0f921\"]]}],\"contourcarpet\":[{\"type\":\"contourcarpet\",\"colorbar\":{\"outlinewidth\":0,\"ticks\":\"\"}}],\"contour\":[{\"type\":\"contour\",\"colorbar\":{\"outlinewidth\":0,\"ticks\":\"\"},\"colorscale\":[[0.0,\"#0d0887\"],[0.1111111111111111,\"#46039f\"],[0.2222222222222222,\"#7201a8\"],[0.3333333333333333,\"#9c179e\"],[0.4444444444444444,\"#bd3786\"],[0.5555555555555556,\"#d8576b\"],[0.6666666666666666,\"#ed7953\"],[0.7777777777777778,\"#fb9f3a\"],[0.8888888888888888,\"#fdca26\"],[1.0,\"#f0f921\"]]}],\"surface\":[{\"type\":\"surface\",\"colorbar\":{\"outlinewidth\":0,\"ticks\":\"\"},\"colorscale\":[[0.0,\"#0d0887\"],[0.1111111111111111,\"#46039f\"],[0.2222222222222222,\"#7201a8\"],[0.3333333333333333,\"#9c179e\"],[0.4444444444444444,\"#bd3786\"],[0.5555555555555556,\"#d8576b\"],[0.6666666666666666,\"#ed7953\"],[0.7777777777777778,\"#fb9f3a\"],[0.8888888888888888,\"#fdca26\"],[1.0,\"#f0f921\"]]}],\"mesh3d\":[{\"type\":\"mesh3d\",\"colorbar\":{\"outlinewidth\":0,\"ticks\":\"\"}}],\"scatter\":[{\"fillpattern\":{\"fillmode\":\"overlay\",\"size\":10,\"solidity\":0.2},\"type\":\"scatter\"}],\"parcoords\":[{\"type\":\"parcoords\",\"line\":{\"colorbar\":{\"outlinewidth\":0,\"ticks\":\"\"}}}],\"scatterpolargl\":[{\"type\":\"scatterpolargl\",\"marker\":{\"colorbar\":{\"outlinewidth\":0,\"ticks\":\"\"}}}],\"bar\":[{\"error_x\":{\"color\":\"#2a3f5f\"},\"error_y\":{\"color\":\"#2a3f5f\"},\"marker\":{\"line\":{\"color\":\"#E5ECF6\",\"width\":0.5},\"pattern\":{\"fillmode\":\"overlay\",\"size\":10,\"solidity\":0.2}},\"type\":\"bar\"}],\"scattergeo\":[{\"type\":\"scattergeo\",\"marker\":{\"colorbar\":{\"outlinewidth\":0,\"ticks\":\"\"}}}],\"scatterpolar\":[{\"type\":\"scatterpolar\",\"marker\":{\"colorbar\":{\"outlinewidth\":0,\"ticks\":\"\"}}}],\"histogram\":[{\"marker\":{\"pattern\":{\"fillmode\":\"overlay\",\"size\":10,\"solidity\":0.2}},\"type\":\"histogram\"}],\"scattergl\":[{\"type\":\"scattergl\",\"marker\":{\"colorbar\":{\"outlinewidth\":0,\"ticks\":\"\"}}}],\"scatter3d\":[{\"type\":\"scatter3d\",\"line\":{\"colorbar\":{\"outlinewidth\":0,\"ticks\":\"\"}},\"marker\":{\"colorbar\":{\"outlinewidth\":0,\"ticks\":\"\"}}}],\"scattermapbox\":[{\"type\":\"scattermapbox\",\"marker\":{\"colorbar\":{\"outlinewidth\":0,\"ticks\":\"\"}}}],\"scatterternary\":[{\"type\":\"scatterternary\",\"marker\":{\"colorbar\":{\"outlinewidth\":0,\"ticks\":\"\"}}}],\"scattercarpet\":[{\"type\":\"scattercarpet\",\"marker\":{\"colorbar\":{\"outlinewidth\":0,\"ticks\":\"\"}}}],\"carpet\":[{\"aaxis\":{\"endlinecolor\":\"#2a3f5f\",\"gridcolor\":\"white\",\"linecolor\":\"white\",\"minorgridcolor\":\"white\",\"startlinecolor\":\"#2a3f5f\"},\"baxis\":{\"endlinecolor\":\"#2a3f5f\",\"gridcolor\":\"white\",\"linecolor\":\"white\",\"minorgridcolor\":\"white\",\"startlinecolor\":\"#2a3f5f\"},\"type\":\"carpet\"}],\"table\":[{\"cells\":{\"fill\":{\"color\":\"#EBF0F8\"},\"line\":{\"color\":\"white\"}},\"header\":{\"fill\":{\"color\":\"#C8D4E3\"},\"line\":{\"color\":\"white\"}},\"type\":\"table\"}],\"barpolar\":[{\"marker\":{\"line\":{\"color\":\"#E5ECF6\",\"width\":0.5},\"pattern\":{\"fillmode\":\"overlay\",\"size\":10,\"solidity\":0.2}},\"type\":\"barpolar\"}],\"pie\":[{\"automargin\":true,\"type\":\"pie\"}]},\"layout\":{\"autotypenumbers\":\"strict\",\"colorway\":[\"#636efa\",\"#EF553B\",\"#00cc96\",\"#ab63fa\",\"#FFA15A\",\"#19d3f3\",\"#FF6692\",\"#B6E880\",\"#FF97FF\",\"#FECB52\"],\"font\":{\"color\":\"#2a3f5f\"},\"hovermode\":\"closest\",\"hoverlabel\":{\"align\":\"left\"},\"paper_bgcolor\":\"white\",\"plot_bgcolor\":\"#E5ECF6\",\"polar\":{\"bgcolor\":\"#E5ECF6\",\"angularaxis\":{\"gridcolor\":\"white\",\"linecolor\":\"white\",\"ticks\":\"\"},\"radialaxis\":{\"gridcolor\":\"white\",\"linecolor\":\"white\",\"ticks\":\"\"}},\"ternary\":{\"bgcolor\":\"#E5ECF6\",\"aaxis\":{\"gridcolor\":\"white\",\"linecolor\":\"white\",\"ticks\":\"\"},\"baxis\":{\"gridcolor\":\"white\",\"linecolor\":\"white\",\"ticks\":\"\"},\"caxis\":{\"gridcolor\":\"white\",\"linecolor\":\"white\",\"ticks\":\"\"}},\"coloraxis\":{\"colorbar\":{\"outlinewidth\":0,\"ticks\":\"\"}},\"colorscale\":{\"sequential\":[[0.0,\"#0d0887\"],[0.1111111111111111,\"#46039f\"],[0.2222222222222222,\"#7201a8\"],[0.3333333333333333,\"#9c179e\"],[0.4444444444444444,\"#bd3786\"],[0.5555555555555556,\"#d8576b\"],[0.6666666666666666,\"#ed7953\"],[0.7777777777777778,\"#fb9f3a\"],[0.8888888888888888,\"#fdca26\"],[1.0,\"#f0f921\"]],\"sequentialminus\":[[0.0,\"#0d0887\"],[0.1111111111111111,\"#46039f\"],[0.2222222222222222,\"#7201a8\"],[0.3333333333333333,\"#9c179e\"],[0.4444444444444444,\"#bd3786\"],[0.5555555555555556,\"#d8576b\"],[0.6666666666666666,\"#ed7953\"],[0.7777777777777778,\"#fb9f3a\"],[0.8888888888888888,\"#fdca26\"],[1.0,\"#f0f921\"]],\"diverging\":[[0,\"#8e0152\"],[0.1,\"#c51b7d\"],[0.2,\"#de77ae\"],[0.3,\"#f1b6da\"],[0.4,\"#fde0ef\"],[0.5,\"#f7f7f7\"],[0.6,\"#e6f5d0\"],[0.7,\"#b8e186\"],[0.8,\"#7fbc41\"],[0.9,\"#4d9221\"],[1,\"#276419\"]]},\"xaxis\":{\"gridcolor\":\"white\",\"linecolor\":\"white\",\"ticks\":\"\",\"title\":{\"standoff\":15},\"zerolinecolor\":\"white\",\"automargin\":true,\"zerolinewidth\":2},\"yaxis\":{\"gridcolor\":\"white\",\"linecolor\":\"white\",\"ticks\":\"\",\"title\":{\"standoff\":15},\"zerolinecolor\":\"white\",\"automargin\":true,\"zerolinewidth\":2},\"scene\":{\"xaxis\":{\"backgroundcolor\":\"#E5ECF6\",\"gridcolor\":\"white\",\"linecolor\":\"white\",\"showbackground\":true,\"ticks\":\"\",\"zerolinecolor\":\"white\",\"gridwidth\":2},\"yaxis\":{\"backgroundcolor\":\"#E5ECF6\",\"gridcolor\":\"white\",\"linecolor\":\"white\",\"showbackground\":true,\"ticks\":\"\",\"zerolinecolor\":\"white\",\"gridwidth\":2},\"zaxis\":{\"backgroundcolor\":\"#E5ECF6\",\"gridcolor\":\"white\",\"linecolor\":\"white\",\"showbackground\":true,\"ticks\":\"\",\"zerolinecolor\":\"white\",\"gridwidth\":2}},\"shapedefaults\":{\"line\":{\"color\":\"#2a3f5f\"}},\"annotationdefaults\":{\"arrowcolor\":\"#2a3f5f\",\"arrowhead\":0,\"arrowwidth\":1},\"geo\":{\"bgcolor\":\"white\",\"landcolor\":\"#E5ECF6\",\"subunitcolor\":\"white\",\"showland\":true,\"showlakes\":true,\"lakecolor\":\"white\"},\"title\":{\"x\":0.05},\"mapbox\":{\"style\":\"light\"}}}},                        {\"responsive\": true}                    ).then(function(){\n",
       "                            \n",
       "var gd = document.getElementById('aa5c442b-b7a6-455b-ade1-8aec9f794487');\n",
       "var x = new MutationObserver(function (mutations, observer) {{\n",
       "        var display = window.getComputedStyle(gd).display;\n",
       "        if (!display || display === 'none') {{\n",
       "            console.log([gd, 'removed!']);\n",
       "            Plotly.purge(gd);\n",
       "            observer.disconnect();\n",
       "        }}\n",
       "}});\n",
       "\n",
       "// Listen for the removal of the full notebook cells\n",
       "var notebookContainer = gd.closest('#notebook-container');\n",
       "if (notebookContainer) {{\n",
       "    x.observe(notebookContainer, {childList: true});\n",
       "}}\n",
       "\n",
       "// Listen for the clearing of the current output cell\n",
       "var outputEl = gd.closest('.output');\n",
       "if (outputEl) {{\n",
       "    x.observe(outputEl, {childList: true});\n",
       "}}\n",
       "\n",
       "                        })                };                });            </script>        </div>"
      ]
     },
     "metadata": {},
     "output_type": "display_data"
    }
   ],
   "source": [
    "#plot_optimization_histor: shows the scores from all trials as well as the best score so far at each point.\n",
    "optuna.visualization.plot_optimization_history(study)"
   ]
  },
  {
   "cell_type": "code",
   "execution_count": 101,
   "metadata": {},
   "outputs": [
    {
     "data": {
      "application/vnd.plotly.v1+json": {
       "config": {
        "plotlyServerURL": "https://plot.ly"
       },
       "data": [
        {
         "dimensions": [
          {
           "label": "Objective Value",
           "range": [
            0.916083916083916,
            0.986013986013986
           ],
           "values": [
            0.916083916083916,
            0.965034965034965,
            0.916083916083916,
            0.965034965034965,
            0.916083916083916,
            0.9370629370629371,
            0.958041958041958,
            0.951048951048951,
            0.9440559440559441,
            0.9370629370629371,
            0.972027972027972,
            0.9370629370629371,
            0.958041958041958,
            0.9300699300699301,
            0.958041958041958,
            0.958041958041958,
            0.972027972027972,
            0.951048951048951,
            0.972027972027972,
            0.986013986013986,
            0.986013986013986,
            0.9440559440559441,
            0.951048951048951,
            0.9300699300699301
           ]
          },
          {
           "label": "alpha",
           "range": [
            -7.564491102843329,
            -0.7350483265453168
           ],
           "ticktext": [
            "2.73e-08",
            "1e-07",
            "1e-06",
            "1e-05",
            "0.0001",
            "0.001",
            "0.01",
            "0.1",
            "0.184"
           ],
           "tickvals": [
            -7.564491102843329,
            -7,
            -6,
            -5,
            -4,
            -3,
            -2,
            -1,
            -0.7350483265453168
           ],
           "values": [
            -6.692557600948576,
            -2.985968514278365,
            -2.4062365309759937,
            -6.696390719914297,
            -0.7350483265453168,
            -4.869246046200066,
            -7.333261153699043,
            -5.113690811542462,
            -4.2086442402684305,
            -5.646604432121867,
            -7.14205361752991,
            -7.087477182604791,
            -5.492865617592446,
            -3.8276930160761933,
            -5.360329420377348,
            -5.97472140388572,
            -6.828489438460817,
            -6.828422534104438,
            -3.8404192100600616,
            -7.097309508148336,
            -7.200253199067747,
            -7.564491102843329,
            -3.602592055957419,
            -4.845063103716939
           ]
          },
          {
           "label": "booster",
           "range": [
            0,
            0
           ],
           "ticktext": [
            "dart"
           ],
           "tickvals": [
            0
           ],
           "values": [
            0,
            0,
            0,
            0,
            0,
            0,
            0,
            0,
            0,
            0,
            0,
            0,
            0,
            0,
            0,
            0,
            0,
            0,
            0,
            0,
            0,
            0,
            0,
            0
           ]
          },
          {
           "label": "eta",
           "range": [
            -5.622651883601401,
            -0.004293533416761169
           ],
           "ticktext": [
            "2.38e-06",
            "1e-05",
            "0.0001",
            "0.001",
            "0.01",
            "0.1",
            "0.99"
           ],
           "tickvals": [
            -5.622651883601401,
            -5,
            -4,
            -3,
            -2,
            -1,
            -0.004293533416761169
           ],
           "values": [
            -3.7392573948011294,
            -3.3606904474597514,
            -2.6088235846659886,
            -0.5532058400780986,
            -5.622651883601401,
            -1.3571022741263272,
            -0.33271942174001967,
            -4.75648984795473,
            -3.6288234582059187,
            -0.6347503670331665,
            -0.004293533416761169,
            -0.1111937782791299,
            -0.7985255176650539,
            -0.0835608470188843,
            -0.44658926788194475,
            -1.2614469448191366,
            -0.10547329091059429,
            -0.7194994128292743,
            -0.2033386657733793,
            -0.21013846951033124,
            -0.26268251377344637,
            -0.3101679264333995,
            -0.44370414754475657,
            -0.1676830208095625
           ]
          },
          {
           "label": "gamma",
           "range": [
            -7.751728936770581,
            -0.022856128085187614
           ],
           "ticktext": [
            "1.77e-08",
            "1e-07",
            "1e-06",
            "1e-05",
            "0.0001",
            "0.001",
            "0.01",
            "0.1",
            "0.949"
           ],
           "tickvals": [
            -7.751728936770581,
            -7,
            -6,
            -5,
            -4,
            -3,
            -2,
            -1,
            -0.022856128085187614
           ],
           "values": [
            -5.5478394209074064,
            -3.6930585436066354,
            -3.419263285955804,
            -1.7537422318910747,
            -4.578249558833241,
            -7.751728936770581,
            -0.3280935711726222,
            -2.0052401508246116,
            -5.5676937164655005,
            -0.2068190465440223,
            -3.138682269763722,
            -2.0637982911733244,
            -3.9779016188576146,
            -3.067532890258454,
            -3.870712152125979,
            -5.005825833802826,
            -0.34329784518732,
            -1.6771333048219956,
            -0.022856128085187614,
            -1.900320632836071,
            -1.9022875698617392,
            -1.9227879284736085,
            -1.8412470857475758,
            -6.543792242273209
           ]
          },
          {
           "label": "grow_policy",
           "range": [
            0,
            1
           ],
           "ticktext": [
            "lossguide",
            "depthwise"
           ],
           "tickvals": [
            0,
            1
           ],
           "values": [
            0,
            1,
            0,
            0,
            1,
            1,
            1,
            1,
            0,
            0,
            0,
            0,
            0,
            0,
            0,
            0,
            1,
            1,
            0,
            1,
            1,
            1,
            1,
            1
           ]
          },
          {
           "label": "lambda",
           "range": [
            -7.983455396607736,
            -0.5246997803249009
           ],
           "ticktext": [
            "1.04e-08",
            "1e-07",
            "1e-06",
            "1e-05",
            "0.0001",
            "0.001",
            "0.01",
            "0.1",
            "0.299"
           ],
           "tickvals": [
            -7.983455396607736,
            -7,
            -6,
            -5,
            -4,
            -3,
            -2,
            -1,
            -0.5246997803249009
           ],
           "values": [
            -2.6106916822616038,
            -7.937422261110741,
            -4.388613918080681,
            -1.1691090500760533,
            -4.391923218830275,
            -7.983455396607736,
            -7.730870773072198,
            -3.0669700288973796,
            -6.664386740162322,
            -7.035157048603977,
            -2.4177904306530738,
            -0.7714745996653891,
            -2.347872345192237,
            -0.5246997803249009,
            -2.907942065407247,
            -2.8862103575519416,
            -6.943513630127538,
            -6.238411857606732,
            -6.586900666235194,
            -7.78356728690011,
            -7.608240057542709,
            -7.818639512661461,
            -1.3436345075699505,
            -7.532278542524384
           ]
          },
          {
           "label": "max_depth",
           "range": [
            4,
            9
           ],
           "values": [
            4,
            6,
            4,
            9,
            5,
            8,
            9,
            7,
            9,
            7,
            6,
            7,
            5,
            4,
            6,
            6,
            9,
            5,
            7,
            9,
            9,
            9,
            8,
            6
           ]
          },
          {
           "label": "normalize_type",
           "range": [
            0,
            1
           ],
           "ticktext": [
            "forest",
            "tree"
           ],
           "tickvals": [
            0,
            1
           ],
           "values": [
            0,
            1,
            1,
            0,
            0,
            1,
            1,
            1,
            0,
            0,
            1,
            1,
            1,
            0,
            1,
            1,
            1,
            1,
            1,
            0,
            0,
            0,
            0,
            0
           ]
          },
          {
           "label": "rate_drop",
           "range": [
            -7.978721332936963,
            -0.02178241350973647
           ],
           "ticktext": [
            "1.05e-08",
            "1e-07",
            "1e-06",
            "1e-05",
            "0.0001",
            "0.001",
            "0.01",
            "0.1",
            "0.951"
           ],
           "tickvals": [
            -7.978721332936963,
            -7,
            -6,
            -5,
            -4,
            -3,
            -2,
            -1,
            -0.02178241350973647
           ],
           "values": [
            -5.663052943553914,
            -2.433695753980536,
            -6.1093746107301365,
            -7.928704395152669,
            -0.4311931428893104,
            -1.8465055273343527,
            -7.818879507498671,
            -3.849872909913393,
            -1.8251647467474759,
            -7.534334816298243,
            -0.1144005912487141,
            -0.02178241350973647,
            -4.7546273207611955,
            -2.6339653579913636,
            -0.9648897465261216,
            -1.092891748076146,
            -7.978721332936963,
            -5.6634228359046555,
            -6.024375166298371,
            -7.911409827437455,
            -7.643225810862211,
            -7.736282538363506,
            -7.7194849769744955,
            -7.605588022919596
           ]
          },
          {
           "label": "sample_type",
           "range": [
            0,
            1
           ],
           "ticktext": [
            "weighted",
            "uniform"
           ],
           "tickvals": [
            0,
            1
           ],
           "values": [
            0,
            0,
            1,
            0,
            1,
            0,
            0,
            0,
            0,
            1,
            0,
            0,
            0,
            0,
            0,
            0,
            0,
            0,
            1,
            0,
            1,
            1,
            0,
            0
           ]
          },
          {
           "label": "skip_drop",
           "range": [
            -7.706155334801559,
            -0.09952017529881294
           ],
           "ticktext": [
            "1.97e-08",
            "1e-07",
            "1e-06",
            "1e-05",
            "0.0001",
            "0.001",
            "0.01",
            "0.1",
            "0.795"
           ],
           "tickvals": [
            -7.706155334801559,
            -7,
            -6,
            -5,
            -4,
            -3,
            -2,
            -1,
            -0.09952017529881294
           ],
           "values": [
            -7.247344049346821,
            -1.360715812800598,
            -7.706155334801559,
            -7.386406862582327,
            -4.605736156411582,
            -0.09952017529881294,
            -1.0664159643172926,
            -5.245206151889753,
            -2.32672341825565,
            -3.133172034964313,
            -5.889444249062091,
            -6.8851567080186475,
            -6.312911331369914,
            -5.688654387929841,
            -6.0804228162357905,
            -5.617170605525621,
            -0.6103116025630421,
            -0.5489577107918734,
            -6.53661257277681,
            -0.6648612810610028,
            -0.9369263342722696,
            -0.9148980958848277,
            -6.969563516333018,
            -4.216322126615467
           ]
          }
         ],
         "labelangle": 30,
         "labelside": "bottom",
         "line": {
          "color": [
           0.916083916083916,
           0.965034965034965,
           0.916083916083916,
           0.965034965034965,
           0.916083916083916,
           0.9370629370629371,
           0.958041958041958,
           0.951048951048951,
           0.9440559440559441,
           0.9370629370629371,
           0.972027972027972,
           0.9370629370629371,
           0.958041958041958,
           0.9300699300699301,
           0.958041958041958,
           0.958041958041958,
           0.972027972027972,
           0.951048951048951,
           0.972027972027972,
           0.986013986013986,
           0.986013986013986,
           0.9440559440559441,
           0.951048951048951,
           0.9300699300699301
          ],
          "colorbar": {
           "title": {
            "text": "Objective Value"
           }
          },
          "colorscale": [
           [
            0,
            "rgb(247,251,255)"
           ],
           [
            0.125,
            "rgb(222,235,247)"
           ],
           [
            0.25,
            "rgb(198,219,239)"
           ],
           [
            0.375,
            "rgb(158,202,225)"
           ],
           [
            0.5,
            "rgb(107,174,214)"
           ],
           [
            0.625,
            "rgb(66,146,198)"
           ],
           [
            0.75,
            "rgb(33,113,181)"
           ],
           [
            0.875,
            "rgb(8,81,156)"
           ],
           [
            1,
            "rgb(8,48,107)"
           ]
          ],
          "reversescale": false,
          "showscale": true
         },
         "type": "parcoords"
        }
       ],
       "layout": {
        "template": {
         "data": {
          "bar": [
           {
            "error_x": {
             "color": "#2a3f5f"
            },
            "error_y": {
             "color": "#2a3f5f"
            },
            "marker": {
             "line": {
              "color": "#E5ECF6",
              "width": 0.5
             },
             "pattern": {
              "fillmode": "overlay",
              "size": 10,
              "solidity": 0.2
             }
            },
            "type": "bar"
           }
          ],
          "barpolar": [
           {
            "marker": {
             "line": {
              "color": "#E5ECF6",
              "width": 0.5
             },
             "pattern": {
              "fillmode": "overlay",
              "size": 10,
              "solidity": 0.2
             }
            },
            "type": "barpolar"
           }
          ],
          "carpet": [
           {
            "aaxis": {
             "endlinecolor": "#2a3f5f",
             "gridcolor": "white",
             "linecolor": "white",
             "minorgridcolor": "white",
             "startlinecolor": "#2a3f5f"
            },
            "baxis": {
             "endlinecolor": "#2a3f5f",
             "gridcolor": "white",
             "linecolor": "white",
             "minorgridcolor": "white",
             "startlinecolor": "#2a3f5f"
            },
            "type": "carpet"
           }
          ],
          "choropleth": [
           {
            "colorbar": {
             "outlinewidth": 0,
             "ticks": ""
            },
            "type": "choropleth"
           }
          ],
          "contour": [
           {
            "colorbar": {
             "outlinewidth": 0,
             "ticks": ""
            },
            "colorscale": [
             [
              0,
              "#0d0887"
             ],
             [
              0.1111111111111111,
              "#46039f"
             ],
             [
              0.2222222222222222,
              "#7201a8"
             ],
             [
              0.3333333333333333,
              "#9c179e"
             ],
             [
              0.4444444444444444,
              "#bd3786"
             ],
             [
              0.5555555555555556,
              "#d8576b"
             ],
             [
              0.6666666666666666,
              "#ed7953"
             ],
             [
              0.7777777777777778,
              "#fb9f3a"
             ],
             [
              0.8888888888888888,
              "#fdca26"
             ],
             [
              1,
              "#f0f921"
             ]
            ],
            "type": "contour"
           }
          ],
          "contourcarpet": [
           {
            "colorbar": {
             "outlinewidth": 0,
             "ticks": ""
            },
            "type": "contourcarpet"
           }
          ],
          "heatmap": [
           {
            "colorbar": {
             "outlinewidth": 0,
             "ticks": ""
            },
            "colorscale": [
             [
              0,
              "#0d0887"
             ],
             [
              0.1111111111111111,
              "#46039f"
             ],
             [
              0.2222222222222222,
              "#7201a8"
             ],
             [
              0.3333333333333333,
              "#9c179e"
             ],
             [
              0.4444444444444444,
              "#bd3786"
             ],
             [
              0.5555555555555556,
              "#d8576b"
             ],
             [
              0.6666666666666666,
              "#ed7953"
             ],
             [
              0.7777777777777778,
              "#fb9f3a"
             ],
             [
              0.8888888888888888,
              "#fdca26"
             ],
             [
              1,
              "#f0f921"
             ]
            ],
            "type": "heatmap"
           }
          ],
          "heatmapgl": [
           {
            "colorbar": {
             "outlinewidth": 0,
             "ticks": ""
            },
            "colorscale": [
             [
              0,
              "#0d0887"
             ],
             [
              0.1111111111111111,
              "#46039f"
             ],
             [
              0.2222222222222222,
              "#7201a8"
             ],
             [
              0.3333333333333333,
              "#9c179e"
             ],
             [
              0.4444444444444444,
              "#bd3786"
             ],
             [
              0.5555555555555556,
              "#d8576b"
             ],
             [
              0.6666666666666666,
              "#ed7953"
             ],
             [
              0.7777777777777778,
              "#fb9f3a"
             ],
             [
              0.8888888888888888,
              "#fdca26"
             ],
             [
              1,
              "#f0f921"
             ]
            ],
            "type": "heatmapgl"
           }
          ],
          "histogram": [
           {
            "marker": {
             "pattern": {
              "fillmode": "overlay",
              "size": 10,
              "solidity": 0.2
             }
            },
            "type": "histogram"
           }
          ],
          "histogram2d": [
           {
            "colorbar": {
             "outlinewidth": 0,
             "ticks": ""
            },
            "colorscale": [
             [
              0,
              "#0d0887"
             ],
             [
              0.1111111111111111,
              "#46039f"
             ],
             [
              0.2222222222222222,
              "#7201a8"
             ],
             [
              0.3333333333333333,
              "#9c179e"
             ],
             [
              0.4444444444444444,
              "#bd3786"
             ],
             [
              0.5555555555555556,
              "#d8576b"
             ],
             [
              0.6666666666666666,
              "#ed7953"
             ],
             [
              0.7777777777777778,
              "#fb9f3a"
             ],
             [
              0.8888888888888888,
              "#fdca26"
             ],
             [
              1,
              "#f0f921"
             ]
            ],
            "type": "histogram2d"
           }
          ],
          "histogram2dcontour": [
           {
            "colorbar": {
             "outlinewidth": 0,
             "ticks": ""
            },
            "colorscale": [
             [
              0,
              "#0d0887"
             ],
             [
              0.1111111111111111,
              "#46039f"
             ],
             [
              0.2222222222222222,
              "#7201a8"
             ],
             [
              0.3333333333333333,
              "#9c179e"
             ],
             [
              0.4444444444444444,
              "#bd3786"
             ],
             [
              0.5555555555555556,
              "#d8576b"
             ],
             [
              0.6666666666666666,
              "#ed7953"
             ],
             [
              0.7777777777777778,
              "#fb9f3a"
             ],
             [
              0.8888888888888888,
              "#fdca26"
             ],
             [
              1,
              "#f0f921"
             ]
            ],
            "type": "histogram2dcontour"
           }
          ],
          "mesh3d": [
           {
            "colorbar": {
             "outlinewidth": 0,
             "ticks": ""
            },
            "type": "mesh3d"
           }
          ],
          "parcoords": [
           {
            "line": {
             "colorbar": {
              "outlinewidth": 0,
              "ticks": ""
             }
            },
            "type": "parcoords"
           }
          ],
          "pie": [
           {
            "automargin": true,
            "type": "pie"
           }
          ],
          "scatter": [
           {
            "fillpattern": {
             "fillmode": "overlay",
             "size": 10,
             "solidity": 0.2
            },
            "type": "scatter"
           }
          ],
          "scatter3d": [
           {
            "line": {
             "colorbar": {
              "outlinewidth": 0,
              "ticks": ""
             }
            },
            "marker": {
             "colorbar": {
              "outlinewidth": 0,
              "ticks": ""
             }
            },
            "type": "scatter3d"
           }
          ],
          "scattercarpet": [
           {
            "marker": {
             "colorbar": {
              "outlinewidth": 0,
              "ticks": ""
             }
            },
            "type": "scattercarpet"
           }
          ],
          "scattergeo": [
           {
            "marker": {
             "colorbar": {
              "outlinewidth": 0,
              "ticks": ""
             }
            },
            "type": "scattergeo"
           }
          ],
          "scattergl": [
           {
            "marker": {
             "colorbar": {
              "outlinewidth": 0,
              "ticks": ""
             }
            },
            "type": "scattergl"
           }
          ],
          "scattermapbox": [
           {
            "marker": {
             "colorbar": {
              "outlinewidth": 0,
              "ticks": ""
             }
            },
            "type": "scattermapbox"
           }
          ],
          "scatterpolar": [
           {
            "marker": {
             "colorbar": {
              "outlinewidth": 0,
              "ticks": ""
             }
            },
            "type": "scatterpolar"
           }
          ],
          "scatterpolargl": [
           {
            "marker": {
             "colorbar": {
              "outlinewidth": 0,
              "ticks": ""
             }
            },
            "type": "scatterpolargl"
           }
          ],
          "scatterternary": [
           {
            "marker": {
             "colorbar": {
              "outlinewidth": 0,
              "ticks": ""
             }
            },
            "type": "scatterternary"
           }
          ],
          "surface": [
           {
            "colorbar": {
             "outlinewidth": 0,
             "ticks": ""
            },
            "colorscale": [
             [
              0,
              "#0d0887"
             ],
             [
              0.1111111111111111,
              "#46039f"
             ],
             [
              0.2222222222222222,
              "#7201a8"
             ],
             [
              0.3333333333333333,
              "#9c179e"
             ],
             [
              0.4444444444444444,
              "#bd3786"
             ],
             [
              0.5555555555555556,
              "#d8576b"
             ],
             [
              0.6666666666666666,
              "#ed7953"
             ],
             [
              0.7777777777777778,
              "#fb9f3a"
             ],
             [
              0.8888888888888888,
              "#fdca26"
             ],
             [
              1,
              "#f0f921"
             ]
            ],
            "type": "surface"
           }
          ],
          "table": [
           {
            "cells": {
             "fill": {
              "color": "#EBF0F8"
             },
             "line": {
              "color": "white"
             }
            },
            "header": {
             "fill": {
              "color": "#C8D4E3"
             },
             "line": {
              "color": "white"
             }
            },
            "type": "table"
           }
          ]
         },
         "layout": {
          "annotationdefaults": {
           "arrowcolor": "#2a3f5f",
           "arrowhead": 0,
           "arrowwidth": 1
          },
          "autotypenumbers": "strict",
          "coloraxis": {
           "colorbar": {
            "outlinewidth": 0,
            "ticks": ""
           }
          },
          "colorscale": {
           "diverging": [
            [
             0,
             "#8e0152"
            ],
            [
             0.1,
             "#c51b7d"
            ],
            [
             0.2,
             "#de77ae"
            ],
            [
             0.3,
             "#f1b6da"
            ],
            [
             0.4,
             "#fde0ef"
            ],
            [
             0.5,
             "#f7f7f7"
            ],
            [
             0.6,
             "#e6f5d0"
            ],
            [
             0.7,
             "#b8e186"
            ],
            [
             0.8,
             "#7fbc41"
            ],
            [
             0.9,
             "#4d9221"
            ],
            [
             1,
             "#276419"
            ]
           ],
           "sequential": [
            [
             0,
             "#0d0887"
            ],
            [
             0.1111111111111111,
             "#46039f"
            ],
            [
             0.2222222222222222,
             "#7201a8"
            ],
            [
             0.3333333333333333,
             "#9c179e"
            ],
            [
             0.4444444444444444,
             "#bd3786"
            ],
            [
             0.5555555555555556,
             "#d8576b"
            ],
            [
             0.6666666666666666,
             "#ed7953"
            ],
            [
             0.7777777777777778,
             "#fb9f3a"
            ],
            [
             0.8888888888888888,
             "#fdca26"
            ],
            [
             1,
             "#f0f921"
            ]
           ],
           "sequentialminus": [
            [
             0,
             "#0d0887"
            ],
            [
             0.1111111111111111,
             "#46039f"
            ],
            [
             0.2222222222222222,
             "#7201a8"
            ],
            [
             0.3333333333333333,
             "#9c179e"
            ],
            [
             0.4444444444444444,
             "#bd3786"
            ],
            [
             0.5555555555555556,
             "#d8576b"
            ],
            [
             0.6666666666666666,
             "#ed7953"
            ],
            [
             0.7777777777777778,
             "#fb9f3a"
            ],
            [
             0.8888888888888888,
             "#fdca26"
            ],
            [
             1,
             "#f0f921"
            ]
           ]
          },
          "colorway": [
           "#636efa",
           "#EF553B",
           "#00cc96",
           "#ab63fa",
           "#FFA15A",
           "#19d3f3",
           "#FF6692",
           "#B6E880",
           "#FF97FF",
           "#FECB52"
          ],
          "font": {
           "color": "#2a3f5f"
          },
          "geo": {
           "bgcolor": "white",
           "lakecolor": "white",
           "landcolor": "#E5ECF6",
           "showlakes": true,
           "showland": true,
           "subunitcolor": "white"
          },
          "hoverlabel": {
           "align": "left"
          },
          "hovermode": "closest",
          "mapbox": {
           "style": "light"
          },
          "paper_bgcolor": "white",
          "plot_bgcolor": "#E5ECF6",
          "polar": {
           "angularaxis": {
            "gridcolor": "white",
            "linecolor": "white",
            "ticks": ""
           },
           "bgcolor": "#E5ECF6",
           "radialaxis": {
            "gridcolor": "white",
            "linecolor": "white",
            "ticks": ""
           }
          },
          "scene": {
           "xaxis": {
            "backgroundcolor": "#E5ECF6",
            "gridcolor": "white",
            "gridwidth": 2,
            "linecolor": "white",
            "showbackground": true,
            "ticks": "",
            "zerolinecolor": "white"
           },
           "yaxis": {
            "backgroundcolor": "#E5ECF6",
            "gridcolor": "white",
            "gridwidth": 2,
            "linecolor": "white",
            "showbackground": true,
            "ticks": "",
            "zerolinecolor": "white"
           },
           "zaxis": {
            "backgroundcolor": "#E5ECF6",
            "gridcolor": "white",
            "gridwidth": 2,
            "linecolor": "white",
            "showbackground": true,
            "ticks": "",
            "zerolinecolor": "white"
           }
          },
          "shapedefaults": {
           "line": {
            "color": "#2a3f5f"
           }
          },
          "ternary": {
           "aaxis": {
            "gridcolor": "white",
            "linecolor": "white",
            "ticks": ""
           },
           "baxis": {
            "gridcolor": "white",
            "linecolor": "white",
            "ticks": ""
           },
           "bgcolor": "#E5ECF6",
           "caxis": {
            "gridcolor": "white",
            "linecolor": "white",
            "ticks": ""
           }
          },
          "title": {
           "x": 0.05
          },
          "xaxis": {
           "automargin": true,
           "gridcolor": "white",
           "linecolor": "white",
           "ticks": "",
           "title": {
            "standoff": 15
           },
           "zerolinecolor": "white",
           "zerolinewidth": 2
          },
          "yaxis": {
           "automargin": true,
           "gridcolor": "white",
           "linecolor": "white",
           "ticks": "",
           "title": {
            "standoff": 15
           },
           "zerolinecolor": "white",
           "zerolinewidth": 2
          }
         }
        },
        "title": {
         "text": "Parallel Coordinate Plot"
        }
       }
      },
      "text/html": [
       "<div>                            <div id=\"7c6b8dbe-599f-4da9-95a9-79298a1e4433\" class=\"plotly-graph-div\" style=\"height:525px; width:100%;\"></div>            <script type=\"text/javascript\">                require([\"plotly\"], function(Plotly) {                    window.PLOTLYENV=window.PLOTLYENV || {};                                    if (document.getElementById(\"7c6b8dbe-599f-4da9-95a9-79298a1e4433\")) {                    Plotly.newPlot(                        \"7c6b8dbe-599f-4da9-95a9-79298a1e4433\",                        [{\"dimensions\":[{\"label\":\"Objective Value\",\"range\":[0.916083916083916,0.986013986013986],\"values\":[0.916083916083916,0.965034965034965,0.916083916083916,0.965034965034965,0.916083916083916,0.9370629370629371,0.958041958041958,0.951048951048951,0.9440559440559441,0.9370629370629371,0.972027972027972,0.9370629370629371,0.958041958041958,0.9300699300699301,0.958041958041958,0.958041958041958,0.972027972027972,0.951048951048951,0.972027972027972,0.986013986013986,0.986013986013986,0.9440559440559441,0.951048951048951,0.9300699300699301]},{\"label\":\"alpha\",\"range\":[-7.564491102843329,-0.7350483265453168],\"ticktext\":[\"2.73e-08\",\"1e-07\",\"1e-06\",\"1e-05\",\"0.0001\",\"0.001\",\"0.01\",\"0.1\",\"0.184\"],\"tickvals\":[-7.564491102843329,-7,-6,-5,-4,-3,-2,-1,-0.7350483265453168],\"values\":[-6.692557600948576,-2.985968514278365,-2.4062365309759937,-6.696390719914297,-0.7350483265453168,-4.869246046200066,-7.333261153699043,-5.113690811542462,-4.2086442402684305,-5.646604432121867,-7.14205361752991,-7.087477182604791,-5.492865617592446,-3.8276930160761933,-5.360329420377348,-5.97472140388572,-6.828489438460817,-6.828422534104438,-3.8404192100600616,-7.097309508148336,-7.200253199067747,-7.564491102843329,-3.602592055957419,-4.845063103716939]},{\"label\":\"booster\",\"range\":[0,0],\"ticktext\":[\"dart\"],\"tickvals\":[0],\"values\":[0,0,0,0,0,0,0,0,0,0,0,0,0,0,0,0,0,0,0,0,0,0,0,0]},{\"label\":\"eta\",\"range\":[-5.622651883601401,-0.004293533416761169],\"ticktext\":[\"2.38e-06\",\"1e-05\",\"0.0001\",\"0.001\",\"0.01\",\"0.1\",\"0.99\"],\"tickvals\":[-5.622651883601401,-5,-4,-3,-2,-1,-0.004293533416761169],\"values\":[-3.7392573948011294,-3.3606904474597514,-2.6088235846659886,-0.5532058400780986,-5.622651883601401,-1.3571022741263272,-0.33271942174001967,-4.75648984795473,-3.6288234582059187,-0.6347503670331665,-0.004293533416761169,-0.1111937782791299,-0.7985255176650539,-0.0835608470188843,-0.44658926788194475,-1.2614469448191366,-0.10547329091059429,-0.7194994128292743,-0.2033386657733793,-0.21013846951033124,-0.26268251377344637,-0.3101679264333995,-0.44370414754475657,-0.1676830208095625]},{\"label\":\"gamma\",\"range\":[-7.751728936770581,-0.022856128085187614],\"ticktext\":[\"1.77e-08\",\"1e-07\",\"1e-06\",\"1e-05\",\"0.0001\",\"0.001\",\"0.01\",\"0.1\",\"0.949\"],\"tickvals\":[-7.751728936770581,-7,-6,-5,-4,-3,-2,-1,-0.022856128085187614],\"values\":[-5.5478394209074064,-3.6930585436066354,-3.419263285955804,-1.7537422318910747,-4.578249558833241,-7.751728936770581,-0.3280935711726222,-2.0052401508246116,-5.5676937164655005,-0.2068190465440223,-3.138682269763722,-2.0637982911733244,-3.9779016188576146,-3.067532890258454,-3.870712152125979,-5.005825833802826,-0.34329784518732,-1.6771333048219956,-0.022856128085187614,-1.900320632836071,-1.9022875698617392,-1.9227879284736085,-1.8412470857475758,-6.543792242273209]},{\"label\":\"grow_policy\",\"range\":[0,1],\"ticktext\":[\"lossguide\",\"depthwise\"],\"tickvals\":[0,1],\"values\":[0,1,0,0,1,1,1,1,0,0,0,0,0,0,0,0,1,1,0,1,1,1,1,1]},{\"label\":\"lambda\",\"range\":[-7.983455396607736,-0.5246997803249009],\"ticktext\":[\"1.04e-08\",\"1e-07\",\"1e-06\",\"1e-05\",\"0.0001\",\"0.001\",\"0.01\",\"0.1\",\"0.299\"],\"tickvals\":[-7.983455396607736,-7,-6,-5,-4,-3,-2,-1,-0.5246997803249009],\"values\":[-2.6106916822616038,-7.937422261110741,-4.388613918080681,-1.1691090500760533,-4.391923218830275,-7.983455396607736,-7.730870773072198,-3.0669700288973796,-6.664386740162322,-7.035157048603977,-2.4177904306530738,-0.7714745996653891,-2.347872345192237,-0.5246997803249009,-2.907942065407247,-2.8862103575519416,-6.943513630127538,-6.238411857606732,-6.586900666235194,-7.78356728690011,-7.608240057542709,-7.818639512661461,-1.3436345075699505,-7.532278542524384]},{\"label\":\"max_depth\",\"range\":[4,9],\"values\":[4,6,4,9,5,8,9,7,9,7,6,7,5,4,6,6,9,5,7,9,9,9,8,6]},{\"label\":\"normalize_type\",\"range\":[0,1],\"ticktext\":[\"forest\",\"tree\"],\"tickvals\":[0,1],\"values\":[0,1,1,0,0,1,1,1,0,0,1,1,1,0,1,1,1,1,1,0,0,0,0,0]},{\"label\":\"rate_drop\",\"range\":[-7.978721332936963,-0.02178241350973647],\"ticktext\":[\"1.05e-08\",\"1e-07\",\"1e-06\",\"1e-05\",\"0.0001\",\"0.001\",\"0.01\",\"0.1\",\"0.951\"],\"tickvals\":[-7.978721332936963,-7,-6,-5,-4,-3,-2,-1,-0.02178241350973647],\"values\":[-5.663052943553914,-2.433695753980536,-6.1093746107301365,-7.928704395152669,-0.4311931428893104,-1.8465055273343527,-7.818879507498671,-3.849872909913393,-1.8251647467474759,-7.534334816298243,-0.1144005912487141,-0.02178241350973647,-4.7546273207611955,-2.6339653579913636,-0.9648897465261216,-1.092891748076146,-7.978721332936963,-5.6634228359046555,-6.024375166298371,-7.911409827437455,-7.643225810862211,-7.736282538363506,-7.7194849769744955,-7.605588022919596]},{\"label\":\"sample_type\",\"range\":[0,1],\"ticktext\":[\"weighted\",\"uniform\"],\"tickvals\":[0,1],\"values\":[0,0,1,0,1,0,0,0,0,1,0,0,0,0,0,0,0,0,1,0,1,1,0,0]},{\"label\":\"skip_drop\",\"range\":[-7.706155334801559,-0.09952017529881294],\"ticktext\":[\"1.97e-08\",\"1e-07\",\"1e-06\",\"1e-05\",\"0.0001\",\"0.001\",\"0.01\",\"0.1\",\"0.795\"],\"tickvals\":[-7.706155334801559,-7,-6,-5,-4,-3,-2,-1,-0.09952017529881294],\"values\":[-7.247344049346821,-1.360715812800598,-7.706155334801559,-7.386406862582327,-4.605736156411582,-0.09952017529881294,-1.0664159643172926,-5.245206151889753,-2.32672341825565,-3.133172034964313,-5.889444249062091,-6.8851567080186475,-6.312911331369914,-5.688654387929841,-6.0804228162357905,-5.617170605525621,-0.6103116025630421,-0.5489577107918734,-6.53661257277681,-0.6648612810610028,-0.9369263342722696,-0.9148980958848277,-6.969563516333018,-4.216322126615467]}],\"labelangle\":30,\"labelside\":\"bottom\",\"line\":{\"color\":[0.916083916083916,0.965034965034965,0.916083916083916,0.965034965034965,0.916083916083916,0.9370629370629371,0.958041958041958,0.951048951048951,0.9440559440559441,0.9370629370629371,0.972027972027972,0.9370629370629371,0.958041958041958,0.9300699300699301,0.958041958041958,0.958041958041958,0.972027972027972,0.951048951048951,0.972027972027972,0.986013986013986,0.986013986013986,0.9440559440559441,0.951048951048951,0.9300699300699301],\"colorbar\":{\"title\":{\"text\":\"Objective Value\"}},\"colorscale\":[[0.0,\"rgb(247,251,255)\"],[0.125,\"rgb(222,235,247)\"],[0.25,\"rgb(198,219,239)\"],[0.375,\"rgb(158,202,225)\"],[0.5,\"rgb(107,174,214)\"],[0.625,\"rgb(66,146,198)\"],[0.75,\"rgb(33,113,181)\"],[0.875,\"rgb(8,81,156)\"],[1.0,\"rgb(8,48,107)\"]],\"reversescale\":false,\"showscale\":true},\"type\":\"parcoords\"}],                        {\"title\":{\"text\":\"Parallel Coordinate Plot\"},\"template\":{\"data\":{\"histogram2dcontour\":[{\"type\":\"histogram2dcontour\",\"colorbar\":{\"outlinewidth\":0,\"ticks\":\"\"},\"colorscale\":[[0.0,\"#0d0887\"],[0.1111111111111111,\"#46039f\"],[0.2222222222222222,\"#7201a8\"],[0.3333333333333333,\"#9c179e\"],[0.4444444444444444,\"#bd3786\"],[0.5555555555555556,\"#d8576b\"],[0.6666666666666666,\"#ed7953\"],[0.7777777777777778,\"#fb9f3a\"],[0.8888888888888888,\"#fdca26\"],[1.0,\"#f0f921\"]]}],\"choropleth\":[{\"type\":\"choropleth\",\"colorbar\":{\"outlinewidth\":0,\"ticks\":\"\"}}],\"histogram2d\":[{\"type\":\"histogram2d\",\"colorbar\":{\"outlinewidth\":0,\"ticks\":\"\"},\"colorscale\":[[0.0,\"#0d0887\"],[0.1111111111111111,\"#46039f\"],[0.2222222222222222,\"#7201a8\"],[0.3333333333333333,\"#9c179e\"],[0.4444444444444444,\"#bd3786\"],[0.5555555555555556,\"#d8576b\"],[0.6666666666666666,\"#ed7953\"],[0.7777777777777778,\"#fb9f3a\"],[0.8888888888888888,\"#fdca26\"],[1.0,\"#f0f921\"]]}],\"heatmap\":[{\"type\":\"heatmap\",\"colorbar\":{\"outlinewidth\":0,\"ticks\":\"\"},\"colorscale\":[[0.0,\"#0d0887\"],[0.1111111111111111,\"#46039f\"],[0.2222222222222222,\"#7201a8\"],[0.3333333333333333,\"#9c179e\"],[0.4444444444444444,\"#bd3786\"],[0.5555555555555556,\"#d8576b\"],[0.6666666666666666,\"#ed7953\"],[0.7777777777777778,\"#fb9f3a\"],[0.8888888888888888,\"#fdca26\"],[1.0,\"#f0f921\"]]}],\"heatmapgl\":[{\"type\":\"heatmapgl\",\"colorbar\":{\"outlinewidth\":0,\"ticks\":\"\"},\"colorscale\":[[0.0,\"#0d0887\"],[0.1111111111111111,\"#46039f\"],[0.2222222222222222,\"#7201a8\"],[0.3333333333333333,\"#9c179e\"],[0.4444444444444444,\"#bd3786\"],[0.5555555555555556,\"#d8576b\"],[0.6666666666666666,\"#ed7953\"],[0.7777777777777778,\"#fb9f3a\"],[0.8888888888888888,\"#fdca26\"],[1.0,\"#f0f921\"]]}],\"contourcarpet\":[{\"type\":\"contourcarpet\",\"colorbar\":{\"outlinewidth\":0,\"ticks\":\"\"}}],\"contour\":[{\"type\":\"contour\",\"colorbar\":{\"outlinewidth\":0,\"ticks\":\"\"},\"colorscale\":[[0.0,\"#0d0887\"],[0.1111111111111111,\"#46039f\"],[0.2222222222222222,\"#7201a8\"],[0.3333333333333333,\"#9c179e\"],[0.4444444444444444,\"#bd3786\"],[0.5555555555555556,\"#d8576b\"],[0.6666666666666666,\"#ed7953\"],[0.7777777777777778,\"#fb9f3a\"],[0.8888888888888888,\"#fdca26\"],[1.0,\"#f0f921\"]]}],\"surface\":[{\"type\":\"surface\",\"colorbar\":{\"outlinewidth\":0,\"ticks\":\"\"},\"colorscale\":[[0.0,\"#0d0887\"],[0.1111111111111111,\"#46039f\"],[0.2222222222222222,\"#7201a8\"],[0.3333333333333333,\"#9c179e\"],[0.4444444444444444,\"#bd3786\"],[0.5555555555555556,\"#d8576b\"],[0.6666666666666666,\"#ed7953\"],[0.7777777777777778,\"#fb9f3a\"],[0.8888888888888888,\"#fdca26\"],[1.0,\"#f0f921\"]]}],\"mesh3d\":[{\"type\":\"mesh3d\",\"colorbar\":{\"outlinewidth\":0,\"ticks\":\"\"}}],\"scatter\":[{\"fillpattern\":{\"fillmode\":\"overlay\",\"size\":10,\"solidity\":0.2},\"type\":\"scatter\"}],\"parcoords\":[{\"type\":\"parcoords\",\"line\":{\"colorbar\":{\"outlinewidth\":0,\"ticks\":\"\"}}}],\"scatterpolargl\":[{\"type\":\"scatterpolargl\",\"marker\":{\"colorbar\":{\"outlinewidth\":0,\"ticks\":\"\"}}}],\"bar\":[{\"error_x\":{\"color\":\"#2a3f5f\"},\"error_y\":{\"color\":\"#2a3f5f\"},\"marker\":{\"line\":{\"color\":\"#E5ECF6\",\"width\":0.5},\"pattern\":{\"fillmode\":\"overlay\",\"size\":10,\"solidity\":0.2}},\"type\":\"bar\"}],\"scattergeo\":[{\"type\":\"scattergeo\",\"marker\":{\"colorbar\":{\"outlinewidth\":0,\"ticks\":\"\"}}}],\"scatterpolar\":[{\"type\":\"scatterpolar\",\"marker\":{\"colorbar\":{\"outlinewidth\":0,\"ticks\":\"\"}}}],\"histogram\":[{\"marker\":{\"pattern\":{\"fillmode\":\"overlay\",\"size\":10,\"solidity\":0.2}},\"type\":\"histogram\"}],\"scattergl\":[{\"type\":\"scattergl\",\"marker\":{\"colorbar\":{\"outlinewidth\":0,\"ticks\":\"\"}}}],\"scatter3d\":[{\"type\":\"scatter3d\",\"line\":{\"colorbar\":{\"outlinewidth\":0,\"ticks\":\"\"}},\"marker\":{\"colorbar\":{\"outlinewidth\":0,\"ticks\":\"\"}}}],\"scattermapbox\":[{\"type\":\"scattermapbox\",\"marker\":{\"colorbar\":{\"outlinewidth\":0,\"ticks\":\"\"}}}],\"scatterternary\":[{\"type\":\"scatterternary\",\"marker\":{\"colorbar\":{\"outlinewidth\":0,\"ticks\":\"\"}}}],\"scattercarpet\":[{\"type\":\"scattercarpet\",\"marker\":{\"colorbar\":{\"outlinewidth\":0,\"ticks\":\"\"}}}],\"carpet\":[{\"aaxis\":{\"endlinecolor\":\"#2a3f5f\",\"gridcolor\":\"white\",\"linecolor\":\"white\",\"minorgridcolor\":\"white\",\"startlinecolor\":\"#2a3f5f\"},\"baxis\":{\"endlinecolor\":\"#2a3f5f\",\"gridcolor\":\"white\",\"linecolor\":\"white\",\"minorgridcolor\":\"white\",\"startlinecolor\":\"#2a3f5f\"},\"type\":\"carpet\"}],\"table\":[{\"cells\":{\"fill\":{\"color\":\"#EBF0F8\"},\"line\":{\"color\":\"white\"}},\"header\":{\"fill\":{\"color\":\"#C8D4E3\"},\"line\":{\"color\":\"white\"}},\"type\":\"table\"}],\"barpolar\":[{\"marker\":{\"line\":{\"color\":\"#E5ECF6\",\"width\":0.5},\"pattern\":{\"fillmode\":\"overlay\",\"size\":10,\"solidity\":0.2}},\"type\":\"barpolar\"}],\"pie\":[{\"automargin\":true,\"type\":\"pie\"}]},\"layout\":{\"autotypenumbers\":\"strict\",\"colorway\":[\"#636efa\",\"#EF553B\",\"#00cc96\",\"#ab63fa\",\"#FFA15A\",\"#19d3f3\",\"#FF6692\",\"#B6E880\",\"#FF97FF\",\"#FECB52\"],\"font\":{\"color\":\"#2a3f5f\"},\"hovermode\":\"closest\",\"hoverlabel\":{\"align\":\"left\"},\"paper_bgcolor\":\"white\",\"plot_bgcolor\":\"#E5ECF6\",\"polar\":{\"bgcolor\":\"#E5ECF6\",\"angularaxis\":{\"gridcolor\":\"white\",\"linecolor\":\"white\",\"ticks\":\"\"},\"radialaxis\":{\"gridcolor\":\"white\",\"linecolor\":\"white\",\"ticks\":\"\"}},\"ternary\":{\"bgcolor\":\"#E5ECF6\",\"aaxis\":{\"gridcolor\":\"white\",\"linecolor\":\"white\",\"ticks\":\"\"},\"baxis\":{\"gridcolor\":\"white\",\"linecolor\":\"white\",\"ticks\":\"\"},\"caxis\":{\"gridcolor\":\"white\",\"linecolor\":\"white\",\"ticks\":\"\"}},\"coloraxis\":{\"colorbar\":{\"outlinewidth\":0,\"ticks\":\"\"}},\"colorscale\":{\"sequential\":[[0.0,\"#0d0887\"],[0.1111111111111111,\"#46039f\"],[0.2222222222222222,\"#7201a8\"],[0.3333333333333333,\"#9c179e\"],[0.4444444444444444,\"#bd3786\"],[0.5555555555555556,\"#d8576b\"],[0.6666666666666666,\"#ed7953\"],[0.7777777777777778,\"#fb9f3a\"],[0.8888888888888888,\"#fdca26\"],[1.0,\"#f0f921\"]],\"sequentialminus\":[[0.0,\"#0d0887\"],[0.1111111111111111,\"#46039f\"],[0.2222222222222222,\"#7201a8\"],[0.3333333333333333,\"#9c179e\"],[0.4444444444444444,\"#bd3786\"],[0.5555555555555556,\"#d8576b\"],[0.6666666666666666,\"#ed7953\"],[0.7777777777777778,\"#fb9f3a\"],[0.8888888888888888,\"#fdca26\"],[1.0,\"#f0f921\"]],\"diverging\":[[0,\"#8e0152\"],[0.1,\"#c51b7d\"],[0.2,\"#de77ae\"],[0.3,\"#f1b6da\"],[0.4,\"#fde0ef\"],[0.5,\"#f7f7f7\"],[0.6,\"#e6f5d0\"],[0.7,\"#b8e186\"],[0.8,\"#7fbc41\"],[0.9,\"#4d9221\"],[1,\"#276419\"]]},\"xaxis\":{\"gridcolor\":\"white\",\"linecolor\":\"white\",\"ticks\":\"\",\"title\":{\"standoff\":15},\"zerolinecolor\":\"white\",\"automargin\":true,\"zerolinewidth\":2},\"yaxis\":{\"gridcolor\":\"white\",\"linecolor\":\"white\",\"ticks\":\"\",\"title\":{\"standoff\":15},\"zerolinecolor\":\"white\",\"automargin\":true,\"zerolinewidth\":2},\"scene\":{\"xaxis\":{\"backgroundcolor\":\"#E5ECF6\",\"gridcolor\":\"white\",\"linecolor\":\"white\",\"showbackground\":true,\"ticks\":\"\",\"zerolinecolor\":\"white\",\"gridwidth\":2},\"yaxis\":{\"backgroundcolor\":\"#E5ECF6\",\"gridcolor\":\"white\",\"linecolor\":\"white\",\"showbackground\":true,\"ticks\":\"\",\"zerolinecolor\":\"white\",\"gridwidth\":2},\"zaxis\":{\"backgroundcolor\":\"#E5ECF6\",\"gridcolor\":\"white\",\"linecolor\":\"white\",\"showbackground\":true,\"ticks\":\"\",\"zerolinecolor\":\"white\",\"gridwidth\":2}},\"shapedefaults\":{\"line\":{\"color\":\"#2a3f5f\"}},\"annotationdefaults\":{\"arrowcolor\":\"#2a3f5f\",\"arrowhead\":0,\"arrowwidth\":1},\"geo\":{\"bgcolor\":\"white\",\"landcolor\":\"#E5ECF6\",\"subunitcolor\":\"white\",\"showland\":true,\"showlakes\":true,\"lakecolor\":\"white\"},\"title\":{\"x\":0.05},\"mapbox\":{\"style\":\"light\"}}}},                        {\"responsive\": true}                    ).then(function(){\n",
       "                            \n",
       "var gd = document.getElementById('7c6b8dbe-599f-4da9-95a9-79298a1e4433');\n",
       "var x = new MutationObserver(function (mutations, observer) {{\n",
       "        var display = window.getComputedStyle(gd).display;\n",
       "        if (!display || display === 'none') {{\n",
       "            console.log([gd, 'removed!']);\n",
       "            Plotly.purge(gd);\n",
       "            observer.disconnect();\n",
       "        }}\n",
       "}});\n",
       "\n",
       "// Listen for the removal of the full notebook cells\n",
       "var notebookContainer = gd.closest('#notebook-container');\n",
       "if (notebookContainer) {{\n",
       "    x.observe(notebookContainer, {childList: true});\n",
       "}}\n",
       "\n",
       "// Listen for the clearing of the current output cell\n",
       "var outputEl = gd.closest('.output');\n",
       "if (outputEl) {{\n",
       "    x.observe(outputEl, {childList: true});\n",
       "}}\n",
       "\n",
       "                        })                };                });            </script>        </div>"
      ]
     },
     "metadata": {},
     "output_type": "display_data"
    }
   ],
   "source": [
    "#plot_parallel_coordinate: interactively visualizes the hyperparameters and scores\n",
    "optuna.visualization.plot_parallel_coordinate(study)"
   ]
  },
  {
   "cell_type": "code",
   "execution_count": 102,
   "metadata": {},
   "outputs": [
    {
     "data": {
      "application/vnd.plotly.v1+json": {
       "config": {
        "plotlyServerURL": "https://plot.ly"
       },
       "data": [
        {
         "cliponaxis": false,
         "hovertemplate": [
          "alpha (FloatDistribution): 0.2030487929764909<extra></extra>",
          "lambda (FloatDistribution): 0.2820940223189099<extra></extra>",
          "booster (CategoricalDistribution): 0.5148571847045993<extra></extra>"
         ],
         "marker": {
          "color": "rgb(66,146,198)"
         },
         "orientation": "h",
         "text": [
          "0.20",
          "0.28",
          "0.51"
         ],
         "textposition": "outside",
         "type": "bar",
         "x": [
          0.2030487929764909,
          0.2820940223189099,
          0.5148571847045993
         ],
         "y": [
          "alpha",
          "lambda",
          "booster"
         ]
        }
       ],
       "layout": {
        "showlegend": false,
        "template": {
         "data": {
          "bar": [
           {
            "error_x": {
             "color": "#2a3f5f"
            },
            "error_y": {
             "color": "#2a3f5f"
            },
            "marker": {
             "line": {
              "color": "#E5ECF6",
              "width": 0.5
             },
             "pattern": {
              "fillmode": "overlay",
              "size": 10,
              "solidity": 0.2
             }
            },
            "type": "bar"
           }
          ],
          "barpolar": [
           {
            "marker": {
             "line": {
              "color": "#E5ECF6",
              "width": 0.5
             },
             "pattern": {
              "fillmode": "overlay",
              "size": 10,
              "solidity": 0.2
             }
            },
            "type": "barpolar"
           }
          ],
          "carpet": [
           {
            "aaxis": {
             "endlinecolor": "#2a3f5f",
             "gridcolor": "white",
             "linecolor": "white",
             "minorgridcolor": "white",
             "startlinecolor": "#2a3f5f"
            },
            "baxis": {
             "endlinecolor": "#2a3f5f",
             "gridcolor": "white",
             "linecolor": "white",
             "minorgridcolor": "white",
             "startlinecolor": "#2a3f5f"
            },
            "type": "carpet"
           }
          ],
          "choropleth": [
           {
            "colorbar": {
             "outlinewidth": 0,
             "ticks": ""
            },
            "type": "choropleth"
           }
          ],
          "contour": [
           {
            "colorbar": {
             "outlinewidth": 0,
             "ticks": ""
            },
            "colorscale": [
             [
              0,
              "#0d0887"
             ],
             [
              0.1111111111111111,
              "#46039f"
             ],
             [
              0.2222222222222222,
              "#7201a8"
             ],
             [
              0.3333333333333333,
              "#9c179e"
             ],
             [
              0.4444444444444444,
              "#bd3786"
             ],
             [
              0.5555555555555556,
              "#d8576b"
             ],
             [
              0.6666666666666666,
              "#ed7953"
             ],
             [
              0.7777777777777778,
              "#fb9f3a"
             ],
             [
              0.8888888888888888,
              "#fdca26"
             ],
             [
              1,
              "#f0f921"
             ]
            ],
            "type": "contour"
           }
          ],
          "contourcarpet": [
           {
            "colorbar": {
             "outlinewidth": 0,
             "ticks": ""
            },
            "type": "contourcarpet"
           }
          ],
          "heatmap": [
           {
            "colorbar": {
             "outlinewidth": 0,
             "ticks": ""
            },
            "colorscale": [
             [
              0,
              "#0d0887"
             ],
             [
              0.1111111111111111,
              "#46039f"
             ],
             [
              0.2222222222222222,
              "#7201a8"
             ],
             [
              0.3333333333333333,
              "#9c179e"
             ],
             [
              0.4444444444444444,
              "#bd3786"
             ],
             [
              0.5555555555555556,
              "#d8576b"
             ],
             [
              0.6666666666666666,
              "#ed7953"
             ],
             [
              0.7777777777777778,
              "#fb9f3a"
             ],
             [
              0.8888888888888888,
              "#fdca26"
             ],
             [
              1,
              "#f0f921"
             ]
            ],
            "type": "heatmap"
           }
          ],
          "heatmapgl": [
           {
            "colorbar": {
             "outlinewidth": 0,
             "ticks": ""
            },
            "colorscale": [
             [
              0,
              "#0d0887"
             ],
             [
              0.1111111111111111,
              "#46039f"
             ],
             [
              0.2222222222222222,
              "#7201a8"
             ],
             [
              0.3333333333333333,
              "#9c179e"
             ],
             [
              0.4444444444444444,
              "#bd3786"
             ],
             [
              0.5555555555555556,
              "#d8576b"
             ],
             [
              0.6666666666666666,
              "#ed7953"
             ],
             [
              0.7777777777777778,
              "#fb9f3a"
             ],
             [
              0.8888888888888888,
              "#fdca26"
             ],
             [
              1,
              "#f0f921"
             ]
            ],
            "type": "heatmapgl"
           }
          ],
          "histogram": [
           {
            "marker": {
             "pattern": {
              "fillmode": "overlay",
              "size": 10,
              "solidity": 0.2
             }
            },
            "type": "histogram"
           }
          ],
          "histogram2d": [
           {
            "colorbar": {
             "outlinewidth": 0,
             "ticks": ""
            },
            "colorscale": [
             [
              0,
              "#0d0887"
             ],
             [
              0.1111111111111111,
              "#46039f"
             ],
             [
              0.2222222222222222,
              "#7201a8"
             ],
             [
              0.3333333333333333,
              "#9c179e"
             ],
             [
              0.4444444444444444,
              "#bd3786"
             ],
             [
              0.5555555555555556,
              "#d8576b"
             ],
             [
              0.6666666666666666,
              "#ed7953"
             ],
             [
              0.7777777777777778,
              "#fb9f3a"
             ],
             [
              0.8888888888888888,
              "#fdca26"
             ],
             [
              1,
              "#f0f921"
             ]
            ],
            "type": "histogram2d"
           }
          ],
          "histogram2dcontour": [
           {
            "colorbar": {
             "outlinewidth": 0,
             "ticks": ""
            },
            "colorscale": [
             [
              0,
              "#0d0887"
             ],
             [
              0.1111111111111111,
              "#46039f"
             ],
             [
              0.2222222222222222,
              "#7201a8"
             ],
             [
              0.3333333333333333,
              "#9c179e"
             ],
             [
              0.4444444444444444,
              "#bd3786"
             ],
             [
              0.5555555555555556,
              "#d8576b"
             ],
             [
              0.6666666666666666,
              "#ed7953"
             ],
             [
              0.7777777777777778,
              "#fb9f3a"
             ],
             [
              0.8888888888888888,
              "#fdca26"
             ],
             [
              1,
              "#f0f921"
             ]
            ],
            "type": "histogram2dcontour"
           }
          ],
          "mesh3d": [
           {
            "colorbar": {
             "outlinewidth": 0,
             "ticks": ""
            },
            "type": "mesh3d"
           }
          ],
          "parcoords": [
           {
            "line": {
             "colorbar": {
              "outlinewidth": 0,
              "ticks": ""
             }
            },
            "type": "parcoords"
           }
          ],
          "pie": [
           {
            "automargin": true,
            "type": "pie"
           }
          ],
          "scatter": [
           {
            "fillpattern": {
             "fillmode": "overlay",
             "size": 10,
             "solidity": 0.2
            },
            "type": "scatter"
           }
          ],
          "scatter3d": [
           {
            "line": {
             "colorbar": {
              "outlinewidth": 0,
              "ticks": ""
             }
            },
            "marker": {
             "colorbar": {
              "outlinewidth": 0,
              "ticks": ""
             }
            },
            "type": "scatter3d"
           }
          ],
          "scattercarpet": [
           {
            "marker": {
             "colorbar": {
              "outlinewidth": 0,
              "ticks": ""
             }
            },
            "type": "scattercarpet"
           }
          ],
          "scattergeo": [
           {
            "marker": {
             "colorbar": {
              "outlinewidth": 0,
              "ticks": ""
             }
            },
            "type": "scattergeo"
           }
          ],
          "scattergl": [
           {
            "marker": {
             "colorbar": {
              "outlinewidth": 0,
              "ticks": ""
             }
            },
            "type": "scattergl"
           }
          ],
          "scattermapbox": [
           {
            "marker": {
             "colorbar": {
              "outlinewidth": 0,
              "ticks": ""
             }
            },
            "type": "scattermapbox"
           }
          ],
          "scatterpolar": [
           {
            "marker": {
             "colorbar": {
              "outlinewidth": 0,
              "ticks": ""
             }
            },
            "type": "scatterpolar"
           }
          ],
          "scatterpolargl": [
           {
            "marker": {
             "colorbar": {
              "outlinewidth": 0,
              "ticks": ""
             }
            },
            "type": "scatterpolargl"
           }
          ],
          "scatterternary": [
           {
            "marker": {
             "colorbar": {
              "outlinewidth": 0,
              "ticks": ""
             }
            },
            "type": "scatterternary"
           }
          ],
          "surface": [
           {
            "colorbar": {
             "outlinewidth": 0,
             "ticks": ""
            },
            "colorscale": [
             [
              0,
              "#0d0887"
             ],
             [
              0.1111111111111111,
              "#46039f"
             ],
             [
              0.2222222222222222,
              "#7201a8"
             ],
             [
              0.3333333333333333,
              "#9c179e"
             ],
             [
              0.4444444444444444,
              "#bd3786"
             ],
             [
              0.5555555555555556,
              "#d8576b"
             ],
             [
              0.6666666666666666,
              "#ed7953"
             ],
             [
              0.7777777777777778,
              "#fb9f3a"
             ],
             [
              0.8888888888888888,
              "#fdca26"
             ],
             [
              1,
              "#f0f921"
             ]
            ],
            "type": "surface"
           }
          ],
          "table": [
           {
            "cells": {
             "fill": {
              "color": "#EBF0F8"
             },
             "line": {
              "color": "white"
             }
            },
            "header": {
             "fill": {
              "color": "#C8D4E3"
             },
             "line": {
              "color": "white"
             }
            },
            "type": "table"
           }
          ]
         },
         "layout": {
          "annotationdefaults": {
           "arrowcolor": "#2a3f5f",
           "arrowhead": 0,
           "arrowwidth": 1
          },
          "autotypenumbers": "strict",
          "coloraxis": {
           "colorbar": {
            "outlinewidth": 0,
            "ticks": ""
           }
          },
          "colorscale": {
           "diverging": [
            [
             0,
             "#8e0152"
            ],
            [
             0.1,
             "#c51b7d"
            ],
            [
             0.2,
             "#de77ae"
            ],
            [
             0.3,
             "#f1b6da"
            ],
            [
             0.4,
             "#fde0ef"
            ],
            [
             0.5,
             "#f7f7f7"
            ],
            [
             0.6,
             "#e6f5d0"
            ],
            [
             0.7,
             "#b8e186"
            ],
            [
             0.8,
             "#7fbc41"
            ],
            [
             0.9,
             "#4d9221"
            ],
            [
             1,
             "#276419"
            ]
           ],
           "sequential": [
            [
             0,
             "#0d0887"
            ],
            [
             0.1111111111111111,
             "#46039f"
            ],
            [
             0.2222222222222222,
             "#7201a8"
            ],
            [
             0.3333333333333333,
             "#9c179e"
            ],
            [
             0.4444444444444444,
             "#bd3786"
            ],
            [
             0.5555555555555556,
             "#d8576b"
            ],
            [
             0.6666666666666666,
             "#ed7953"
            ],
            [
             0.7777777777777778,
             "#fb9f3a"
            ],
            [
             0.8888888888888888,
             "#fdca26"
            ],
            [
             1,
             "#f0f921"
            ]
           ],
           "sequentialminus": [
            [
             0,
             "#0d0887"
            ],
            [
             0.1111111111111111,
             "#46039f"
            ],
            [
             0.2222222222222222,
             "#7201a8"
            ],
            [
             0.3333333333333333,
             "#9c179e"
            ],
            [
             0.4444444444444444,
             "#bd3786"
            ],
            [
             0.5555555555555556,
             "#d8576b"
            ],
            [
             0.6666666666666666,
             "#ed7953"
            ],
            [
             0.7777777777777778,
             "#fb9f3a"
            ],
            [
             0.8888888888888888,
             "#fdca26"
            ],
            [
             1,
             "#f0f921"
            ]
           ]
          },
          "colorway": [
           "#636efa",
           "#EF553B",
           "#00cc96",
           "#ab63fa",
           "#FFA15A",
           "#19d3f3",
           "#FF6692",
           "#B6E880",
           "#FF97FF",
           "#FECB52"
          ],
          "font": {
           "color": "#2a3f5f"
          },
          "geo": {
           "bgcolor": "white",
           "lakecolor": "white",
           "landcolor": "#E5ECF6",
           "showlakes": true,
           "showland": true,
           "subunitcolor": "white"
          },
          "hoverlabel": {
           "align": "left"
          },
          "hovermode": "closest",
          "mapbox": {
           "style": "light"
          },
          "paper_bgcolor": "white",
          "plot_bgcolor": "#E5ECF6",
          "polar": {
           "angularaxis": {
            "gridcolor": "white",
            "linecolor": "white",
            "ticks": ""
           },
           "bgcolor": "#E5ECF6",
           "radialaxis": {
            "gridcolor": "white",
            "linecolor": "white",
            "ticks": ""
           }
          },
          "scene": {
           "xaxis": {
            "backgroundcolor": "#E5ECF6",
            "gridcolor": "white",
            "gridwidth": 2,
            "linecolor": "white",
            "showbackground": true,
            "ticks": "",
            "zerolinecolor": "white"
           },
           "yaxis": {
            "backgroundcolor": "#E5ECF6",
            "gridcolor": "white",
            "gridwidth": 2,
            "linecolor": "white",
            "showbackground": true,
            "ticks": "",
            "zerolinecolor": "white"
           },
           "zaxis": {
            "backgroundcolor": "#E5ECF6",
            "gridcolor": "white",
            "gridwidth": 2,
            "linecolor": "white",
            "showbackground": true,
            "ticks": "",
            "zerolinecolor": "white"
           }
          },
          "shapedefaults": {
           "line": {
            "color": "#2a3f5f"
           }
          },
          "ternary": {
           "aaxis": {
            "gridcolor": "white",
            "linecolor": "white",
            "ticks": ""
           },
           "baxis": {
            "gridcolor": "white",
            "linecolor": "white",
            "ticks": ""
           },
           "bgcolor": "#E5ECF6",
           "caxis": {
            "gridcolor": "white",
            "linecolor": "white",
            "ticks": ""
           }
          },
          "title": {
           "x": 0.05
          },
          "xaxis": {
           "automargin": true,
           "gridcolor": "white",
           "linecolor": "white",
           "ticks": "",
           "title": {
            "standoff": 15
           },
           "zerolinecolor": "white",
           "zerolinewidth": 2
          },
          "yaxis": {
           "automargin": true,
           "gridcolor": "white",
           "linecolor": "white",
           "ticks": "",
           "title": {
            "standoff": 15
           },
           "zerolinecolor": "white",
           "zerolinewidth": 2
          }
         }
        },
        "title": {
         "text": "Hyperparameter Importances"
        },
        "xaxis": {
         "title": {
          "text": "Importance for Objective Value"
         }
        },
        "yaxis": {
         "title": {
          "text": "Hyperparameter"
         }
        }
       }
      },
      "text/html": [
       "<div>                            <div id=\"c3a28611-0173-401a-8ede-8375b6ce4a94\" class=\"plotly-graph-div\" style=\"height:525px; width:100%;\"></div>            <script type=\"text/javascript\">                require([\"plotly\"], function(Plotly) {                    window.PLOTLYENV=window.PLOTLYENV || {};                                    if (document.getElementById(\"c3a28611-0173-401a-8ede-8375b6ce4a94\")) {                    Plotly.newPlot(                        \"c3a28611-0173-401a-8ede-8375b6ce4a94\",                        [{\"cliponaxis\":false,\"hovertemplate\":[\"alpha (FloatDistribution): 0.2030487929764909<extra></extra>\",\"lambda (FloatDistribution): 0.2820940223189099<extra></extra>\",\"booster (CategoricalDistribution): 0.5148571847045993<extra></extra>\"],\"marker\":{\"color\":\"rgb(66,146,198)\"},\"orientation\":\"h\",\"text\":[\"0.20\",\"0.28\",\"0.51\"],\"textposition\":\"outside\",\"x\":[0.2030487929764909,0.2820940223189099,0.5148571847045993],\"y\":[\"alpha\",\"lambda\",\"booster\"],\"type\":\"bar\"}],                        {\"showlegend\":false,\"title\":{\"text\":\"Hyperparameter Importances\"},\"xaxis\":{\"title\":{\"text\":\"Importance for Objective Value\"}},\"yaxis\":{\"title\":{\"text\":\"Hyperparameter\"}},\"template\":{\"data\":{\"histogram2dcontour\":[{\"type\":\"histogram2dcontour\",\"colorbar\":{\"outlinewidth\":0,\"ticks\":\"\"},\"colorscale\":[[0.0,\"#0d0887\"],[0.1111111111111111,\"#46039f\"],[0.2222222222222222,\"#7201a8\"],[0.3333333333333333,\"#9c179e\"],[0.4444444444444444,\"#bd3786\"],[0.5555555555555556,\"#d8576b\"],[0.6666666666666666,\"#ed7953\"],[0.7777777777777778,\"#fb9f3a\"],[0.8888888888888888,\"#fdca26\"],[1.0,\"#f0f921\"]]}],\"choropleth\":[{\"type\":\"choropleth\",\"colorbar\":{\"outlinewidth\":0,\"ticks\":\"\"}}],\"histogram2d\":[{\"type\":\"histogram2d\",\"colorbar\":{\"outlinewidth\":0,\"ticks\":\"\"},\"colorscale\":[[0.0,\"#0d0887\"],[0.1111111111111111,\"#46039f\"],[0.2222222222222222,\"#7201a8\"],[0.3333333333333333,\"#9c179e\"],[0.4444444444444444,\"#bd3786\"],[0.5555555555555556,\"#d8576b\"],[0.6666666666666666,\"#ed7953\"],[0.7777777777777778,\"#fb9f3a\"],[0.8888888888888888,\"#fdca26\"],[1.0,\"#f0f921\"]]}],\"heatmap\":[{\"type\":\"heatmap\",\"colorbar\":{\"outlinewidth\":0,\"ticks\":\"\"},\"colorscale\":[[0.0,\"#0d0887\"],[0.1111111111111111,\"#46039f\"],[0.2222222222222222,\"#7201a8\"],[0.3333333333333333,\"#9c179e\"],[0.4444444444444444,\"#bd3786\"],[0.5555555555555556,\"#d8576b\"],[0.6666666666666666,\"#ed7953\"],[0.7777777777777778,\"#fb9f3a\"],[0.8888888888888888,\"#fdca26\"],[1.0,\"#f0f921\"]]}],\"heatmapgl\":[{\"type\":\"heatmapgl\",\"colorbar\":{\"outlinewidth\":0,\"ticks\":\"\"},\"colorscale\":[[0.0,\"#0d0887\"],[0.1111111111111111,\"#46039f\"],[0.2222222222222222,\"#7201a8\"],[0.3333333333333333,\"#9c179e\"],[0.4444444444444444,\"#bd3786\"],[0.5555555555555556,\"#d8576b\"],[0.6666666666666666,\"#ed7953\"],[0.7777777777777778,\"#fb9f3a\"],[0.8888888888888888,\"#fdca26\"],[1.0,\"#f0f921\"]]}],\"contourcarpet\":[{\"type\":\"contourcarpet\",\"colorbar\":{\"outlinewidth\":0,\"ticks\":\"\"}}],\"contour\":[{\"type\":\"contour\",\"colorbar\":{\"outlinewidth\":0,\"ticks\":\"\"},\"colorscale\":[[0.0,\"#0d0887\"],[0.1111111111111111,\"#46039f\"],[0.2222222222222222,\"#7201a8\"],[0.3333333333333333,\"#9c179e\"],[0.4444444444444444,\"#bd3786\"],[0.5555555555555556,\"#d8576b\"],[0.6666666666666666,\"#ed7953\"],[0.7777777777777778,\"#fb9f3a\"],[0.8888888888888888,\"#fdca26\"],[1.0,\"#f0f921\"]]}],\"surface\":[{\"type\":\"surface\",\"colorbar\":{\"outlinewidth\":0,\"ticks\":\"\"},\"colorscale\":[[0.0,\"#0d0887\"],[0.1111111111111111,\"#46039f\"],[0.2222222222222222,\"#7201a8\"],[0.3333333333333333,\"#9c179e\"],[0.4444444444444444,\"#bd3786\"],[0.5555555555555556,\"#d8576b\"],[0.6666666666666666,\"#ed7953\"],[0.7777777777777778,\"#fb9f3a\"],[0.8888888888888888,\"#fdca26\"],[1.0,\"#f0f921\"]]}],\"mesh3d\":[{\"type\":\"mesh3d\",\"colorbar\":{\"outlinewidth\":0,\"ticks\":\"\"}}],\"scatter\":[{\"fillpattern\":{\"fillmode\":\"overlay\",\"size\":10,\"solidity\":0.2},\"type\":\"scatter\"}],\"parcoords\":[{\"type\":\"parcoords\",\"line\":{\"colorbar\":{\"outlinewidth\":0,\"ticks\":\"\"}}}],\"scatterpolargl\":[{\"type\":\"scatterpolargl\",\"marker\":{\"colorbar\":{\"outlinewidth\":0,\"ticks\":\"\"}}}],\"bar\":[{\"error_x\":{\"color\":\"#2a3f5f\"},\"error_y\":{\"color\":\"#2a3f5f\"},\"marker\":{\"line\":{\"color\":\"#E5ECF6\",\"width\":0.5},\"pattern\":{\"fillmode\":\"overlay\",\"size\":10,\"solidity\":0.2}},\"type\":\"bar\"}],\"scattergeo\":[{\"type\":\"scattergeo\",\"marker\":{\"colorbar\":{\"outlinewidth\":0,\"ticks\":\"\"}}}],\"scatterpolar\":[{\"type\":\"scatterpolar\",\"marker\":{\"colorbar\":{\"outlinewidth\":0,\"ticks\":\"\"}}}],\"histogram\":[{\"marker\":{\"pattern\":{\"fillmode\":\"overlay\",\"size\":10,\"solidity\":0.2}},\"type\":\"histogram\"}],\"scattergl\":[{\"type\":\"scattergl\",\"marker\":{\"colorbar\":{\"outlinewidth\":0,\"ticks\":\"\"}}}],\"scatter3d\":[{\"type\":\"scatter3d\",\"line\":{\"colorbar\":{\"outlinewidth\":0,\"ticks\":\"\"}},\"marker\":{\"colorbar\":{\"outlinewidth\":0,\"ticks\":\"\"}}}],\"scattermapbox\":[{\"type\":\"scattermapbox\",\"marker\":{\"colorbar\":{\"outlinewidth\":0,\"ticks\":\"\"}}}],\"scatterternary\":[{\"type\":\"scatterternary\",\"marker\":{\"colorbar\":{\"outlinewidth\":0,\"ticks\":\"\"}}}],\"scattercarpet\":[{\"type\":\"scattercarpet\",\"marker\":{\"colorbar\":{\"outlinewidth\":0,\"ticks\":\"\"}}}],\"carpet\":[{\"aaxis\":{\"endlinecolor\":\"#2a3f5f\",\"gridcolor\":\"white\",\"linecolor\":\"white\",\"minorgridcolor\":\"white\",\"startlinecolor\":\"#2a3f5f\"},\"baxis\":{\"endlinecolor\":\"#2a3f5f\",\"gridcolor\":\"white\",\"linecolor\":\"white\",\"minorgridcolor\":\"white\",\"startlinecolor\":\"#2a3f5f\"},\"type\":\"carpet\"}],\"table\":[{\"cells\":{\"fill\":{\"color\":\"#EBF0F8\"},\"line\":{\"color\":\"white\"}},\"header\":{\"fill\":{\"color\":\"#C8D4E3\"},\"line\":{\"color\":\"white\"}},\"type\":\"table\"}],\"barpolar\":[{\"marker\":{\"line\":{\"color\":\"#E5ECF6\",\"width\":0.5},\"pattern\":{\"fillmode\":\"overlay\",\"size\":10,\"solidity\":0.2}},\"type\":\"barpolar\"}],\"pie\":[{\"automargin\":true,\"type\":\"pie\"}]},\"layout\":{\"autotypenumbers\":\"strict\",\"colorway\":[\"#636efa\",\"#EF553B\",\"#00cc96\",\"#ab63fa\",\"#FFA15A\",\"#19d3f3\",\"#FF6692\",\"#B6E880\",\"#FF97FF\",\"#FECB52\"],\"font\":{\"color\":\"#2a3f5f\"},\"hovermode\":\"closest\",\"hoverlabel\":{\"align\":\"left\"},\"paper_bgcolor\":\"white\",\"plot_bgcolor\":\"#E5ECF6\",\"polar\":{\"bgcolor\":\"#E5ECF6\",\"angularaxis\":{\"gridcolor\":\"white\",\"linecolor\":\"white\",\"ticks\":\"\"},\"radialaxis\":{\"gridcolor\":\"white\",\"linecolor\":\"white\",\"ticks\":\"\"}},\"ternary\":{\"bgcolor\":\"#E5ECF6\",\"aaxis\":{\"gridcolor\":\"white\",\"linecolor\":\"white\",\"ticks\":\"\"},\"baxis\":{\"gridcolor\":\"white\",\"linecolor\":\"white\",\"ticks\":\"\"},\"caxis\":{\"gridcolor\":\"white\",\"linecolor\":\"white\",\"ticks\":\"\"}},\"coloraxis\":{\"colorbar\":{\"outlinewidth\":0,\"ticks\":\"\"}},\"colorscale\":{\"sequential\":[[0.0,\"#0d0887\"],[0.1111111111111111,\"#46039f\"],[0.2222222222222222,\"#7201a8\"],[0.3333333333333333,\"#9c179e\"],[0.4444444444444444,\"#bd3786\"],[0.5555555555555556,\"#d8576b\"],[0.6666666666666666,\"#ed7953\"],[0.7777777777777778,\"#fb9f3a\"],[0.8888888888888888,\"#fdca26\"],[1.0,\"#f0f921\"]],\"sequentialminus\":[[0.0,\"#0d0887\"],[0.1111111111111111,\"#46039f\"],[0.2222222222222222,\"#7201a8\"],[0.3333333333333333,\"#9c179e\"],[0.4444444444444444,\"#bd3786\"],[0.5555555555555556,\"#d8576b\"],[0.6666666666666666,\"#ed7953\"],[0.7777777777777778,\"#fb9f3a\"],[0.8888888888888888,\"#fdca26\"],[1.0,\"#f0f921\"]],\"diverging\":[[0,\"#8e0152\"],[0.1,\"#c51b7d\"],[0.2,\"#de77ae\"],[0.3,\"#f1b6da\"],[0.4,\"#fde0ef\"],[0.5,\"#f7f7f7\"],[0.6,\"#e6f5d0\"],[0.7,\"#b8e186\"],[0.8,\"#7fbc41\"],[0.9,\"#4d9221\"],[1,\"#276419\"]]},\"xaxis\":{\"gridcolor\":\"white\",\"linecolor\":\"white\",\"ticks\":\"\",\"title\":{\"standoff\":15},\"zerolinecolor\":\"white\",\"automargin\":true,\"zerolinewidth\":2},\"yaxis\":{\"gridcolor\":\"white\",\"linecolor\":\"white\",\"ticks\":\"\",\"title\":{\"standoff\":15},\"zerolinecolor\":\"white\",\"automargin\":true,\"zerolinewidth\":2},\"scene\":{\"xaxis\":{\"backgroundcolor\":\"#E5ECF6\",\"gridcolor\":\"white\",\"linecolor\":\"white\",\"showbackground\":true,\"ticks\":\"\",\"zerolinecolor\":\"white\",\"gridwidth\":2},\"yaxis\":{\"backgroundcolor\":\"#E5ECF6\",\"gridcolor\":\"white\",\"linecolor\":\"white\",\"showbackground\":true,\"ticks\":\"\",\"zerolinecolor\":\"white\",\"gridwidth\":2},\"zaxis\":{\"backgroundcolor\":\"#E5ECF6\",\"gridcolor\":\"white\",\"linecolor\":\"white\",\"showbackground\":true,\"ticks\":\"\",\"zerolinecolor\":\"white\",\"gridwidth\":2}},\"shapedefaults\":{\"line\":{\"color\":\"#2a3f5f\"}},\"annotationdefaults\":{\"arrowcolor\":\"#2a3f5f\",\"arrowhead\":0,\"arrowwidth\":1},\"geo\":{\"bgcolor\":\"white\",\"landcolor\":\"#E5ECF6\",\"subunitcolor\":\"white\",\"showland\":true,\"showlakes\":true,\"lakecolor\":\"white\"},\"title\":{\"x\":0.05},\"mapbox\":{\"style\":\"light\"}}}},                        {\"responsive\": true}                    ).then(function(){\n",
       "                            \n",
       "var gd = document.getElementById('c3a28611-0173-401a-8ede-8375b6ce4a94');\n",
       "var x = new MutationObserver(function (mutations, observer) {{\n",
       "        var display = window.getComputedStyle(gd).display;\n",
       "        if (!display || display === 'none') {{\n",
       "            console.log([gd, 'removed!']);\n",
       "            Plotly.purge(gd);\n",
       "            observer.disconnect();\n",
       "        }}\n",
       "}});\n",
       "\n",
       "// Listen for the removal of the full notebook cells\n",
       "var notebookContainer = gd.closest('#notebook-container');\n",
       "if (notebookContainer) {{\n",
       "    x.observe(notebookContainer, {childList: true});\n",
       "}}\n",
       "\n",
       "// Listen for the clearing of the current output cell\n",
       "var outputEl = gd.closest('.output');\n",
       "if (outputEl) {{\n",
       "    x.observe(outputEl, {childList: true});\n",
       "}}\n",
       "\n",
       "                        })                };                });            </script>        </div>"
      ]
     },
     "metadata": {},
     "output_type": "display_data"
    }
   ],
   "source": [
    "#Visualize parameter importances.\n",
    "optuna.visualization.plot_param_importances(study)"
   ]
  },
  {
   "cell_type": "code",
   "execution_count": null,
   "metadata": {},
   "outputs": [],
   "source": []
  }
 ],
 "metadata": {
  "colab": {
   "provenance": []
  },
  "kernelspec": {
   "display_name": "Python 3 (ipykernel)",
   "language": "python",
   "name": "python3"
  },
  "language_info": {
   "codemirror_mode": {
    "name": "ipython",
    "version": 3
   },
   "file_extension": ".py",
   "mimetype": "text/x-python",
   "name": "python",
   "nbconvert_exporter": "python",
   "pygments_lexer": "ipython3",
   "version": "3.9.16"
  },
  "toc": {
   "base_numbering": 1,
   "nav_menu": {},
   "number_sections": true,
   "sideBar": true,
   "skip_h1_title": false,
   "title_cell": "Table of Contents",
   "title_sidebar": "Contents",
   "toc_cell": false,
   "toc_position": {},
   "toc_section_display": true,
   "toc_window_display": false
  }
 },
 "nbformat": 4,
 "nbformat_minor": 1
}
